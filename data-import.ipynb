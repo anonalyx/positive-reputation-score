{
 "cells": [
  {
   "cell_type": "code",
   "execution_count": 1,
   "id": "02019464",
   "metadata": {
    "ExecuteTime": {
     "start_time": "2023-04-19T15:26:52.848349Z",
     "end_time": "2023-04-19T15:26:53.388985Z"
    }
   },
   "outputs": [],
   "source": [
    "import json\n",
    "import os\n",
    "import pandas\n",
    "import numpy\n",
    "import requests\n",
    "import time\n",
    "API_KEY = ''\n",
    "with open('KEYS.txt', 'r') as file:\n",
    "    API_KEY = file.read().strip()"
   ]
  },
  {
   "cell_type": "markdown",
   "id": "1dd46edb",
   "metadata": {},
   "source": [
    "## Multivariate Data Analysis Problem:\n",
    "\n",
    "Last year was the best year ever for hackers, phishers, and scammers on public blockchain networks. An estimated $3.8 Billion was stolen, primarily from Decentralized Finance protocols and by North Korea-linked attackers. Developing an identity-based positive reputation score is one key tool needed to combat and prevent these attacks, and allowing the technology to flourish and grow.\n",
    "\n",
    "Public blockchain networks are pseudonymous, meaning that while the real-world identity of a blockchain 'user' may not be known, all of their activities and every transaction that they publish to the blockchain network is publicly available. Similar to how although the exact identity of a pseudonymous author is not known, every piece of writing they publish under the pseudonymous identity can be aggregated and analyzed. \n",
    "\n",
    "Blockchains are state machines, meaning the system is described by the chain of its initial, intermediary, and final states. Each state is entirely described by the previous state of the system, and the sum of all 'transactions' in each block. A transaction in this context is a valid operation within the system that mutates the blockchain data structure in some way.\n",
    "\n",
    "A blockchain 'identity' is thus an individuals public blockchain identifier (known as a public address), and all of the transactions that affect that public address (likely as the sender or recipient). A positive reputation score associated with a blockchain identity would be a metric that accurately identifies addresses that are likely to be non-malicious.\n",
    "\n",
    "In this analysis, I seek to identify an initial heuristic for positive reputation that can be further refined and expanded into a more comprehensive model for postive reputation. The goal is to eventlually classify, with high precision, whether a submitted transaction is \"honest\" or \"reputation inconclusive\"\n"
   ]
  },
  {
   "cell_type": "markdown",
   "id": "311d1574",
   "metadata": {},
   "source": [
    "## Project Description:\n",
    "\n",
    "What we are trying to identify with this project is a set of heuristics that, with extremely high confidence, will predict that a transaction  is \"honest\". In this context, honest means, that the transaction is not a malicious transaction. Examples of malicious transactions include the movement of funds in the procession of fraud, money laundering, hacks, scams, etc.\n",
    "\n",
    "To identify whether or not an ethereum transaction is honest, we must examine the transaction metadata that is publicly available (and published in real time) on the blockchain network, as well as the additional metadata related to the transaction. For our purposes, transaction metadata includes the details on the sender, the recipient, the amount, the timestamp, and over. Related transaction metadata would include additional data related to the sender, recipient, and timestamp, such as the balance of the sending address, the balance of the receiving address, and other information.\n",
    "\n",
    "Given that transaction data is in the form of a time series, it is important to clearly define the population and objective. The population of data that we are interested in is all transaction activity from the period 2021-04-01 to 2023-04-01. We choose this upper and lower bound on the period in consideration, because the transaction volume on the ethereum network is not normally distributed across the entire lifetime of the network. We want our period to capture activity reflective of the modern network usage, and to not overweight early transaction data that may not be relevant to modern network usage. Thus, we select a period of the two current years.\n",
    "\n",
    "## Data Source:\n",
    "The data we are using is provided by Allium, which is an enterprise grade blockchain data provider. Allium provides infrastructure to enterprises that needed institutional scale access to querying live blockchain datasets. Allium's data comes directly from the nodes that it runs on the networks, so we have confidence that the data is accurate. By the nature of blockchain networks, we can have confidence that there is no missing or non-standardized data. In order to import the data from Allium, I will first have to write the SQL within their query builder, on their website, and then either export the data via CSV download, or import directly via API call into this jupyter notebook.\n"
   ]
  },
  {
   "cell_type": "markdown",
   "id": "a25661f6",
   "metadata": {},
   "source": []
  },
  {
   "cell_type": "code",
   "execution_count": 2,
   "id": "01fcc1ce",
   "metadata": {
    "ExecuteTime": {
     "start_time": "2023-04-19T15:26:53.389461Z",
     "end_time": "2023-04-19T15:26:53.393846Z"
    }
   },
   "outputs": [
    {
     "name": "stderr",
     "output_type": "stream",
     "text": [
      "/Users/alexcullen/anaconda3/lib/python3.9/site-packages/IPython/core/display.py:431: UserWarning: Consider using IPython.display.IFrame instead\n",
      "  warnings.warn(\"Consider using IPython.display.IFrame instead\")\n"
     ]
    },
    {
     "data": {
      "text/plain": "<IPython.core.display.HTML object>",
      "text/html": "<iframe src=\"https://embed.theblockcrypto.com/data/on-chain-metrics/ethereum/ethereums-adjusted-on-chain-volume-daily/embed\" width=\"100%\" height=\"420\" frameborder=\"0\" allowfullscreen></iframe>"
     },
     "execution_count": 2,
     "metadata": {},
     "output_type": "execute_result"
    }
   ],
   "source": [
    "from IPython.display import HTML\n",
    "\n",
    "url = \"https://embed.theblockcrypto.com/data/on-chain-metrics/ethereum/ethereums-adjusted-on-chain-volume-daily/embed\"\n",
    "\n",
    "iframe_code = f'<iframe src=\"{url}\" width=\"100%\" height=\"420\" frameborder=\"0\" allowfullscreen></iframe>'\n",
    "\n",
    "HTML(iframe_code)"
   ]
  },
  {
   "cell_type": "markdown",
   "id": "bdacbe3e",
   "metadata": {},
   "source": [
    "## Data Description:\n",
    "A blockchain can be understood as basically a single data structure. The Structure is entirely comprised of a linear sequence of blocks. Each block has a number, beginning at 1 (the genesis block), and updating each time a new block is found. As of the writing of this post, there have been more than 780,000 blocks discovered. Each block contains a batch of transcations. Each transaction contains details on the sender and recipient, value, etc. Ethereum blockchain addresses have one of two classifications, they are either autonomous (smart contracts), or they Externally Owned Accounts. We are only concerned with transactions initiated by Externally Owned Accounts, for the purposes of identifying \"honest\" transaction originators.\n",
    "\n",
    "Additionally Allium has maintains a database table called \"Ethereum Assets\", which enriches the existing metadata to provide useful intelligence on things like current account balance, or time of last activity.\n",
    "\n",
    "Together, the datasets that we are interested in are: Transactions, Blocks, Contracts, and Assets"
   ]
  },
  {
   "cell_type": "markdown",
   "id": "61171cc5",
   "metadata": {},
   "source": [
    "## APA citation for datasets:\n",
    "Allium.so. (n.d.). Ethereum Raw Transactions [Data set]. Allium.so. Retrieved from https://allium.so/\n",
    "\n",
    "Allium.so. (n.d.). Ethereum Raw Blocks [Data set]. Allium.so. Retrieved from https://allium.so/\n",
    "\n",
    "Allium.so. (n.d.). Ethereum Raw Contracts [Data set]. Allium.so. Retrieved from https://allium.so/\n",
    "\n",
    "Allium.so. (n.d.). Ethereum Assets [Data set]. Allium.so. Retrieved from https://allium.so/"
   ]
  },
  {
   "cell_type": "markdown",
   "id": "4de0e4d9",
   "metadata": {},
   "source": [
    "## Features available in a blockchain transaction\n",
    "| Column Name       | Description\t                                                                                                                                                                                         | Example                                                             |\n",
    "|:--------|:-----------------------------------------------------------------------------------------------------------------------------------------------------------------------------------------------------|:--------------------------------------------------------------------|\n",
    "| block_timestamp      | The time when the block that contains this transaction was included on the blockchain.                                                                                                               | 2022-09-16 04:59:59                                                 |\n",
    "| block_number\t                   | The length of the chain, in blocks                                                                                                                                                                   | 15543975                                                            |\n",
    "| block_hash\t| Unique identifier of the block that includes this transaction.\t                                                                                                                                      | 0xe3eb6f24b34ab179646608ca100a3cd1d2fd1144f83544d029c0352429371b6d  |\n",
    "| hash\t| Unique identifier of a transaction.                                                                                                                                                                  | \t0x9068357001dc45c59a0c0383860f25fd64daeef205f723c5cbd980f280baca38 |\n",
    "|from_address\t| The address of the sending party of this transaction.                                                                                                                                                | \t0x7e63870ac9cb1491928e3c8922c19b2595331ac9                         |\n",
    "|to_address\t| The address of the receiving party of this transaction (could be a contract address). | \t0x68b3465833fb72a70ecdf485e0e4c7bd8665fc45                         |\n",
    "|value\t| The amount of ether sent in this transaction, in wei.                                                                                                                                                | \t341813481343000822                                                 |\n",
    "|receipt_status\t| Success status of the transaction. Either 1 (success) or 0 (failure).\t                                                                                                                               | 1                                                                   |\n",
    "|gas\t| The maximum amount of gas allocated for this transaction in wei.\t                                                                                                                                    | 209392                                                              |\n",
    "|gas_price\t| Cost per unit of gas specified by the transaction in wei. The higher the gas price, the higher chance of getting included in a block.\t                                                               | 6545492045                                                          |\n",
    "|receipt_gas_used\t| Gas consumed by the transaction in wei.\t                                                                                                                                                             | 150272                                                              |\n",
    "|max_fee_per_gas\t| The maximum fee per gas that the transaction sender is willing to pay for this transaction (introduced in EIP1559)\t                                                                                  | 10293849223                                                         |\n",
    "|max_priority_fee_per_gas\t| The maximum fee per gas the transaction sender is willing to give to validators (Proof of Stake) or miners (Proof of Work) to incentivize them to include their transaction (introduced in EIP1559)\t | 2000000000                                                          |\n",
    "|transaction_index\t| The position of this transaction in the block that it belongs to. The first transaction has index 0.                                                                                                 | \t62                                                                 |\n",
    "|nonce\t| The transaction nonce, unique to the wallet                                                                                                                                                          | \t203                                                                |"
   ]
  },
  {
   "cell_type": "markdown",
   "id": "2deab510",
   "metadata": {},
   "source": [
    "## Data Cleaning and EDA:\n",
    "Our objective is to define one or more simple heuristics that can identify honest transactions with high accuracy. Total transaction count by different users is also not normally distributed. The small minority submit the vast majority of transactions. It's import for our sample to be representative of the population of unique transaction senders, and to not overweight a single individual who might send thousands or even hundreds of thousands of transactions.\n",
    "\n",
    "To do this, we will stratify our sample and randomly select within the strata. Before we do that, we must complete some exploratory data analysis to determine what appropriate stratification for the population of data might be.\n",
    "\n",
    "However, because this is time series data with hundreds of millions of records (if not more), we need to summarize the data such that it is possible for a query to execute in reasonable time. To begin, let's determine the total number of transactions and unique addresses transacting in the period. We will summarize this data in intervals, and observe the resulting histogram to determine the portion of transactions that fall within arbitrary buckets.\n",
    "\n",
    "Because the dataset is too large to directly import into the jupyter notebook, the below output is the result of an SQL query run on the Allium platform."
   ]
  },
  {
   "cell_type": "markdown",
   "id": "9afe11b6",
   "metadata": {},
   "source": [
    "## Population Sizing\n",
    "First we will get the population of all transactions, then we will filter out all transactions originated by entities other than Externally Owned Accounts. Then we will filter again by distinct originating addresses to arrive at our population of Unique Addresses and transactions in the period."
   ]
  },
  {
   "cell_type": "code",
   "execution_count": 3,
   "id": "8605d39b",
   "metadata": {
    "ExecuteTime": {
     "start_time": "2023-04-19T15:26:53.398344Z",
     "end_time": "2023-04-19T15:26:53.402755Z"
    }
   },
   "outputs": [
    {
     "data": {
      "text/plain": "                 filter      count\n0    Total Transactions  852808230\n1        Unique Senders   77212235\n2  Unique Human Senders   52301378",
      "text/html": "<div>\n<style scoped>\n    .dataframe tbody tr th:only-of-type {\n        vertical-align: middle;\n    }\n\n    .dataframe tbody tr th {\n        vertical-align: top;\n    }\n\n    .dataframe thead th {\n        text-align: right;\n    }\n</style>\n<table border=\"1\" class=\"dataframe\">\n  <thead>\n    <tr style=\"text-align: right;\">\n      <th></th>\n      <th>filter</th>\n      <th>count</th>\n    </tr>\n  </thead>\n  <tbody>\n    <tr>\n      <th>0</th>\n      <td>Total Transactions</td>\n      <td>852808230</td>\n    </tr>\n    <tr>\n      <th>1</th>\n      <td>Unique Senders</td>\n      <td>77212235</td>\n    </tr>\n    <tr>\n      <th>2</th>\n      <td>Unique Human Senders</td>\n      <td>52301378</td>\n    </tr>\n  </tbody>\n</table>\n</div>"
     },
     "execution_count": 3,
     "metadata": {},
     "output_type": "execute_result"
    }
   ],
   "source": [
    "import pandas as pd\n",
    "data = [{\"filter\":\"Total Transactions\",\"count\":852808230},\n",
    "        {\"filter\":\"Unique Senders\", \"count\": 77212235},\n",
    "        {\"filter\":\"Unique Human Senders\", \"count\": 52301378}]\n",
    "df = pd.DataFrame(data)\n",
    "df"
   ]
  },
  {
   "cell_type": "code",
   "execution_count": 4,
   "id": "7cf64159",
   "metadata": {
    "ExecuteTime": {
     "start_time": "2023-04-19T15:26:53.403861Z",
     "end_time": "2023-04-19T15:26:54.107193Z"
    }
   },
   "outputs": [
    {
     "data": {
      "text/plain": "<Figure size 640x480 with 1 Axes>",
      "image/png": "[encoded data removed]"
     },
     "metadata": {},
     "output_type": "display_data"
    }
   ],
   "source": [
    "import matplotlib.pyplot as plt\n",
    "\n",
    "filter = [item[\"filter\"] for item in data]\n",
    "count = [item[\"count\"] for item in data]\n",
    "\n",
    "plt.bar(filter, count)\n",
    "plt.xlabel(\"Population Summary\")\n",
    "plt.ylabel(\"Count\")\n",
    "plt.title(\"Total addresses vs cleaned addresses\")\n",
    "plt.show()"
   ]
  },
  {
   "cell_type": "markdown",
   "id": "ab1314f7",
   "metadata": {},
   "source": [
    "\n",
    "## Current Balance Data Visualization"
   ]
  },
  {
   "cell_type": "code",
   "execution_count": 5,
   "id": "09bf5d9e",
   "metadata": {
    "ExecuteTime": {
     "start_time": "2023-04-19T15:26:54.063858Z",
     "end_time": "2023-04-19T15:26:54.107617Z"
    }
   },
   "outputs": [],
   "source": [
    "\n",
    "data = [{\"eth_holdings\":\"0-0.1 ETH\",\"address_count\":48062697},{\"eth_holdings\":\"0.1-1 ETH\",\"address_count\":1659033},{\"eth_holdings\":\"1-10 ETH\",\"address_count\":603474},{\"eth_holdings\":\"10-100 ETH\",\"address_count\":151623},{\"eth_holdings\":\">100 ETH\",\"address_count\":25693}]\n",
    "df = pd.DataFrame(data)"
   ]
  },
  {
   "cell_type": "code",
   "execution_count": 6,
   "id": "13986ed3",
   "metadata": {
    "ExecuteTime": {
     "start_time": "2023-04-19T15:26:54.078665Z",
     "end_time": "2023-04-19T15:26:54.108208Z"
    }
   },
   "outputs": [
    {
     "data": {
      "text/plain": "  eth_holdings  address_count\n0    0-0.1 ETH       48062697\n1    0.1-1 ETH        1659033\n2     1-10 ETH         603474\n3   10-100 ETH         151623\n4     >100 ETH          25693",
      "text/html": "<div>\n<style scoped>\n    .dataframe tbody tr th:only-of-type {\n        vertical-align: middle;\n    }\n\n    .dataframe tbody tr th {\n        vertical-align: top;\n    }\n\n    .dataframe thead th {\n        text-align: right;\n    }\n</style>\n<table border=\"1\" class=\"dataframe\">\n  <thead>\n    <tr style=\"text-align: right;\">\n      <th></th>\n      <th>eth_holdings</th>\n      <th>address_count</th>\n    </tr>\n  </thead>\n  <tbody>\n    <tr>\n      <th>0</th>\n      <td>0-0.1 ETH</td>\n      <td>48062697</td>\n    </tr>\n    <tr>\n      <th>1</th>\n      <td>0.1-1 ETH</td>\n      <td>1659033</td>\n    </tr>\n    <tr>\n      <th>2</th>\n      <td>1-10 ETH</td>\n      <td>603474</td>\n    </tr>\n    <tr>\n      <th>3</th>\n      <td>10-100 ETH</td>\n      <td>151623</td>\n    </tr>\n    <tr>\n      <th>4</th>\n      <td>&gt;100 ETH</td>\n      <td>25693</td>\n    </tr>\n  </tbody>\n</table>\n</div>"
     },
     "execution_count": 6,
     "metadata": {},
     "output_type": "execute_result"
    }
   ],
   "source": [
    "df"
   ]
  },
  {
   "cell_type": "code",
   "execution_count": 7,
   "id": "e2758ca3",
   "metadata": {
    "ExecuteTime": {
     "start_time": "2023-04-19T15:26:54.092128Z",
     "end_time": "2023-04-19T15:26:54.108396Z"
    }
   },
   "outputs": [
    {
     "data": {
      "text/plain": "Index(['eth_holdings', 'address_count'], dtype='object')"
     },
     "execution_count": 7,
     "metadata": {},
     "output_type": "execute_result"
    }
   ],
   "source": [
    "df.columns"
   ]
  },
  {
   "cell_type": "code",
   "execution_count": 8,
   "id": "56c9dedd",
   "metadata": {
    "ExecuteTime": {
     "start_time": "2023-04-19T15:26:54.118506Z",
     "end_time": "2023-04-19T15:26:54.557431Z"
    }
   },
   "outputs": [
    {
     "data": {
      "text/plain": "<Figure size 640x480 with 1 Axes>",
      "image/png": "[encoded data removed]"
     },
     "metadata": {},
     "output_type": "display_data"
    }
   ],
   "source": [
    "import matplotlib.pyplot as plt\n",
    "\n",
    "eth_holdings = [item[\"eth_holdings\"] for item in data]\n",
    "address_count = [item[\"address_count\"] for item in data]\n",
    "\n",
    "plt.bar(eth_holdings, address_count)\n",
    "plt.xlabel(\"ETH Holdings\")\n",
    "plt.ylabel(\"Address Count\")\n",
    "plt.yscale(\"log\")\n",
    "plt.title(\"Histogram of ETH Holdings\")\n",
    "plt.show()"
   ]
  },
  {
   "cell_type": "markdown",
   "id": "ebac1d64",
   "metadata": {},
   "source": [
    "The above histogram shows the distribution of current ethereum balances (in log scale) for all wallets that transacted in the period ."
   ]
  },
  {
   "cell_type": "markdown",
   "id": "9f6d7ad3",
   "metadata": {},
   "source": [
    "## Total transaction count data visualization\n"
   ]
  },
  {
   "cell_type": "code",
   "execution_count": 9,
   "id": "68dfc423",
   "metadata": {
    "ExecuteTime": {
     "start_time": "2023-04-19T15:26:54.553076Z",
     "end_time": "2023-04-19T15:26:54.558966Z"
    }
   },
   "outputs": [
    {
     "data": {
      "text/plain": "          txn_count  address_count\n0              0. 0          74701\n1      b. 1-10 txns         211109\n2    c. 11-100 txns         191531\n3  d. 101-1000 txns         114627\n4     e. >1000 txns          21348\n5               sum         613316",
      "text/html": "<div>\n<style scoped>\n    .dataframe tbody tr th:only-of-type {\n        vertical-align: middle;\n    }\n\n    .dataframe tbody tr th {\n        vertical-align: top;\n    }\n\n    .dataframe thead th {\n        text-align: right;\n    }\n</style>\n<table border=\"1\" class=\"dataframe\">\n  <thead>\n    <tr style=\"text-align: right;\">\n      <th></th>\n      <th>txn_count</th>\n      <th>address_count</th>\n    </tr>\n  </thead>\n  <tbody>\n    <tr>\n      <th>0</th>\n      <td>0. 0</td>\n      <td>74701</td>\n    </tr>\n    <tr>\n      <th>1</th>\n      <td>b. 1-10 txns</td>\n      <td>211109</td>\n    </tr>\n    <tr>\n      <th>2</th>\n      <td>c. 11-100 txns</td>\n      <td>191531</td>\n    </tr>\n    <tr>\n      <th>3</th>\n      <td>d. 101-1000 txns</td>\n      <td>114627</td>\n    </tr>\n    <tr>\n      <th>4</th>\n      <td>e. &gt;1000 txns</td>\n      <td>21348</td>\n    </tr>\n    <tr>\n      <th>5</th>\n      <td>sum</td>\n      <td>613316</td>\n    </tr>\n  </tbody>\n</table>\n</div>"
     },
     "execution_count": 9,
     "metadata": {},
     "output_type": "execute_result"
    }
   ],
   "source": [
    "data=[{\"txn_count\":\"0. 0\",\"address_count\":74701}\n",
    "      ,{\"txn_count\":\"b. 1-10 txns\",\"address_count\":211109}\n",
    "      ,{\"txn_count\":\"c. 11-100 txns\",\"address_count\":191531}\n",
    "      ,{\"txn_count\":\"d. 101-1000 txns\",\"address_count\":114627}\n",
    "      ,{\"txn_count\":\"e. >1000 txns\",\"address_count\":21348}\n",
    "      ,{\"txn_count\":\"sum\",\"address_count\":613316}]\n",
    "df = pd.DataFrame(data)\n",
    "df"
   ]
  },
  {
   "cell_type": "code",
   "execution_count": 10,
   "id": "0baa11bb",
   "metadata": {
    "ExecuteTime": {
     "start_time": "2023-04-19T15:26:54.566403Z",
     "end_time": "2023-04-19T15:26:54.713965Z"
    }
   },
   "outputs": [
    {
     "data": {
      "text/plain": "Text(0.5, 1.0, 'Histogram of Transaction Counts')"
     },
     "execution_count": 10,
     "metadata": {},
     "output_type": "execute_result"
    },
    {
     "data": {
      "text/plain": "<Figure size 640x480 with 1 Axes>",
      "image/png": "[encoded data removed]"
     },
     "metadata": {},
     "output_type": "display_data"
    }
   ],
   "source": [
    "import matplotlib.pyplot as plt\n",
    "\n",
    "tx_counts = [item[\"txn_count\"] for item in data[:-1]]\n",
    "address_count = [item[\"address_count\"] for item in data[:-1]]\n",
    "\n",
    "plt.bar(tx_counts, address_count)\n",
    "plt.xlabel(\"Lifetime Transactions\")\n",
    "plt.ylabel(\"Address Count\")\n",
    "plt.title(\"Histogram of Transaction Counts\")"
   ]
  },
  {
   "cell_type": "markdown",
   "id": "06a2715b",
   "metadata": {},
   "source": [
    "A histogram of the lifetime transaction count of all transacting addresses in the period"
   ]
  },
  {
   "cell_type": "code",
   "execution_count": 11,
   "id": "22850913",
   "metadata": {
    "ExecuteTime": {
     "end_time": "2023-04-05T22:54:30.230598Z",
     "start_time": "2023-04-05T22:54:30.217314Z"
    }
   },
   "outputs": [
    {
     "ename": "FileNotFoundError",
     "evalue": "[Errno 2] No such file or directory: 'img/Unique_Address_Count.png'",
     "output_type": "error",
     "traceback": [
      "\u001B[0;31m---------------------------------------------------------------------------\u001B[0m",
      "\u001B[0;31mFileNotFoundError\u001B[0m                         Traceback (most recent call last)",
      "Cell \u001B[0;32mIn[11], line 7\u001B[0m\n\u001B[1;32m      4\u001B[0m image_file_path \u001B[38;5;241m=\u001B[39m \u001B[38;5;124m'\u001B[39m\u001B[38;5;124mpath/to/your/image.png\u001B[39m\u001B[38;5;124m'\u001B[39m\n\u001B[1;32m      6\u001B[0m \u001B[38;5;66;03m# Display the image in the notebook\u001B[39;00m\n\u001B[0;32m----> 7\u001B[0m \u001B[43mImage\u001B[49m\u001B[43m(\u001B[49m\u001B[43mfilename\u001B[49m\u001B[38;5;241;43m=\u001B[39;49m\u001B[38;5;124;43m'\u001B[39;49m\u001B[38;5;124;43mimg/Unique_Address_Count.png\u001B[39;49m\u001B[38;5;124;43m'\u001B[39;49m\u001B[43m)\u001B[49m\n",
      "File \u001B[0;32m~/anaconda3/lib/python3.9/site-packages/IPython/core/display.py:970\u001B[0m, in \u001B[0;36mImage.__init__\u001B[0;34m(self, data, url, filename, format, embed, width, height, retina, unconfined, metadata, alt)\u001B[0m\n\u001B[1;32m    968\u001B[0m \u001B[38;5;28mself\u001B[39m\u001B[38;5;241m.\u001B[39munconfined \u001B[38;5;241m=\u001B[39m unconfined\n\u001B[1;32m    969\u001B[0m \u001B[38;5;28mself\u001B[39m\u001B[38;5;241m.\u001B[39malt \u001B[38;5;241m=\u001B[39m alt\n\u001B[0;32m--> 970\u001B[0m \u001B[38;5;28;43msuper\u001B[39;49m\u001B[43m(\u001B[49m\u001B[43mImage\u001B[49m\u001B[43m,\u001B[49m\u001B[43m \u001B[49m\u001B[38;5;28;43mself\u001B[39;49m\u001B[43m)\u001B[49m\u001B[38;5;241;43m.\u001B[39;49m\u001B[38;5;21;43m__init__\u001B[39;49m\u001B[43m(\u001B[49m\u001B[43mdata\u001B[49m\u001B[38;5;241;43m=\u001B[39;49m\u001B[43mdata\u001B[49m\u001B[43m,\u001B[49m\u001B[43m \u001B[49m\u001B[43murl\u001B[49m\u001B[38;5;241;43m=\u001B[39;49m\u001B[43murl\u001B[49m\u001B[43m,\u001B[49m\u001B[43m \u001B[49m\u001B[43mfilename\u001B[49m\u001B[38;5;241;43m=\u001B[39;49m\u001B[43mfilename\u001B[49m\u001B[43m,\u001B[49m\n\u001B[1;32m    971\u001B[0m \u001B[43m        \u001B[49m\u001B[43mmetadata\u001B[49m\u001B[38;5;241;43m=\u001B[39;49m\u001B[43mmetadata\u001B[49m\u001B[43m)\u001B[49m\n\u001B[1;32m    973\u001B[0m \u001B[38;5;28;01mif\u001B[39;00m \u001B[38;5;28mself\u001B[39m\u001B[38;5;241m.\u001B[39mwidth \u001B[38;5;129;01mis\u001B[39;00m \u001B[38;5;28;01mNone\u001B[39;00m \u001B[38;5;129;01mand\u001B[39;00m \u001B[38;5;28mself\u001B[39m\u001B[38;5;241m.\u001B[39mmetadata\u001B[38;5;241m.\u001B[39mget(\u001B[38;5;124m'\u001B[39m\u001B[38;5;124mwidth\u001B[39m\u001B[38;5;124m'\u001B[39m, {}):\n\u001B[1;32m    974\u001B[0m     \u001B[38;5;28mself\u001B[39m\u001B[38;5;241m.\u001B[39mwidth \u001B[38;5;241m=\u001B[39m metadata[\u001B[38;5;124m'\u001B[39m\u001B[38;5;124mwidth\u001B[39m\u001B[38;5;124m'\u001B[39m]\n",
      "File \u001B[0;32m~/anaconda3/lib/python3.9/site-packages/IPython/core/display.py:327\u001B[0m, in \u001B[0;36mDisplayObject.__init__\u001B[0;34m(self, data, url, filename, metadata)\u001B[0m\n\u001B[1;32m    324\u001B[0m \u001B[38;5;28;01melif\u001B[39;00m \u001B[38;5;28mself\u001B[39m\u001B[38;5;241m.\u001B[39mmetadata \u001B[38;5;129;01mis\u001B[39;00m \u001B[38;5;28;01mNone\u001B[39;00m:\n\u001B[1;32m    325\u001B[0m     \u001B[38;5;28mself\u001B[39m\u001B[38;5;241m.\u001B[39mmetadata \u001B[38;5;241m=\u001B[39m {}\n\u001B[0;32m--> 327\u001B[0m \u001B[38;5;28;43mself\u001B[39;49m\u001B[38;5;241;43m.\u001B[39;49m\u001B[43mreload\u001B[49m\u001B[43m(\u001B[49m\u001B[43m)\u001B[49m\n\u001B[1;32m    328\u001B[0m \u001B[38;5;28mself\u001B[39m\u001B[38;5;241m.\u001B[39m_check_data()\n",
      "File \u001B[0;32m~/anaconda3/lib/python3.9/site-packages/IPython/core/display.py:1005\u001B[0m, in \u001B[0;36mImage.reload\u001B[0;34m(self)\u001B[0m\n\u001B[1;32m   1003\u001B[0m \u001B[38;5;124;03m\"\"\"Reload the raw data from file or URL.\"\"\"\u001B[39;00m\n\u001B[1;32m   1004\u001B[0m \u001B[38;5;28;01mif\u001B[39;00m \u001B[38;5;28mself\u001B[39m\u001B[38;5;241m.\u001B[39membed:\n\u001B[0;32m-> 1005\u001B[0m     \u001B[38;5;28;43msuper\u001B[39;49m\u001B[43m(\u001B[49m\u001B[43mImage\u001B[49m\u001B[43m,\u001B[49m\u001B[38;5;28;43mself\u001B[39;49m\u001B[43m)\u001B[49m\u001B[38;5;241;43m.\u001B[39;49m\u001B[43mreload\u001B[49m\u001B[43m(\u001B[49m\u001B[43m)\u001B[49m\n\u001B[1;32m   1006\u001B[0m     \u001B[38;5;28;01mif\u001B[39;00m \u001B[38;5;28mself\u001B[39m\u001B[38;5;241m.\u001B[39mretina:\n\u001B[1;32m   1007\u001B[0m         \u001B[38;5;28mself\u001B[39m\u001B[38;5;241m.\u001B[39m_retina_shape()\n",
      "File \u001B[0;32m~/anaconda3/lib/python3.9/site-packages/IPython/core/display.py:353\u001B[0m, in \u001B[0;36mDisplayObject.reload\u001B[0;34m(self)\u001B[0m\n\u001B[1;32m    351\u001B[0m \u001B[38;5;28;01mif\u001B[39;00m \u001B[38;5;28mself\u001B[39m\u001B[38;5;241m.\u001B[39mfilename \u001B[38;5;129;01mis\u001B[39;00m \u001B[38;5;129;01mnot\u001B[39;00m \u001B[38;5;28;01mNone\u001B[39;00m:\n\u001B[1;32m    352\u001B[0m     encoding \u001B[38;5;241m=\u001B[39m \u001B[38;5;28;01mNone\u001B[39;00m \u001B[38;5;28;01mif\u001B[39;00m \u001B[38;5;124m\"\u001B[39m\u001B[38;5;124mb\u001B[39m\u001B[38;5;124m\"\u001B[39m \u001B[38;5;129;01min\u001B[39;00m \u001B[38;5;28mself\u001B[39m\u001B[38;5;241m.\u001B[39m_read_flags \u001B[38;5;28;01melse\u001B[39;00m \u001B[38;5;124m\"\u001B[39m\u001B[38;5;124mutf-8\u001B[39m\u001B[38;5;124m\"\u001B[39m\n\u001B[0;32m--> 353\u001B[0m     \u001B[38;5;28;01mwith\u001B[39;00m \u001B[38;5;28;43mopen\u001B[39;49m\u001B[43m(\u001B[49m\u001B[38;5;28;43mself\u001B[39;49m\u001B[38;5;241;43m.\u001B[39;49m\u001B[43mfilename\u001B[49m\u001B[43m,\u001B[49m\u001B[43m \u001B[49m\u001B[38;5;28;43mself\u001B[39;49m\u001B[38;5;241;43m.\u001B[39;49m\u001B[43m_read_flags\u001B[49m\u001B[43m,\u001B[49m\u001B[43m \u001B[49m\u001B[43mencoding\u001B[49m\u001B[38;5;241;43m=\u001B[39;49m\u001B[43mencoding\u001B[49m\u001B[43m)\u001B[49m \u001B[38;5;28;01mas\u001B[39;00m f:\n\u001B[1;32m    354\u001B[0m         \u001B[38;5;28mself\u001B[39m\u001B[38;5;241m.\u001B[39mdata \u001B[38;5;241m=\u001B[39m f\u001B[38;5;241m.\u001B[39mread()\n\u001B[1;32m    355\u001B[0m \u001B[38;5;28;01melif\u001B[39;00m \u001B[38;5;28mself\u001B[39m\u001B[38;5;241m.\u001B[39murl \u001B[38;5;129;01mis\u001B[39;00m \u001B[38;5;129;01mnot\u001B[39;00m \u001B[38;5;28;01mNone\u001B[39;00m:\n\u001B[1;32m    356\u001B[0m     \u001B[38;5;66;03m# Deferred import\u001B[39;00m\n",
      "\u001B[0;31mFileNotFoundError\u001B[0m: [Errno 2] No such file or directory: 'img/Unique_Address_Count.png'"
     ]
    }
   ],
   "source": [
    "from IPython.display import Image\n",
    "\n",
    "# Replace 'image_file_path' with the relative path of your image file\n",
    "image_file_path = 'path/to/your/image.png'\n",
    "\n",
    "# Display the image in the notebook\n",
    "Image(filename='img/Unique_Address_Count.png')"
   ]
  },
  {
   "cell_type": "markdown",
   "id": "3f458f1a",
   "metadata": {},
   "source": [
    "## Sample Size Selection:\n",
    "We use Cochran's formula = Z^2 * p ( 1 - p)/ MoE^2. This would give us an extremely conservative estimate\n",
    "Z = 3 (there is an extremely high cost to being wrong, so we want our metrics to be > 99% accurate\n",
    "p = .5 (We do not know the actual probability of a transaction sender being honest, so we take the most conservative estimate)\n",
    "MoE = .01 (We want our precision to, again, be very high, because the cost of error is lost revenue, and therefore should be minimized to the degree possible)\n",
    "\n",
    "A comment on error. Our concern would be that we determine a transaction to be a good transaction when, in fact, it was a malicious transaction.\n",
    "\n",
    "1.96^2 * (.5*(1-.5))/(.01^2) = 9604\n",
    "\n",
    "For our sample, we will then randomly sample a total of 7500 addresses from a stratified popualtion"
   ]
  },
  {
   "cell_type": "code",
   "execution_count": 32,
   "id": "dcd08cdb",
   "metadata": {
    "scrolled": true,
    "ExecuteTime": {
     "start_time": "2023-04-19T15:41:14.216659Z",
     "end_time": "2023-04-19T15:41:14.352754Z"
    }
   },
   "outputs": [
    {
     "data": {
      "text/plain": "[\"'0x0d5a4d9ef11d4b69bb1b3eb5bb72312f41e6a7e5','0x631e52873b49d4ff38d7585f89177152a836294b','0x5e11131bfe64dcf7d9a499a944886b01ab556853','0xa4ec3b0e86bf9b831e433c67cd558adfcdf41cf5','0xa45b5c7ff401f037796c4dcf2b82b92178c7605f','0x25954fd00680f59370ed00fe66ebbedad495a389','0xf088e62fd10a5a3e5dace31a80b02a5d6cafd67c','0xe8f0bfe6b741118a7cc81f75add0072e3c404b7c','0x268baa90b9679f248e4d95dac8f01cf037d27b56','0xeb1687a3ceb676352d38a97978e67cc39fd0265e','0x2902b6c60264ef3b8c902a4529b7fe2edc098d98','0xfd3720996348d423cff51c23853e4094b61588ec','0x376067d5bb7507b877a169fe210bc47d56d5c526','0xc0026e64b434d2d1bc6f587657ac0aa36bf1ba42','0x9e19f33c1ae95fe1513ff74d4ac7c77e32ebb3d7','0x33a2cb4725ee1f0bae949293f7cd044f35bb391e','0x063dc101f5aee3cba8c03e3bea7f5d0785c03abd','0x24a3040ea0e6990a122090a0a453cd40b299c0f1','0xad78132df25453e805ff36c79c1d75f5a4b2cf16','0x66bc1ec01d0abb3494b6f5c7a2714470635b8534','0x4a0bb6b762239cc793f770c67d73196ee6d856e7','0xac48a6931c813bbb0a5257a3d974a9667d5549b5','0x87d735fafc21282ca93227d85ef3fab9b7ee7229','0xa8541a56cfd2f218516dc8ae4c460ef92c613150','0x27eea52c6a247370048f1e1723333a594947e678','0x5674d08be0b91aae1449a050ba28dcbb241df7e7','0xe237caadbd0ff576994a981640aff65c67b4ea6c','0x397ed102927a6820dfcddef3f75440807f1b310e','0x0c05165e080d1ee0db7c49cfe078364af7aa71cc','0xa9f17e444b585e7c0507595ff7d836dafd35a9e2','0xd887c0d1faa9f9a57f96c8b72db767aa093cdece','0x92986d2c66fdf4584581cb27b63fcf69e0483b06','0xf73d0e6e631f0ec4b536f938d9a34d48b9a431c8','0x46ea34431e41caae7540eb732e7b525af0bc1cbc','0x343db5e4ef807a4ee348c3fdd00058448b362eec','0xa5cf26cacc25fd9750fd52576a586f5dc2d23e3c','0xef0417f6cc2815961d610586351a67675719f26d','0x0812a68475845fb607bdb48cc774d77aaeb06a05','0xedb7bbee5370f787239bee339a7ae63979e63541','0x54a6cd317ff63304c977fc2439d5dddd273b8779','0xb23e534cba1b9f2e631957a7136f3390bac98123','0x51067cc9c34a291af0722b50801f09eb1fb4de84','0x5f147147d94eb91164c4c9dc52803c8ed106fd2d','0x081423494a84f9f4201298f80331a8e1fa72b10e','0xd08c15b768d6c599b350a8a3e90fa460b16ba0dd','0xd898bb8a7a7d540b4d65efb7278456dd97501b6e','0xc528f64641c60de979fbc397f5d8eaabdf4d26e5','0xe89ed68904a177958c0bd8155bf7aa93232ddeac','0x8a69d826c399f454b1f8bd4da640ffd4524b5534','0x4db40b198799a64011997371e4a7f40f03f96216','0xe464ca8c1d59d4935008fc96ef8bad7d9ca912f4','0x4492405fc6a48ce276ee09e0c588599814eba4d3','0xc01d1a5aada3c1c8e90908ec0519cfafbc0c8d5f','0x6a955b64bd64e2867ca6472f8206458c6d49eccc','0x84f40c72f5a2e02fecc21d024de7903ed65dfc69','0x062712c6fe4f3237e7d681e3a7a77ad6edf33e2c','0x5fe9e6ae412f2f53472c60d8ec90841d14b6ef62','0xbbb16a2abce2d06928ae1589a7c0595aa0e71d3c','0x7f767b60202e6ace8de8bc9e37a75be4ac180934','0xbfa56e7c5596394eb7f90dc79a0ce11c1c1a1df0','0xc5a3c4fbd2b4c39507ef1f3fd2cc603eea82357e','0xee90240a65ac6b26ef614c6830a52c6ba9e59e69','0xb0eeb95954c3d17e7c6fe2c42a6f424db3d1fecb','0x140a3648abc3e80c28e538a367ae39cb00b037f6','0xa609bb891ba3db1f8f550597e3af2dee4bda4e19','0x5f3babad3f9bc93fb2d12f4b7b178ddac057b12a','0x6269850e3445e53f7a62d73d2c7e11bb5c3853ca','0xe6b587fdfd80094c97b00f7dfb55c197394a97d4','0xe73a32939030ca53373e23c591d083c09b345d58','0x0ef52a8671f6eec816ae5ee8d00b2dd808bc1d63','0xc3da7b44a615dfa4cf5566da6573bef559980134','0xfe060ecee6830443f0ba9f074bde7e7896fd6a42','0x092899c2c84d363e3d9ca8f1d35e5853bffaf7a1','0xd9b7df772c66243f79c43b8ca11e53e50629773a','0x5b0444e28198c5103fe57ad1f54ed45951f35e15','0x5c488ea24a576a2c7ab48e13b7731e587d2c2ec7','0x8f42111c15b0c454c0a1951779d9b99754967a97','0x9e10033861566d3f0eca39541f45cf7be5bb34c8','0xdb2896f62f7688adca0e49bdaf2538aa4942e58a','0x9c6e4e151b5b4fa483b568565e7d9f7cd0234bf2','0xffd947739c9109a22b57a500bfeb128f1f80bd96','0x11018326f5567fe89d5f9f79599fd4655bf1c03a','0xf7f8100a4d97baa22a7532f07c426bb1f8faf9e3','0xd7a0fe932918d6a8c1206bb400a7238abe9952b7','0x458cf838a99d3897d5eef7f0c78b09fccbbf436e','0xbe5a2daabdf735c68e3bbf69ae699049a8f51d12','0x7778ad9b90ef648c41224134c8e096a090019b8b','0x4bf2ed44b065af0241eda067e530b0c267781844','0x7993c40af8d3182c4538c80181cadf07e9ba1d6b','0xcaf6008afb28195db91526edd899f2dcab92cb98','0xdefbcb68f3ebfaaa0b27c1bbc034a6b2de5905c5','0xa5f1e64e06a3f4a574edc063d9146f1796fb48d4','0x8e4823a79b7967917828fc26860564c711ba2a98','0x854fd8eb112a49136d9dda997f6f18a85f6c1124','0x606e23b82a72a07d75ed89cf01b605f0e9dd9ca4','0x1c3206c4e72e88249b8b4025ad92ded9feedfcfd','0x2d82f7d80258e379c6e505a27017515f20dffd20','0xe5292c93604fb22e8388a25527ed294e1d112ce6','0xb85dba7c9ad9208139826851a071a99e8c850241','0xdf8f25745da9e78483df019e1b137e8667d9dbef','0x14efd055b441c016736225c09743a3725849ea0e','0xc3203d0265df8c4e3785d85eb6498e934e66938f','0x46afedcb14afe67f3f512a6959cdec6fc654d841','0x1e9167b6513198883c59b06c723285fbb9adcae3','0xf306bc8aa9c9e562b75b3d29dba65b7e0c70afdf','0x5a91f4985a2324233d1eeb24fb1e462b0575e9b5','0x39506cfe34df7ba0b65533be14ce776a30e20c27','0x94c73b5adbe7cb0d1dfb596306090e429d61a948','0x24a1b5aa3c491cce1cf0ddcc154e7c090f54a8d9','0xe2e979f8d878bbf5c192d7abfe8f761abb4bf147','0x6fe88819e8023f0a1ef9fc0a15d89be7a00511de','0x7dd06f578baeefba13357415b8d511e28c816b52','0x665ce1a9c820c89d8c6d7d43ce820dc365a54b7a','0xdda8011b0763d66975dbb7c989884a3d2f6ee78d','0x3fd05d10c6b7def50cde220788c47e7d7172cac7','0x4526f9072caa0c656283b3b62d1dec4cdb935d3c','0x3ac8788ce3d940ed4d36fef921239d1002d82b78','0x80d2b16fa27117b684f91099f00fa4e5b0bcb444','0x721a591b5cba1e6d25d86d3458b62deb495843bb','0xf830ef6d9593fad94b1767a3499617c8d3e8fdcd','0x93c23c37efdd9b10670eff745faf95f830fc54bb','0x3b0f8d8aa68ab726d16603235e4cdb949486cec7','0x3f85a23dbbe0770b18bbfd69f439c2efb52c9651','0x906e9d3556c514d1a9a3e457bb08aa000c8dd1f4','0x039b89c869c285b70a217d8f810654a0e99cacb9','0xfc79d7f35f4a6a2e57ecdca321bbfa83caed43c7','0x7918aa8271eab31cdbf6550152ae02028bd4d715','0x6d76e423937de6f641de9224a16b6081aec631af','0xe7bdcc0fe7b34c66460c4685972b6bb6ea194eb4','0x35d395893918e9aa25ea271c3874f26ab927bf61','0x17b3e86cf80c48388d5ac8612899315c770263d1','0xd75dec176d84e81b6a4d42e32caafe6f9c15d29c','0x0aa67cd5b5e953e8733989816649017c5e7da5f7','0xab85d1b83b6258eff8cc2e045a6360ac57903039','0x126e993e11cd0cfd7e2bb1999b83aeeadbd5fcdb','0x29c49dc096d962c8eac2484139431029f2c12a99','0x311a40a417485df6a21151a15283dd37c6f18bef','0xf20b4ab6d5b4f6e239bec524c1ce9734832daeaf','0xa105c8e103c0bddc5995f10967484d8c9ab753f7','0xdfcfd90129a5355c3966ee255d6f0f406c0c1eab','0x23c486a718a7ec2928ee06a148a559dc3562c527','0x05aab636b458a35ade6993ccb93e7f05729d673f','0xe58cd015178faec271549f47489e1b8dd0b695e3','0x025b1a2079c9ec7fb6f9af1a8bf85e33e9a93744','0x929b47eb7facf828dcb14b443f90410ea1ab6639','0xbd9985bc23cf5850f1e08fe05f049f5c5d3d3875','0xc71bfb52fc33a9159a300d332726ab6cb4f7c1b6','0xf98c98dcc01219408dbe7bf23da8f4bee47c45b5','0xdfc5f2a523e314eac865a2cf3f36ecb98dba2a6b','0xd600a8142e7a227d130ef3621efccf5b49691e2c','0xe1ddb3ae64f1244b310be4a58da24e91cf06bb40','0xdbdb90c3ffd5f2dcb94a2034f8d3041fca64808f','0x3d7a5ba69fde03cd9f5875fb844042b8822b1878','0x72f073d71d6e81d1c80f3d6761f7fcab1530a84d','0xc9ab051a6f5abd6b5bf28184ca31c2c8cfe3e36c','0x82c413ee2f82e61d5383561ec00c5fa0ccd6ab4d','0x096e34265cd7f11e64d86ebeb8c5cd95ac854c9f','0x97cc51c1db8e737aab1692fefee13a71a05f2bc4','0x0c99a0a320ff93b73222b6fd041a04f09776e5f9','0x3803fdeabdefcff764df71449e59bed4557834e8','0xc2dfd52f89d53532364af2999a9f07f21db8060f','0x33f681f035a5ecb6478e35aaad245cca114ca66d','0x3109a7faee4b00f2933cf4a3d34bddf5b8a501b7','0xc45b7b48920736a283433edd2761e522cb11b674','0x26283b4548b12944be323a025a8583c6e860df02','0xab83570ce657dc2753777bc54072c834261c0a1d','0xbdae329451c8639b6c2e294a54b2101fa4f75da9','0x873059fe6903383c084f5852b3d2e0e2c3139646','0xf81b1337acbd61f651f3ff858ec9b34c8699a1c0','0x7c004de46a9ed106e87ecb442d8f04243e800c56','0xf6520cec55b0fdcad1e6cdaa210c09ac08725c99','0xf89bb0e37e06dd35777d7cee2daf1ef0e291f86e','0x5d2d18e2b2f544af6aa69ce3a5e4fad6f139563e','0x49b9ae19f9fe7cf98cc5c9ce6e867e87f09e53e6','0xfc4ff0562d4667bce40c079ff7456071984f0606','0xc56f45c43532196b0d92122f4203de08343d8a90','0x071c6ea094370019f5da12d66e20c4f1450bf3c4','0xf5166527b88ba32e368e0cbc88cc4a3f1783d7a6','0x0afaa3e3dc8bedba903a9b223a7deb771bb5540e','0xcd17239b20b12f5e4d2fb49357895e01a6c2e2e0','0xd28c491bd6f1b881089527132252f92e6090c65c','0x062f51ecb1ee081fd6b72b94e634fe1b71f0f179','0xdcd80d43ef4b0828c1f3b98349ed29caa2a2edb6','0xd3b6f6a204c20cccbe8b3234ef64e8133e39a54a','0x1ecc7653dd5810b4f06a92d25a6fb095ae7333c8','0xac3d15ac3d5f73f2ada61fff452f5a6afdf4b57e','0x2c150f7047fa8bd0eaf45866c33734a02dc55efb','0xbb5095d12aca9ff4e907a243ef5280aa6dc9c2ac','0x2dad111de23397711b0c9eac13fc3ccd9916e551','0x7483e846c51df4478ed5a7c3c3ef98dcbb6b186b','0x60b93346b2539d10de63e0c42690e8774a57abbd','0x1104ee1fcbdc72bc1605b46ab1cf35be21e58931','0x3043872064a4e698431ecb6eee68ba53e19c021a','0x3827d55e8ffaa5d15b8cb9110177ee48ce8b53bb','0x6f529646e307541ffc31c9c4d81c57ad750faae5','0xe3687972153b72a33589798f823736ef47ddea7b','0x73e7c6119fdfcb991518db21fd3d06c147a88f29','0x13d7c630f594c3c3c59b1d6b30a3791f32868768','0x3008ea88be9b20b63be10ea0ba72a6ca0fbe65f5','0x7aae848de5b0995936c7e4b45e31b408a6ee46c1','0x4b1b8e57709ef58ca01e3b8560d98a3cedcb16f6','0xecddd6292e0f3ef7f1528b76f06efe5a1a560c7c','0x6ecbae01f69cc8d0888782d479872f7575e8501c','0x192e9d0e450075c5a58a7ca91162b83a0c49122b','0xccc8089180f45dd93b62b8fdb492b2ba2e430e45','0x7997167df2e473833314ff5ae8713af3464e992e','0x6c7e3e4ba165b94ff80f989bc8bf412e298fce28','0xe0129f28e4a513c2a8a401ee53a94ce7be6210f7','0x2aadb25de4a8f7c3fef0c51781cc8f5c8a994945','0xafedb30e37a64d30ba7633592b3824029a43fbdb','0x5dfad040611ea4c71df3a85a588b7b5c60c2aa85','0x7fa3f7f0471c303b9f3d7a18e5b9e06d1163a5cd','0xa25a8b9c3fd5bb312b5cf448d0fb387af87a4517','0x2990c2d32492c37b6ba37188fc8ca5ac3e6c61ad','0x6e0066014d361803526da29f973068ba2feeeaa3','0xdabc9cb76c8b2e58ea02c9ccd1257e504578797e','0xb81ae1cc329da6179790d30d726523cd735af4cd','0x54ca02b104eba53ed38f3658126983be1beb4f3c','0x569aa8ead66d54a66ce20fa6d0e6df2e6f91bec6','0x9db6888c232ffd04a5d264d1ae3e27d8078a29ae','0xe97ca070d9b0bd76e8ca5e040219d9ebe5fb3c54','0xd75cc405725b730b0b5d7822cac9aa36f056ceb5','0xdd4238cb8ba06d27fed69a7b5cfa616fdd466fe8','0xa3bf89d1857bd6d886700c8d9043c5f22ee5ee3d','0x1c1641fc592962ccad992aae9162d5b081ee4fed','0x92b3d5039bd14d447a3a73dd53398aaebf104b02','0x3e6469e52c44c9961ee020ad0ee1f153974f4202','0x58c594d988b607dedb59c7510a7ed138727d0ad5','0xc1fe092e44aa891247366892eb384825c78dcb39','0xf599822d73fcaeec3517e8034b9fc19fd0eb851d','0x746237e01d0c508a304bbbe0ea0ce25e4229e673','0x8a45446b4d66c4cf6bde3cccfbf55281371bd678','0xc0bf20c2ec0d227746314abf5088fc5934248d42','0x1e12c4390554e8b8d3565ddee870aed3791f2702','0xf075939f9c4f0c62a2b6cb5c81d58eb944a0e2f5','0x778524ab17cdc2a170576a6a9d95e6a0f0c7641b','0x9b886003b7ef4762e887c92b3b1970f1899b84cf','0xb725aaa8083cb28235d7bd1d8d1106257d117361','0x2d72b06c069da8e45b13cb3b476540cbae43b3ae','0x8e3c582b8e39e4b43ea5a66684ccc434c0828af6','0x1d6f4a11402f40fbff1405a53e8c5fb76cca78cf','0xcffe0dc919e6fe1bd25914bb382c278ac7bdbc29','0x8d01ee27c9ed338e2a7b1f22b702d332c395aa0d','0xe02d7b1560f45f36e0a3ca7e381226c026a31bfe','0xdb2e340a56f8933b5fabd8a4ce56ff2f27ac749b','0xcb0e68cf8d6d4772078a925837a87295ce612e7c','0x479be4199be1a01d8c79c3411459c74e15040644','0x26a5bd187513a46a9390b4f59d3648234fff8437','0x28dc88a7cd7fdb667de7ad539524d19a7b9e3881','0x8acdf5eb9cb1f6175742a45cd3b7c96100cdb58d','0xff839699d4b1281edfe2144676c8c57d5359d5ba','0xfdc1a81f12ab8d3f622f90bd2e27337158619acd','0x53ae9163c74ab0def4301f71325b60cedf431581','0x56cf10e81e7cdbc305c65ece0b0973f81977db60','0xf07d0a58afb821b32cf3b52992e832b2b05f8763','0xc2041fffa16633732810fffb32c9924736ea65b8','0xa905650f8c75f289fdd7f8d93353fac719ac7fb5','0xba35aadcc2a9160c9bc6773b94b486767f3df8a0','0x1953375d4865dfeb113bb4c0878d219aac26d5ed','0xa3cbbd026bdca88514af44427b6b36e59530f004','0x167cdb6713ff9af8d27ca2f635c6f296847bc5b7','0x480aff2c3ccb9ca49afc7080e9d4ce42f9b032f3','0xa52b47c204ad87b5b8c429b65ee2fa7c7a82cc60','0x7b7945bd60d2c89a061e6dac9e378fd59a70415a','0x7a5df193c18646bfc98abb8582fc6af966bd63ea','0x221b207885b66f12ebf316d316b067e5ad477ce0','0xac496f4a233a22cc33c585c0563bb674db36abb9','0x5d1a692bff1d48a4d4b2be5829d6e3f341e79076','0x3feeb04fba1c2394b54b39b7c31b38f7f8f34c85','0x566387bcfc5065660cad91e9a30cee21d72274ac','0x9904a4a9ee6ab0a5ae42339c03060613736f33c2','0x0eeb14dcfbb6a584aed909a940bb27450440afa0','0xe2c30b8387545a6b8065a07ad9db45cadc8ed727','0xcd908023b75b76cf1ab8448f16179e3c258c77fc','0x673226f48d168f6f9f3e02ddb773cce95caf3f02','0x3ee486bc4723a92b3130497a0bacdeec77e51af3','0x9e1b63a2b0ce9efe93e8dfd32c07a490703da60f','0x7373e0a54075d8186bc1513cf5eb0e1ddd0e2123','0xd82fe092cbb799fc3220ab324280e82f8f160576','0x7289297ea9da35526bafccb0e73596951266b50d','0x27cd09e87a28170cb1eea305010a2e18855a048f','0xbe1e254106bd0fbd4684e7a103aaa65ba5325ead','0x0ad52620f1e684c32b85713928c2bba91e5df6bc','0x24db5eb7d53d478b07a8f360c902aaa06632d3b4','0x45e61973387f4c73d9a71b80368c4fdfdf3052a2','0xf13850aa2f294c69fc81623baa40cc70291eecbe','0xe82cc85227cc5663ced756783f5e8f5143b30136','0xc28cf7d1bba82ecadb9367f1ab480ea7b693cf80','0x1c479ccd786c595788cc1af5b92de696a3f809b5','0x6f6ff4acd18b8b1f88ee9558cc70e0b3acdb1389','0x1f60560bbde09b4acc63969b9333fe7cc479b711','0x74fc69f07dd39530e9e9e4c643e6896341a6c61e','0x07f706adab7e86441351bb637726d207f7023e6a','0xc4fd882982f1f5d857dfd372053265195742fdce','0x8620e0134cacb61c2d81402628d09db875304e92','0x34bb4bcb4be0c1b27a487700043422d635f911b2','0x7e9c79b791a57b8de3ccc8f8ab15d57fe1fb4753','0x7a3a0684a61d8891833319001d44926611084abd','0x9427ff109a044e1d156096682d86de53e9aa2dca','0x88cdc0f632a28cd87483f843ce11435430dc18f3','0x3789bfa235efe9e29a53fb35546d7dbd56540113','0x4986f2b3e3d2aa8c0a962856cac6d605461a1407','0x3eefa87e47546e9303122103ba0843a4fffa2920','0x5971b81bb277e8a88567ede8f4e8bb28ee605d73','0x45fb7bafcf84052b68880f70ca0f2b2a597c03c9','0x06af3a5d5db2923e0ed142447273509b2eadaadd','0xbe5da5d212895c59b2a03ff697edcac565c55a14','0xdf80d64a7b4cf1cf4720e755c6087c315216ba01','0xce6c8eb2bed5597cd1ba3623b3a6652b84282240','0x6897586c90feba888d0f03dcef7f0b0bd2ca41d9','0xc7ba23de9429c12f955c4072a3df87094d6b055c','0x5c441cf6ac93492a8a471d03e43fd4919d830d7a','0x649ab06c12606eaa4fc4c5033eb2b1ccfc4681b4','0x284fa3365e98a8b133b1c1da730623a6281dd412','0x822c011261a3df67e99d528e378bd77f8f6181ac','0xbee54c9e57418aecd45051139c9575d47c2ae602','0xd08121fee2a005cee18adf8d2a292d347c024394','0x3987c404294871e80719364d7bb5471fa5f30b6d','0x4614a3ddd34d09ed06136b006521e47690a07f8d','0x8e46cfd1871f97390cb080eb61eb161b1b8ec0d9','0x3ecbe2da4f64a8aa9914ece5419f2d6303a12db5','0x7cfd7d6b4d269a4a3328a6c6dfa62b3228cc99dc','0x9cd8b58f4bfb87c784e91c7ce514865e43711a1e','0xcef8fe91f0f79c0e3cfc589bff4afefaf0d2f2b2','0x476a64e387e87133e1971a8aca6d85cf4bb3f580','0x5c6b263d8b426da8ba15ebcd3ad1426bc5a6d993','0xd69eea0f3c2972cea3a310cccb48ae71a02d6d4b','0xd90702991c77efcfa53079a1850b8b9b7318b266','0x3f7dfdf3a02da18ded00358bbe2f1d2cf21a5753','0xf929c25bf39bf89b07aac2dec51039e268b14678','0x4fe1455ab596813e5bd86c1c73d2a912bce7bcd7','0xba15834a2884291f4d0bda968dc29dcd6457d797','0xf957a1fec839b820d77594ae65368d293e9474ba','0x4fcd79dee4cadf434319d95ae497b3b5a3b47633','0xd0c36a25d901b8c06f1bc92ec0e2ddf072e63373','0xdcaa7647e29c06f19fe2312effe10dbfe9eadbf4','0xcca51986101fdfc4ec847e8afa6acf8eff35abf6','0x425ef3e856c0a878a41d2485bdac7b2dd9527042','0x92572e2ae3100cc73108dcb3112fa39d4aa5ec9c','0xbcb8c09655a45187d74207d0364ce75f351394d9','0x146219a6370f81cf94751a1fd640875ace8b9131','0x737ad91ad3f82180ca43773ed995cdc48c9fcd05','0x9a505d2f12997833f0e71b204989698405203831','0x4e19bea07780818df5ae00032a3ed26b0665289a','0x5830ed525e66a31259673219cc255b85a76b43f2','0xe77f72e70f382d7ca9c0f1b7197e1ccd89fa58c1','0xe0c5fe5ef7ed2332d2717ca257b23e55c817d02e','0xe6224a6bd8b993df149bd7e3a6fcb2c81e9920b5','0xd6d72ed98a3ed0433ca83954351076c3473900ad','0x1f8545f4543e77d54960e46faf621c201f3ec820','0xa401ca452e0645ca5d1a8c0ffcc21ed1b39cac2a','0xb24ad331f0c5574c3bd9b09bb46fdb7f33bbbbef','0x55edab7e853a45c95f6a1c6832af26d95ee04b70','0xd26eb1a3eadd0dee5ba788e9cb33ed1438ccf16c','0x4042f57a8c43037281884da6d2202ed14a6e3e45','0x1b76976664bcf6a5c4d0829c6480c7512e0d3670','0xb8a04ee0529d0c98c79b229390a588af467f64ae','0xa5434c7b662806883827763046fde4421ea2f19a','0x134ec079c89878a59a9b458d24eb5a46788ac44e','0x02f13f56506b33df12eb1d33836d18f8ddc18f33','0x949bf152d457e4ba9f17951c6fd021608acad385','0xed6b9cf3da65e6e1c41a5a33adab1d97796c2e86','0x89172cda78adf46f449997d2ac2784ab8da34919','0x3cdb9af7527beb1ffcbbc2171f62018020843c97','0x395c4efd12c49fd59455331093269954214789a3','0x59d7db0ac8f9aa181cb1572b2f847573ee1b6637','0x124018245dba14349e4f103de1f1c4a4483c4e28','0x9ed17270c350c93bd5ac3b5ddd9e2c0747b45e21','0x35466d3beb98d3021f39841abcd512fd584f44c0','0x594de6bf517aee8045ae3b97cb768c92f2a7ff42','0xca3a5913d19edd9a2bc669c7477a0cbd68534626','0xc1d5ac2e14d2ebc377393d26f329affa34193d11','0xd6f4dbb599d0616cf61b4c25408235caf74cad46','0x2a73e5bcb47efa4b5376ab9aa0e68cc6a6693e07','0xa6107e7192035bd1117aff6e3b83e4fd3ee59f82','0xf65c15971198407e4bddabfedca62d62462e5108','0xb0a23adbb17f64ea5f8488d3ab74d4e1bd809b9e','0xecbf9b1b64a00145fdca2d2bdb3fcae9f405604e','0xdfa1f58668b655ecb41f8f691a1b9d60abc69ab6','0xa0b4701cb88307141a52d4f98170342f034daf62','0x4ac6398adb9d942efb7103ba00d192d9c220d4b0','0x0a2eed7216ca6212d1dda31282ec5a3678ad64c8','0x736e3f4e714df337e098f7612fed970590ad2ba4','0xb7806def87c3107ce508498fe0fb72e42364e71d','0x3c67d2f92ac7a9556bf4a31da7da0bb72f6ab3da','0x4a64896ffc6f92d9e1a992677d728cd4df4482d1','0x1ccb3852f5cd84fa9cde9922010da688354f3a05','0x040f1b115d3eb5a4079811fcde1b10109bd8968a','0x1c5d8509278eae6a44ac809d905d2af39d49778f','0x1fe98fa165efd2267bd441411a46583e2d28f730','0x57a53714fe996e0f0010064fc26b81b27743659a','0xf1dd302ff68855f3972c96f65b3be88b98ddfda9','0xcaff3f0593fe034f1139783bfcf0d4f019facad3','0xdcabdc5c540616b5b5950869fea860902c456f06','0x1c9c07e07cbdbb9a4e86aec7fae5c730ed6af8e6','0xe379ad19528a01de884a7ca6a7fe480dd157c182','0x8fb6f11bb54389a9c588af95f92e2a74ee6fae99','0x32f4a8b5550698ebf985b8547ba085100bb24cbb','0x25f27ec03423d941750936396d7f0502e56c4417','0x5619b9c655b3832dbac779d3a5cc384b5c0c8559','0xc5bcb0bd7cad920c1733f13fefc0167341cda055','0x2a456bcfb05e01f7d6d82cccc7ad1e039bcf4a45','0x3d6272ff4fa5f42781a64dcaa0d2a9eacb235807','0x82da1287b3388cc1fa377ae55717e8a3573599f2','0x7f3a2215308ba3951b4818a498e28d1a5902daaa','0x046817098cdde2be4bca1cc7349e4cb86f79ea49','0x58f477d338652a7a6f03e557dc36dd6b1e2f1b25','0xcabaa5431d293b93f8e0d4e1f718396dfc2de1db','0x36572573567cfd15918f1ecc84b87055722813b1','0x5bbca888e2172712f8c8654dfa3a29b5b6a32b27','0x056f9cf4c62c913f9427a78b7ff717ede74a3990','0xf5a53b495b1a50609a1012cc3cc467de0d24a43a','0x190201790dd7c03a326b5097b986ae212159e008','0xa6b12e0ce462a70b1f6022c2246d207c8a2243f1','0xe7d232c5ff15ba4a16c082770d58f0f9200de3a7','0xcbfa37ef9fbac89236f31735abacec9f091e1717','0xbca389c9e9209f67cb49f5fb75ac9079009a1705','0x6d1e47def52010c99503f3364a09d33fdc49a618','0xecc36d354ebf00e227621f154d27579537057e50','0x7bb7807378d9941afea2ca1dd288f3bbda052b05','0x7a4aab1324ed6172ded6ac2d9735c2e66caba3bb','0x1a80a4244c56191187ca990c68f990f4a52b82fc','0x4f40dffc9633d5d6a250323f42b95da921947952','0x775f50fb30c0faaf9b1361abab180f1e2cf38ae1','0x24b53d163be6f111eff5d25b326f752396578582','0x48fbcb5283b2c3583698075e3a0102b912a0fed9','0x46c96bd6783259bca5446f9d80d4c2c29e06dfa8','0xe6aa7b320add79f918ec5f384f0bbba19a116219','0x240535efc8e63e4c98844845b68b272c442b8849','0xc18ada1e4c5f13f7f1fc13f613d1d700f962f729','0x0ae4357738a1145f55a92c611bad63620b27aaef','0xe52ff4c99317825086606dd750eeb3b31c06ec46','0x930ef6e632c2ace79d06481300f39c72d0aeec55','0xde3fb1e89b9d9553febe805a7b7b959282085732','0x0ade9471ab7b8326f4fe1347bcda4238fe2d0764','0xaeac2cee2e7d06f5f547e19b6db68e30286cdf78','0x35e978990f71068460986129e931ac3a166b408f','0x78b16e2b2e3568007808bacaea8badbbf2525519','0x5f289277aa52fe483ed522dece8fb0c9d03e9282','0x561d30bcaeab5573b72e4eac1417d5e43726e999','0xa3125673759a20acd2716e41985bddc4d2cdc0a3','0xd9f10637850789c1b5de366facf1ad62d535dc7b','0x0ef43bc00a6619356c77e218ccf5139b0eae1662','0x5d3ca767d1777015657e4135b206930f5f609c30','0x6f6ed22e5f7609747b16e09ac2296e8704385e32','0x62bf75447cfc656107d431787c6248ed9ca17a18','0x8cad3c6975306f819f94ad061f08b35461a27618','0x291a1162c9be7cd1f4d3e0062328a76cac923987','0x5553d4e6a23677bab471464690032c99f2eb84c7','0xa45070e3ddb5356b7a34331a4f6bd0aafafe0bac','0x54619bb7e6ab6085720a69fa667b83160b34b48a','0xf85dece8065763d0b137919d915fd2a4049fc6ee','0xfdf1e3b7562cced4966c359d6b042cdeb9493152','0x09826a1aa972d66fd30f5c78f0a47eb0d47aff4b','0x8ce1738bcceb56dd25a5022722747d0a4cba7f4f','0x9c06666a3ce04afc92d08daeea777d9df67115de','0x9ff7e76fa0d16add9dbca6cf5ef413d1f9e497fc','0x935aacb6e18bf643c1822bf9de7c8ab256d8b6a3','0x0d84f6a9e98593a1005dc8e496c0dd9b58ae8322','0x0fcad2aced6c1c1204da42fc66831ecceeba29ed','0xafa22a285d8b04686ce8d8a33b45780dc010341e','0x56d9a2ad85fa866e11da29ba77517d7d65e5c69c','0x7a5c3321953122643ed1b4c2e0657c39b439fc66','0xe999dc7f3f38fec700ab75f86180c75296a8f634','0xd3934e7803a2e2ffb0d6cb9e280d9aa5c8a65823','0xb981187399e1e2b90768e768d6310e3c74deb4cc','0x74a2ccebb5fbc3629f3c69c7ccd410b5f4a87458','0x2a3c30928150e772038bf9d9e602dbd16fa35397','0xd6ca495bcdeae80d56475783c80a9b2a8dcbf11e','0x45be3fe9d39f81eea18cf67216ab0969826110e8','0xaf569a72e1b4f5adf02b725d10729fe2c3f830e1','0xf011c5d849393dd653534342d01863f49ae63fbe','0xf9001cb224c418d6930d6be0fa4b436bf4359b43','0xe652919f569aaf1cca368ca18ea99d36eb14d1c6','0x5cd2d533650d3601dcad21f392fba8249383660e','0x99803971e8d36e01b6a383b6c1fcd43aaf4ba4a4','0xeae172e2b15b0cbf3b17b85feb02a20e1b34c496','0xa3c91934ffb2275bbe0ef59770cff5fbcaf825e8','0x476c89382365f48c043257c29a043bf3c94838f4','0x5e6f43b2e1056b33fb5b42e0c0b40c9a3fe0d463','0xd3d7f809c4fa29195e8f41026f1d97ed34d98802','0xfa6570f3004ed60b43663393f0f1adc103c451b5','0x82a6e2cba94e9bd9fb8fa0efdf671886ee2d70a2','0x7c06295539db8214e86d86f7ab440e8867a2c6c0','0xa4a6f84dd2342682bc52833886c1af2f52964c8d','0xaeb4bcd28090584313931667931699f0316e5538','0xc42b918e1b253886216097f13d12afc9007b4e9a','0xdada5e24b1ee59b22985e10c4905f599e3287b20','0x5c9797baccae757c8d7b87c07c4a2f1889632c12','0x9a52ce53de445947475703ff3ca059b44ccc0a7f','0xe8eb6d19d6ee7e208a5d42a7190d4dde07bae5fc','0x3d2eb7bcb242082827a634766ee1db72f1ed392e','0x784a8bc7d62bef2169f91b3354cbc41e43cfaf7d','0x079f30842a1ab655384463dfcf0f107748b6d044','0x7b1900b4068c83dcf0423b31543bf91f53b94a1c','0xe18c9a01eeea61223d56f0cb09e80642d40eeefb','0xb7057478867d65835a48f1e25e96c37f4c0a3d50','0xa218e119a33fb695a9bbdf0443e1fd5e3a9ecdcc','0x7e0625bceaf4c7907334b885eaa54271478ac2b5','0x88c17a234842ad58526bb1807db2e7b513e8873b','0x6dd6fb284d22a95cc082dbe3daa15ed1c69002d3','0x5bc0ec49783b82bcf43dc0f540f6a8e91a79d543','0xc9e7b349a7457ac44e2d81014ce76420ca5d564c','0xe852caf1acfee0dd4fc342a19a9e7152b97770cd','0xfa544b9c4061b5bb27456485895b5b54ab0f1300','0x7ad371445b13429b2cf7d2f22a38109b2122aaea','0x50ee071e704f93c6adb57c3a54a67bd91e9a8681','0xfa60f7fc152795770b22192e62a89fbf60a38a3a','0x0011ccbec9954e421a9be35ef5725de282b96eb9','0xdff6b6f7f7c4984dd2e536623dcdc169ff1e0e25','0xbb613886358e65a8e9f9fb51f9dd8b05ce79151c','0x9985ef970392eb58f4c82e8fe8c0a5d83e5512b8','0x9411e54fcdce8bd57244449115be64831ddd2ad5','0x6865f9c275b13a5f341b33589f0c4e4a60809d13','0x858525aafc5c39c1485aac62b78a605725ba0c79','0xc61341ac1cf40124b6e65acbade672abda895dc2','0x569d366e76dea63501812c6f21a3fa5aec85e620','0x2d629302053103d45e82e978bd801df82fd4266d','0x2ca21b5d766e6980ccef005d7508570216bba67d','0xd0024a3369e3286f64318121497ee44811ee66f7','0x9bfcbc9cf98694a0f872c1942d5ac172157a43d3','0x08fb61ddbf7efd6956a4459b8b31eb1e558c29cd','0x7a490de917dd4eb37ee9ed72146e284f64172209','0xefe43a98cadead9859ed1e5b2614a0168159f978','0x53d985eb965a75dd42acbb0e0ace06a86178d90e','0xc3566615d599bc738a7ad50900579bef749724c8','0xe93c9c412e7136aeed9e37d60b71bf3f8303eac0','0xbc0051c3a0ae582c569389f67ee6e5e0ac89184f','0x6c633b06f5c3692b5e263ca43d07bef9b5354810','0xc805717a7833915ff19bfb2a6b11458e687dc2ee','0x46f1dd7d5d2bad61bbc81eb545e629881c98644b','0x7a3229f694cceef1f04d962135e2714f5711a11f','0x7f95c327eb5960b204e61774aa9536c4f9f73452','0xe5f88adb1dd349161983692bf86e09b801d0dc75','0xfc9bc9836235e305d33c5a5a07044f6d6334868c','0x375b7616651e699a3008777c16ef5790e47bd7a5','0x09beaebcc390aac3c65b4aaf20951c555edf08b3','0x9d58d772223c861c016464e677fd16687838e807','0xcb08f6a25f6f023edaa172106d79e2d77f61c80b','0x78468c6227aab4c06673d3466bc9be9ab6233b10','0x4bc8f9e468808bd5e8a7aa6c3ae37757ca418134','0x4cf4bc539d5e1565869068a140539f4de4f31a52','0x9a1f978a9a858aa327c19b111bde2bed59e5193b','0xf9d7441468f15f657aa00d031b9103b2e93364ba','0xd414459a13caca7619f407ba70ec9482bd6271ae','0x2a6fd29553f88cab2c37002e46c87bf85090bbb5','0xe656f1bede4f61f264d71bec84a9bc45a4168e90','0x9f8513484d9f8997b252047a20f76bce2dfbe859','0xb7dc3fb357e9cf3a235cff3fa069c3185fde7e3d','0x98699e40655cb7af1231a9411770de2a7c529104','0xb18414e6acfec6045d3599257dfd64354db47b2f','0x6157b5ea349fb8925fa0d77875190bbd140822a1','0x7a51983d00a41d0f10cf753cf1389cdb58f92f8f','0x492d4d0ab8de197517f0406628a837a37209e01b','0x6a2fbde3361154c4827fe511eb07d80fba5a78c3','0xd69d2cfbebc42a4f85fb821697d474c4614e4251','0xd3aa43c7a9ee93979b0bb0f5203c1b6822cba8e4','0x51d84c7829607852489c5fb7a73a05109808689c','0x639073a067b930e1d43e6b264bfc6330c02dfefd','0xe465153701511b81b6ca53a8f263445ed31490eb','0x09c55355c69dd389d620a00d8581c8f9f20b709c','0xc4b9bb010779e82df13a0217d387f635b3e536b0','0x6ba8df9b21caef15e23e5ee1a8e6d2493e9f2546','0x52fbda0e540b3fbf43740969f1e4d91d8834bf4f','0xa1adb1d2270517be7dd63b9d24b98eb07caf7d81','0xb7b8f16ca8a4e44acef92d458be7e9e5a4caf9d1','0x1fd3740ac44627f98e0343a0a29eec8fd7be6b88','0x0d0f983f34c2042db7aef6ead374a38aae3e30f5','0x006f2f82b798e11f37e1ad141b50282c827b5df1','0x2dc9df1c72e16521058d165580a79831d2dcfddb','0x1242bf32a83cb2acef7607fb986b03c7a78bcf78','0x2fd8ccbb2283e601cbfd49c77f3e53ca50e638b8','0x51f9971dace3926882b8ae080db668d94e7ea54f','0x32f41b9f9ce1945c27cecd0f7848792d84f5d1a1','0x52aac26bf4509964e0979230eef35e9e593023fb','0x80b31cd1197f38e90a262075fe0d7c2ae49cfe80','0xef3d44891a3405ebb3ea72571768a2f113ad5e8f','0x059290d762484659a79073ddfaa96b19ddc6cf09','0xf82a379ad5e2d2333bdeeb92357799945931243f','0x3ec207d29c854ef3d323cddb335a7bdf43f9b97e','0x36e4c4ff62731e8eb7b5bfadd12a54565950e682','0xe1b94219f76050db648acf11391547ffe99bf5f3','0x2b9ca16ec0cffcd774e0e97beecc46f4962fc4f3','0x3de030898f012abdd74ca2844ac1e2ca3e2e8096','0xa9d88f33f18f3c005bd113584f90263dae07bc4d','0xcf21a7203bebc9801a0ac033dedc7d830be09271','0xea881d67eedc378484dcb4c59db2be7febcd69c7','0x096e9270b4c42c4e23f0189077f6a4e1c54ea710','0x630ad38e66428fdd3bb28f86bc9d3f4bfd9c9540','0x04c8506d8ceff750c899aa940f260132007aac1a','0x062da6262ea92e4f88192b8914afde7fd370e171','0x2b04ed29838bc1a7d90bd58ee351f9adb5e2c496','0x23594279b41957e5b754739004f0daad86c0406c','0x348b822e5274ad61d40f1c6c4b584fe43f9a1e72','0xe9b60d1580e43e5b54ad41ec7ffc586ae1a1d990','0x0489ffc8d9680f4e0967a851b0951ae292392f11','0x2cda4d8cfce3f144d71db2cecd6c64d953035145','0x3a180e5e69547a91fd70b10dc3b2252665a83319','0xc340c0b3065773b08bf269b090409e62fa23f7ed','0x482b8c936209ffaf180d2ad3f319d009e085b481','0x370e4c20c9ceba3f7b46bec88d26773e91d121b9','0x7c6ac1efdf4f7eaeddb0eea4b55aac4b963dd675','0x854ce8d97284245540472f61216ededda6c21cb8','0xe4ca1a73a235a18f1ddecc6c8124da18ddb4428d','0x71bc67c57e49867f44cf8df2f4c8290c223456cc','0x1cc3438a94119bf4e0a09e48877afa1e23797f42','0xd53e8b8a34c41cf1b5bbb2dab17a4c57c71dc9ae','0x56c30534a15a0c35b22d1ca3599df492ed34cd4a','0x32429fbfcf7f6f646fa6fb62a9e71bd8c38df7c9','0x3c9ac63d773f6f4db1529f5352bd3ca4cf1c98bd','0x664ccd0d47549f0e72303ea6b8c760a2febf7a72','0xead417b183ef4d8a431a36db11adeba2441b5f4e','0x379b390481c671691b83eb1a660bbe689defd692','0x3574aaa6f206357d23d98fbf0e10fb28d9428680','0x7074793a4ccd02bbc06633ce12d1ffb1d3cccfc5','0xbfb282cf21b2021290d340c0164da0107e98329e','0x52dcc99d9216cf108e42db920758eb3a0779c556','0x3d989c92ea31353b8b68c965ed9feaa33f271a46','0xa758440d9347bf4dd94cb977f2dcb6b10f855171','0x809bac1783e732061ffeba11cf017eb2e8ac655c','0x9ba379b944b5d30b41fe16f7e2b33b558e934353','0x3e5dc7ff8a874d832accb2589370489d0e7e8a49','0xe15753f24cd58cc92cd9f2ccead3b7dac44f8f27','0x5b927e2631be72449cdbb396b478aedbaf3cd3dc','0x5e80881b584bc8e58c5e823a09f7cd8bb38eaf12','0xe95608ae08843d462efcb53e8334a2d1fb368750','0x3417c46bf707ab896a3069a32dfb17706c81b151','0x7fe32bd302e60fde57025183fda66a75f95dce86','0x997979254453e449e8a07686a29f942afc95e2bb','0x669d034980fbe1f825a8ce9067e66d87fc20877d','0x64f2238e28da05889428b4c6928c4f77cc61983e','0x73fa77cf094a37c1ad0942e2c33a8164e8516fe1','0x88d4a3691ab8ee18620d71415acc3acce43b9578','0x92ed7ee7cecc429d7d8efd01f1b88012e011da5d','0xfa77b14bef1f3c6b8d8161f5efe39dc2b3fc8f5f','0xb120c386d7e9f11ffdeb6e94dd5ec508a2974126','0xa1abd0687da18cb40ac006467b3d8dd89f5e98f4','0xcb0de3b85e5cfb4a39e74cd71b65026bdae3f8a8','0x02c5bc1c9419e701ee08c5c6d6673252f4beb19f','0x07052984096189415b40531a52b7d679de069800','0x002a7deaa3470f20b2459ebd2755169df3020660','0xd0d9bf4ee94eb16523342e3ae8bd33c3ee741e20','0x8f0763a1caf3341fe256c523ebb7019acafcef89','0xe0d3a552dc24493ef26ea3bc24e1fc68e2bc4322','0xeaa0153155b55e2dc5fbe2bf3738155dc9895dcf','0x6a64041ef7d73a349e536e0e7557bdec76979a3b','0xba5cdc6c9580656a6601a7ea8944fd5cf9f1bf93','0x7b8424c88663e60b9d8221f09af7cec89f26945e','0x73b3f4f65c118261562f8200edbde6ad68b22276','0xf667bf4769924cca0cf7a9a956a8f161e143d154','0xd95970613bd58ea64273a8a6286abbf7eb83cdcf','0x756085759bd65c10916166d0081f0745a35d03ca','0x608f64f9f5b09b15e08d92b86c3178c3d89afb33','0xa3b6e7c7cd94dbe8fadf98e23504ae8eea82c21b','0xb82b2e92708a099439d9b18b73f8ea440c60e189','0x00e40253266fe98f3ed08b15dfa7318a78220546','0xd5352b40d41907ca2ca293e69a7ab97a72d5ea76','0x85993041d44aab8ddcce02af4d7ef6d14ddb9b0a','0xd57e312c2fca355d49117435156c72024d50a935','0xb4b05c5b85d1cd4ce31230b0860075073f3ffab6','0x1d31719c35669abebf960492943f035e408b6a01','0x7eb6352a47c430b0fccba646b4ee56832c73a715','0x4febefb05c7c41308fd04ac325886a797626958b','0xa8599a3febd8e346c7e5a613c9461d8beaf395dc','0xb634ef64f079730ada0ff3403a086c967d6d168a','0x9ce0680e1051c208c875139c37f8da749995be0c','0xcf481d0a57ccf5e2bf0eee49987b9bccb4cf40cc','0xf4f50f0d47c4f68093989f25b115b10d3d7ffa2e','0x1fc5d18fc06fc11d3b35c5309b659e39c6cc4315','0xe711bd3b07e34d4d91e0ead6feef00b104c1c63c','0x689e30787a75b18e4cb65a952e66f1e5e613d3ed','0x5ac3dabe669476f3e7a0421e1a53d1ac8660751a','0x9db26b6cb2ad4ce2cb1a4cb1b8ef2caccd0a7e78','0xa0791679b5e4710a3c8531eeec6e9798970261a8','0xe37fee67ba20fe1414ba9af0e04c14d598d56253','0x8408514475673886c0fbd72d8929dd35a9040945','0x4897f2a49e17e245645853d8fdaec74670c2c3ba','0x60ae70fa58d52c518b07f15158197653c6c1532f','0x8f0fa69e933e565d28385619403ee2af0bb0aab5','0x77833d5c3b80e6fe054e37e9e9a9e3952dc2610b','0x70596c737be4ae6a6ceafc90cdb07114a83fddf5','0x3398dc243cb015dfaf717124ba0392d02dce85f4','0x1933b683f2a03f656d386074689d52603f3307e8','0xea1d955b759850e380ba4e27dad6a292e3727850','0xfa51e873138b2b049d8d9d2a65a2f2c28f10d49a','0x5e127c05527f6d1f2d236289fba9a918eb618e22','0x0b8545f2580d820e1f728af37d10a1a0b6a20ad3','0xf1bc7e6bec60adf0b58b4fab7ec6474994913bd3','0xc54d29d21f80e94f5ea587cadd8c424af7259f13','0xfa115252785d62183fee3f8aa42d2ce6f09603ad','0x8b15133d7b73f579c944adf1dff8ae81c2bdbf0d','0x3e862fe508ed8046cb6a94dd210d82c4afb31688','0x20384cacc17f7a2c3035ccd4ff2903563ee2c13d','0xb8bc0860eeafdf09c0ecbd69abe4322e9669fe97','0xe30199e904c27f7557b78118090f4daede7d5920','0x0a3adcde5a6c86585b970e73cdce956b11ec97f3','0xce58b1021152c0cd80bcb6d33306d198bc5250bb','0xc8a8229f9d1a42b0685a844be112d54b930e9f03','0xbc2fa977ba7ea9ed5858b59ffb5cebbcd7d6f266','0xbb9a8d8ac91c1244ece4d598e136bac281ac424a','0x7526f7cb04e1320fbf5f13fff6edf9b6a40d8123','0x2095e74f773a1364eed258a0c9003bd84283b1d8','0x32901623204f1c54f4a67755e867d7774cc72d78','0xd7e403167e122b7a0a24074bf5c9bc542955a14e','0xc80a86b117c250d37a356ea17413e70bfa08e820','0x39130f7b5299e83bc30056fb9de9dd11bc3fbdeb','0xeaf8f84970da47d329f1fd549d22769617e83d42','0xe9760b072e38e077a70060893aea2e9974091cbc','0xc3a706f88630d94d8e63a1a113d0a83c6fa89103','0x8d85894e54161ccafe371ff4adbeca49063b8d61','0xb11cc1b2a862e0886851180452466e27726a0636','0xd3400f8bca974c4e0ff738d23d48c61a2561f3b5','0x3428b643161d98b81c8a751e6f1e8119ff788a2a','0x2c2b09e7a6e903e01ada9012515869ad33e3e5e2','0xc1bc4abfd547471127d76a4dbc41b3b73049fd8a','0xd8a7e33573defb75087d40dd491a6e58c1bda749','0xa1cc625b2a1faacc81c75f4ad232796e56495462','0xb71806352d0826f889f6e50957379870ee4013ca','0xadaa289f72adc029fa622b6914f1d2cf04ab080e','0x464e64cc1ed4bd7d013bcdb52cfa989422ea738d','0xc6684710bab903a3374ebd4358667c72bf8bd5db','0x8020355f504f93992b49fab27343cb24bc569e90','0x6be5793b9699a32b9e6513e115f1e6f6a5731323','0x34f7b23deef2afb826186a4c2d840fef0b867fa4','0x29ac716916c5bfc3a6f5ccb882a44d1bf6a8729a','0x6539146ca77f74be6c851ed6c7bb45ff8c44977b','0xb3d96555da25ef3d00d3d0c4ef05fbc5c715a2ee','0x9fbe85a65fa1407df0bf9853b12077c57fc7a7d3','0xf8914a8a2313a1a91daba93afec092989f8e72ba','0x4c1efbac86a7b3f1d3f636ce25fda62085a34478','0xb8ea48ae3279d69718098ffb50cc35ea054c9bd8','0xedcdb4f6e32265d20b984712b1ea22379cfb88ee','0x92fa0023edd834b4ae359e3d2f3d5d3208db54b9','0x3635e3bdaa7e029a2023081bf53c80609eeacff8','0x2c5627ac8acd2eafa876176bac65112e31ae4fee','0x82230779e512e07677d88b64939d8a9eebf26233','0xacadf7c14fea22817ee87cc4739dde8147aad2be','0x990ab2b91b9958efd6d65ff043a3658841cac392','0xc4ecd02ddaf564042375a5c2af685d5128b3d0f6','0x94fd47f13df7572051eb859a9ee403f713c04f17','0xa541092368397444186f6bd6b9aa55abe75b576b','0x969759a148a8eeae7bf7920051f636a40278d384','0x3a617d90d4f389a3a4d04d9372fe4e12f15ac82e','0xb4725430cfb69db530a845c299d456b1bae29df6','0xd3da0b56afb194e13b82e96df1aca71f44467914','0x1529b99ae31d8749053cff9690f181ecce2a61bf','0x4848d537f784cf9828bf03c03f3d662702a58786','0xcb459adb3ebeb2bae626edc1ab80ac28f9f861f2','0xde21b31046e691115d2437bc29a01e073254c91f','0x8e093ee89332bdb5396e4b1281b70750eafd453d','0xde0da920d05ea2d64b23fd4d73fb0bf76714a83a','0x1c83083283109d7772a0cb2dd53f4343f3d6886c','0x670665b43db4a73555036ed391df209e2db25ef8','0x11368d74577af032db49719d2f3337fbe6dd7821','0xc4ad8babb70d5b78cef0170072028aa53b41ebf4','0x6ce53a0c0d13a73f656536324356bef5eb1624a3','0x3dc17d52d1fe9afff0f7e1f7c25d0e860f0cd829','0x431cbd8d22949e9b6b8bf89b6bd9b016624c6ccd','0xf12baa92d76c1e103197eb7c30ea618858dbf6ff','0x1fda1ee945f1fba1b1352f46692ab130a86a45aa','0x2c12a959ea987cb650b1a9c021ce03d9b272abc8','0x3b3b696985e8d72d73792a32fbbbbcd89bbed945','0xfc0393f81be1b244c41d454b5e5197d5bcc649f9','0x1b918806d9b91d89d2e60ec72511281e2c4899f2','0xdc1d0099dd7abfb391fec01b2284d8a6248f6275','0x24568c2310f67a633fd6364b8dfb6f67ea37db24','0x27f3a89476cbb2d33fc8bc8a4c9138eddd3c915d','0xec88264179829ce19b6aed5620aae7de9c45603f','0x599a7205e82d25b60befc76a956d0346986d8070','0x17b97999e7d901d4ae8c24bcb401d281a19af489','0xa258bb8ee7c270a43919d08c69c494291495429f','0x960dc05cdecc5a2a6b3169fcf7e3fbe10898b662','0x8d7e926bba39eb23f9c37cdf2ff00b83361fb4fd','0x034a27210bc233b1605aa66d547f2c72717ea582','0x4c244e87cfaffe08e6ab49bc53f09c6f80ff9155','0x0e57d6abb371fd9577d68d5620642cd1ee9cf6de','0x34965d211a7e41670fc2d8ebff07c08d645e8664','0xe22d911479c9d288a21cf171a4f7904cc4868151','0xc5c11b0e1ffd22f6637bbdb4e420df48bbcb2aa4','0x73db696d27c775e483d2196a9cb38b64359f3e6f','0x1d354cc07972502f59f0708e22021490189074c6','0xcc1b6ae0ed27f9502c0387adb269ea30475cdf00','0x0d395b0a6677f6d0eacfa011940e0cd15b8e1148','0xb02327c418c27f389d148487e4ff08c3d0d45a8d','0xbdcc397029bf2055500f40399c3b2cf858317aa4','0x8d1d590e7cad31f83b4c99917a5f3779c30f6de1','0x8e5538bd7c122575021c41f76e5080c12308b509','0x36762e70be9a9c02f54b438a2a61573d67f24324','0xb62b1e88f2f99739635ec01912dcd61e256d570b','0xeaeba8fb94e87232bacf0f9ed491e55b4e07b212','0x8d1c3fa98314879f41d6e544c1671482e42a1853','0x7107aaafcf9e8914b0189fe63ee91a9c44750db0','0x0ba7950c5b166733b9043ed69947b15f8af08c5e','0xfae10e35ff36d0475f9c88dc3381cd9b3bb688fd','0xdcf45f7f5dcc1429266291a894f03e4bb7460b16','0xfc294ad84b99de42b0277daa751e099efaa9a147','0xa1c9eec5aa85f130822035a484f8cc857c01aa18','0xa3173ca085ca777b08b2ac2b7197bf32ce7331f7','0x46398f28006ba86584813d072dde05f0475e4dae','0xfc32ff55faaf1e9ee30dfa3e519213c43e6250c8','0xf816b792311df7b1a379b24330cc68f0ba8e4f77','0x406410b976548286d3fabfeaf60fe7438ea4338e','0x7c5601a546cf223104a26fb02c5185b651d0b74d','0x6768ae8c8906f7b2365f2049dd2067593e726cdc','0x78095a3dde1f06a5fb6179447b37439b0621d733','0x23f3adb027a92803e0a37d42c8e3292d524f05da','0xd8e880faa286f5ac36d83af3c9791b9818c59d2b','0x65356b766b6d25bce731d216e983ba48e64d2708','0x33d59f6af0b3e481cc16152160a66a117c57a459','0x2dfa4f68193d12f2abaaabf6a0d6b4d0d2cf2348','0x25d1c9419145637c9ba399a51ac03d4b6f9b5977','0x8facb05ce8b56f16062c585e7dba28473e58dacb','0xc47a4416f17dfcf4c0f97c5e762a6e7792f5b3bd','0x4f3f7cee18a5c081d8a28a59bd749fec326b7fa3','0x6c21f9cce1e82b5079a9710cfb0129bfd790e4fc','0x84fab4f414d7850aac33d1372478fe48152fc6ab','0x7a5fbb619fe858015e5cb0d714ebc242ec0797eb','0x2e420fd1a9020627d288a82bbed102f248b37843','0x5138440d4f4fd4495c3b6412fb1577da59fcbaf8','0x10b1391a65a6d9c8caab726c5c522b5623e2be54','0xa7ef83a3475fbcc732ed908d69fe9af3a380d78e','0x3a90b5fe7f6903c05172cd4b0efce2454800df16','0x2f385b172232708828eff0135fc7ddc3dbe358c8','0x0246e1dd663c9cf63eef006381ab711afeda7784','0x33529a4b02680f821b2c9d74b8647d5d65926152','0x8f50e71b2c641be395936ecce442235e9a148d02','0x61ccdca415a00fdc6ec429fcedee79edfeb95f86','0xeea60fe32b527cbb2fc9f19d97b465e298917b56','0xf7b6279a316f8085b4690c91a9ab575dd02bd7db','0x797d7c410d42d2fd8f60d7b1245d005b177ef072','0xf170d2ee7a92ddd84d1cd2bc4b30c868da9deba1','0x6d455ff509ecaae3577a556e618d42903376015b','0xb5ca5624a7199cb8ee23aa2bbd33e85588c0fec1','0x58b0ccf24bd804f8d457d9a5ac1d73e88c8e4af0','0x8a39e06834dd5cca91e734ad91e2ad55e4f87c48','0x87fbdf03e3ec88f9a8bb368dddf1bba12b524e17','0x7cd74774a497ace80b6528874f1a951a8017bbdb','0x39e163c0cd0e3653ddbd358e32d292a169603f35','0x071777e997df6cb7c7e44861ed4386c75464c774','0x0cf331aa679af34ca30547d35a04841a89f62dc3','0x5d7b818babeafc1d71f8de5025951eee4d57fd17','0x89cbdb8f3276b84992df336e10223448eb8118e8','0x3b0e3b68db2d26b1bf89c25950b5017ad4f4741d','0xf4b5b9f8fe3a2b0ffa51f5075e9fe8b4f942c043','0xb045e7c4beb19a5742816f90526a150f08dd9395','0x7db136fd3295d80ec5bc4ae90892518903a3c89b','0x6a17d3ed7cc35d98d10646bacfde32d800b656ec','0xe4aae15686779dacee5c5f3fe11f4f9dad857fb9','0xa22025916d29749a57ec66d11d06e2d5f8cd36c7','0xc84694aede8e1f0010a960ae67745c8836300faf','0x12ce0f2cfc1d892a642edc8df669e36e1296da73','0xed2c253ce51016c4efa9a6e0c2c27ee8ec929131','0x42e174963e060cc3cde1f2607b4e8de9c1e21b01','0x5f7b0827e3e1ee74141ab0c3fa9e4449befa5eb4','0xfb2e10f738a2c02f93bd9f04cb4f554953a0669c','0x13a7131d7d1703a7b8b22132176657efc85e7ecc','0x26e8ea16376c7c99e0e7897509c5bd1144a7790b','0x0b11546e7905f9dc9f67edcbefa502c0b19a2cc5','0x2da52c8aa76a2040c50b755cc11e40434ae5f295','0x464bbd13c51f7d39acfdc16c74722ff6ce4935cc','0xbe909f07699a5ef9ec3cce3af46b0f3f2a5cf1c7','0x636f13ef1fe0179b52838a51a3888ce377d9544e','0x4230965e023804c63ff1346e9cf5bfcdc9d9e98c','0xe9104db4f0b01b3f4e87addfe6393ff3926bfcb3','0xc254e7591279de920b5c4f1b57a756e9f6d1326e','0x8e416d319d8750739d06853cd05c830c507e2ac9','0x6a1b49e0a3f10192caf2f6eea62393c1c47334e9','0xdf0a8d70af4959e0b55dcbefe7cf0917053087b2','0xb208bf80e5196d02675fb6bb9fa5594f7ea0d236','0x115f73c9f1fa336f77dfa03307c2f567f15d78c8','0x1aecb0daf5616ed5692319b6ac78a013ef8be002','0xbd1c346fb398c309528c24b01ebcda79241b8c02','0x96c1ebf7e500b6f71b52bf5c94a4e7154b08f3f1','0x6b6d598e7d003a36ac78c5dcbbbdc3c6f8131b24','0x05a8a676efcf12d3aff713f72c3c0331aa994c15','0xc1f508ca8198c07b5096d824a08d6d46048c9f23','0x88291f551cf8524a887ceb0fa31095d03a5d2f2c','0x49274fc913c62b3eeeb52880d15f51dfc25ac972','0xa7048f421ad97b3a4fca3b6258c2ac22f349111f','0x98d6c19458f633103bd4853717b0a91b152a8b3c','0x124918cea5cdfd8d98583224408a66f1b713aeff','0x30045a5bc45bf30621180abcaaf7a51298956516','0xcc8ae41e499c8c4025fa4a6b08122772ef894aa1','0xd335b90f174eb289859b18901749427b8c5bfb7d','0x1da735544a8d331efd6595001da2dc1a1d49288b','0xebed3f3c8f1d6698a7f2674a0510f64597f0a9c6','0x55050a67d9f0db6ec77d1855aec44228364f6ab9','0x09e937043fad7da01127f6e26b45b3bff2ad619d','0x62acbe328bf4be349d6f7ec6febcfd0600a13f7d','0x63f4fdb346db970d0c54c2e57de1fccc3645faaa','0xa1fc5c2811c31e759798c682578cc96453eecd17','0x4c593da41a0e2f79a1d7d0a10c90ca6f1c3f18a5','0xf6b03065e222d3f1a32f9c3325baba78b9a5d43a','0x2e3b9b2f70824bd4485645356002688847d55d7a','0xc88fd7f531b11087b3fb595d02cce947e692ee18','0xc3af1878260d00bb39eb6d8fa06126fe916ad1de','0xbeadce2e96d7719428d53c30b9856e590f31d79b','0x2b2adf534c2b435438986d95f7e0e243929ecb76','0xa01b66e7518f59d3b8128b99d3b98a5026524eed','0x875d04624b64b9bb7ad888849e227ab9c02e6946','0x69950d182936bfb5427e25b87081d38dcaa4f838','0xba7789db4e245dfab64f8926ecee5f51ca7d63f4','0x40760686e77ddafcf6280181e4067efc4be68143','0xe6257785bcbba471d416242beade7180338ee2dd','0x4dd1e691ce61dfe3002bee197d896c259e6d91e6','0xf0341ee50ce4e59a57a97c5eb95b4d2c1f1dc976','0xecd644ca524e1bb07280f5a88dee9aceca2e298e','0xe9e1c313de89f7e95fe60909bc2e80132064e92a','0xf6aaae83d15eceaff874719f875411f536ae13b4','0x645139be1e932277d380bf2f3cc60808b5ad54cf','0xc1bbd7b19470f3e117c9440c57d753902b33a583','0xa2a4ef41a94ce28df1e81120221d7c8afbaed505','0x020b06ccc36834c609c86250ff57deacb6897b18','0x283af45383cc9f7a9c9f92c9165a9dcadc1a60d0','0x141e82c62b244d02785c46e14f9e80dc8f606133','0xefcb380fb2e2151fc9c6c84e24bfdaded06928d2','0x57a399b6b5b5b7257917bfff71a76f5c3bd2cebb','0x917802d47a0da2ee09de2aa8e3a7ea9fc2989aba','0xaf80e4ea6e4ca14abf3e3ff8dbe0b6060cdbda59','0x02d7b316eaa841cf387194aef399714af75572cf','0x3fd578d14afc5e3913b4cca12bdaf7c2c17bbecc','0x85960932e59f37714fda747724a05704c50e4965','0xd74f567e5cb964a64b9a19765f3502100baafb24','0x6288f9357199e6679a01ce5aaeb8ac5ae7e74245','0xacc41aee247653d5adc0a50b04c9d48487a98e9e','0xe38a1b4b494b22748da09c74d3dc853ce59f06a2','0xd3c1ad94e30f58c767bbc1689320e0eb3906ece2','0x1f12d84ac2a1b589f1c57b9e10a45f3219fed020','0x9e9742223033795aaf231ce638566898b0be3c54','0x3e65ea9862323849d4e048f5454384a60f6cb17c','0x95c2d0f8d7ab2f583584c95431beceb90469679c','0xef35e7ec3602774664163e3581919e4a8ac77f4c','0x7a06d3cff49f3175321facb3f8c2fbb0b03eb68a','0x2e7e46bd4380e6721ee3b511c80e9f8fc75d5d87','0x1c161815a0eed945e7173acde82c8b79cd128aea','0xc80cc57d92dbb7994b6076566574a0b5856970d0','0x5ffe2879ff9354653d07b2c2dc1ab82e25923a4b','0x503b10386fe99c61623f955819decdca42c8b890','0x5da8295efcdcb0c06ac8755a22e3b9feaf1fdbf7','0x13da8fd742b16f34d6aa0bc29f1ed2814f726033','0x33de37d9dd4fa069a13189b91ae03c96fbdbc14e','0x8bc34fb86d811f09a5ada264a02518352adebe3b','0x22066aaebf9659f241718baf7eadbbd714afa13b','0x8dfe982cc0719c6914bb2e48fe8aafcb86602ed5','0x022b1078c8806342845119dc8ec2146b6c211833','0x2d440106d26b089ffd82806546b5513bb32d3a82','0xc19de593981e1e38153d6d31a9068394322df6f5','0x2f07331224556bdf165a2db77164a40540f986e9','0xbb414e5c8fed9cea692909424c673a88c5cd7e49','0xf3a4e353af93ae706cfba44bccbc21219efff2ce','0x1fccad1288c184e3da07dbb75786815a7ec9318f','0x3c7267f657fc4753a99ad472bbc08137966c0791','0xeb7abc16fe09d4f64ad05b8d5202a06c241f13ca','0x0ff149c90c879f3e581857147e628cd6878e6680','0x42e481b317e07106470954a8a6af2c866e9972f0','0x66d1389ccd90bb7fd0da4d873a7f4eb75936624b','0xd3f818a4aa28a2cc51fdb6b09c2e9c40d616ed61','0x8fdd95b96b8047cbe25e439bd609d59cd41a59bc','0x99152edb74ec0bda5d0711995f230a09c1541600','0xb4321d066c52be79072dc165d28e47750ee24415','0x3c9fc767f27de64c4cacaf0c3021097318810ccd','0x178a27b8fd8d99035970213fabd09133a46ca484','0x53db63a485eeadf296a57ab3baf236878d9b293e','0x4ffa7fb653fdeb5e46d622979e0d19eecdc129cf','0x1ec212370e783c796130461a2e47d710dc91c5f4','0xd62bda82bdccf2bec211d348e2eff74f68d1d76e','0x548413cbda3718e7049aaa7488c9f006a0725e70','0xd9d76f6f31a25e180ac5e147d61ada79c26e8cef','0xa33657334dd4135f92528a9d7147e64884ed3c5f','0x3af907d48ed2bc4d2a7ebfdf437421f040c21218','0x0d65fe9f652b21dfbdd781dd0a71dcf271d2087c','0x3d81ad9647359431b3c246c2b33f8a914d9e46d9','0xcffefbdefa9e877f2b7897e7d5e8d03d2b6f091c','0x0ac1c058269347ca53e952d25ab26231c08f57ee','0x46342ea6d4c71e35290b69bf080e969a5099d20b','0x50d263986882b750580dee5025b7ea0692944c07','0x1599dd27da8e226f2834f6049d14bba9f9657aa9','0x43765b8847460133049ddae1db080d2a967fb7d0','0xa2cbe42449b10700ba0497f3806eab2abc29e42f','0xf3b93cf689ec506ef8ab671ec94bde7b1ce61682','0xdbd5d2f16439aa079c41d0ade885989b26460911','0xe1e7f00897489265d54341c3240ea582806f7adf','0x52a305ab81734b9999dbf3a5e8f0a183ce736057','0xa33514248fde3f30873c0757a1303be5e27ae94e','0x20b5ec97059d037447f4e9511f7bfb425cf10023','0x2d0b16c17906447b1f1faa251caa9018fefcaf50','0x211bdbfea0e60bdae404246999b7bde852c6b75e','0xb39e434bb5f11240b9e7e8fed419444e98d31283','0x578a62e8bebda80261a9270f074bbd71222dac87','0xe5fc985d2b1168ccfb77381503e1a630ce2b1c22','0xd9b415a727c9506b2487788d7693dee5e5cd7677','0x9dde2320df48f207713b5704a708688339e15f27','0xfff7404507e07d7b95ff622c1908784e88b01b17','0xb293923c00d055eb7dd942d06168a3fa18688c46','0x3314a28cc2f9238c1b8b8bc5e392d01a8d9e143d','0x0f3524f952eca7fddfcd3b33eaf4ca8515bc2cda','0x95d7ab1ca314b0d4a04caff68f650a90a5b6d86c','0xee9682d701d014674db3bec9e046598373e459ad','0x8d4b59435dc4daa1e0d15e1997ac9f1539a10e55','0xa3911dfe49c3c247777820bda3e941edfe142f48'\"]"
     },
     "execution_count": 32,
     "metadata": {},
     "output_type": "execute_result"
    }
   ],
   "source": [
    "sample_addresses = pd.read_csv('./sample_addresses.csv')\n",
    "# Define the batch size\n",
    "batch_size = 1000\n",
    "\n",
    "# Get the total number of batches\n",
    "total_batches = (len(sample_addresses) + batch_size - 1) // batch_size\n",
    "batches = []\n",
    "# Loop through each batch\n",
    "for batch_number in range(total_batches):\n",
    "    # Get the start and end indices for slicing\n",
    "    start_index = batch_number * batch_size\n",
    "    end_index = start_index + batch_size\n",
    "\n",
    "    # Get the current batch of IDs\n",
    "    batch_ids = sample_addresses.from_address[start_index:end_index]\n",
    "    batch_id_str = ','.join(f\"'{id}'\" for id in batch_ids)\n",
    "    batches.append(batch_id_str)\n",
    "batches"
   ]
  },
  {
   "cell_type": "code",
   "execution_count": 58,
   "outputs": [
    {
     "data": {
      "text/plain": "[\"'0x473300df21d047806a082244b417f96b32f13a33'\"]"
     },
     "execution_count": 58,
     "metadata": {},
     "output_type": "execute_result"
    }
   ],
   "source": [
    "\n",
    "inset = set(transaction_data['from_address']).union(set(transaction_data['to_address']))\n",
    "len(inset)\n",
    "retryAddresses = list(set(sample_addresses.from_address).difference(inset))\n",
    "# Define the batch size\n",
    "batch_size = 1\n",
    "\n",
    "# Get the total number of batches\n",
    "total_batches = (len(retryAddresses) + batch_size - 1) // batch_size\n",
    "retryBatches = []\n",
    "# Loop through each batch\n",
    "for batch_number in range(total_batches):\n",
    "    # Get the start and end indices for slicing\n",
    "    start_index = batch_number * batch_size\n",
    "    end_index = start_index + batch_size\n",
    "\n",
    "    # Get the current batch of IDs\n",
    "    batch_ids = retryAddresses[start_index:end_index]\n",
    "    batch_id_str = ','.join(f\"'{id}'\" for id in batch_ids)\n",
    "    retryBatches.append(batch_id_str)\n",
    "retryBatches\n",
    "# Get the total number of batches"
   ],
   "metadata": {
    "collapsed": false,
    "ExecuteTime": {
     "start_time": "2023-04-19T16:21:06.092124Z",
     "end_time": "2023-04-19T16:21:06.101544Z"
    }
   }
  },
  {
   "cell_type": "code",
   "execution_count": 59,
   "id": "87a87b08",
   "metadata": {
    "ExecuteTime": {
     "start_time": "2023-04-19T16:18:27.358973Z",
     "end_time": "2023-04-19T16:20:51.959367Z"
    }
   },
   "outputs": [
    {
     "name": "stdout",
     "output_type": "stream",
     "text": [
      "200 {\"run_id\":\"ZqMxOIDiBb24PQUj6rBi\"}\n",
      "Query run created with ID: ZqMxOIDiBb24PQUj6rBi\n",
      "Current status: queued. Waiting 1s...\n",
      "Current status: running. Waiting 1s...\n",
      "Current status: running. Waiting 1s...\n",
      "Current status: running. Waiting 1s...\n",
      "Current status: running. Waiting 1s...\n",
      "Current status: running. Waiting 1s...\n",
      "Current status: running. Waiting 1s...\n",
      "Current status: running. Waiting 1s...\n",
      "Current status: running. Waiting 1s...\n",
      "Current status: running. Waiting 1s...\n",
      "Current status: running. Waiting 1s...\n",
      "Current status: running. Waiting 1s...\n",
      "Current status: running. Waiting 1s...\n",
      "Current status: running. Waiting 1s...\n",
      "Current status: running. Waiting 1s...\n",
      "Current status: running. Waiting 1s...\n",
      "Current status: running. Waiting 1s...\n",
      "Current status: running. Waiting 1s...\n",
      "Current status: running. Waiting 1s...\n",
      "Current status: running. Waiting 1s...\n",
      "Current status: running. Waiting 1s...\n",
      "Current status: running. Waiting 1s...\n",
      "Current status: running. Waiting 1s...\n",
      "Current status: running. Waiting 1s...\n",
      "Current status: running. Waiting 1s...\n",
      "Current status: running. Waiting 1s...\n",
      "Current status: running. Waiting 1s...\n",
      "Current status: running. Waiting 1s...\n",
      "Current status: running. Waiting 1s...\n",
      "Current status: running. Waiting 1s...\n",
      "Current status: running. Waiting 1s...\n",
      "Current status: running. Waiting 1s...\n",
      "Current status: running. Waiting 1s...\n",
      "Current status: running. Waiting 1s...\n",
      "Current status: running. Waiting 1s...\n",
      "Current status: running. Waiting 1s...\n",
      "Current status: running. Waiting 1s...\n",
      "Current status: running. Waiting 1s...\n",
      "Current status: running. Waiting 1s...\n",
      "Current status: running. Waiting 1s...\n",
      "Current status: running. Waiting 1s...\n",
      "Current status: running. Waiting 1s...\n",
      "Current status: running. Waiting 1s...\n",
      "Current status: running. Waiting 1s...\n",
      "Current status: running. Waiting 1s...\n",
      "Current status: running. Waiting 1s...\n",
      "Current status: running. Waiting 1s...\n",
      "Current status: running. Waiting 1s...\n",
      "Current status: running. Waiting 1s...\n",
      "Current status: running. Waiting 1s...\n",
      "Current status: running. Waiting 1s...\n",
      "Current status: running. Waiting 1s...\n",
      "Current status: running. Waiting 1s...\n",
      "Current status: running. Waiting 1s...\n",
      "Current status: running. Waiting 1s...\n",
      "Current status: running. Waiting 1s...\n",
      "Current status: running. Waiting 1s...\n",
      "Current status: running. Waiting 1s...\n",
      "Current status: running. Waiting 1s...\n",
      "Current status: running. Waiting 1s...\n",
      "Current status: running. Waiting 1s...\n",
      "Current status: running. Waiting 1s...\n",
      "Current status: running. Waiting 1s...\n",
      "Current status: running. Waiting 1s...\n",
      "Current status: running. Waiting 1s...\n",
      "Current status: running. Waiting 1s...\n",
      "Current status: running. Waiting 1s...\n",
      "Current status: running. Waiting 1s...\n",
      "Current status: running. Waiting 1s...\n",
      "Current status: running. Waiting 1s...\n",
      "Current status: running. Waiting 1s...\n",
      "Current status: running. Waiting 1s...\n",
      "Current status: running. Waiting 1s...\n",
      "Current status: running. Waiting 1s...\n",
      "Current status: running. Waiting 1s...\n",
      "Current status: running. Waiting 1s...\n",
      "Current status: running. Waiting 1s...\n",
      "Current status: running. Waiting 1s...\n",
      "Current status: running. Waiting 1s...\n",
      "Current status: running. Waiting 1s...\n",
      "Current status: running. Waiting 1s...\n",
      "Current status: running. Waiting 1s...\n",
      "Current status: running. Waiting 1s...\n",
      "Current status: running. Waiting 1s...\n",
      "Current status: running. Waiting 1s...\n",
      "Current status: running. Waiting 1s...\n",
      "Current status: running. Waiting 1s...\n",
      "Current status: running. Waiting 1s...\n",
      "Current status: running. Waiting 1s...\n",
      "Current status: running. Waiting 1s...\n",
      "Current status: running. Waiting 1s...\n",
      "Current status: running. Waiting 1s...\n",
      "Current status: running. Waiting 1s...\n",
      "Current status: running. Waiting 1s...\n",
      "Current status: running. Waiting 1s...\n",
      "Current status: running. Waiting 1s...\n",
      "Current status: running. Waiting 1s...\n",
      "Current status: running. Waiting 1s...\n",
      "Current status: running. Waiting 1s...\n",
      "Current status: running. Waiting 1s...\n",
      "Current status: running. Waiting 1s...\n",
      "Current status: running. Waiting 1s...\n",
      "Current status: running. Waiting 1s...\n",
      "Current status: running. Waiting 1s...\n",
      "Current status: running. Waiting 1s...\n",
      "Current status: running. Waiting 1s...\n",
      "Current status: running. Waiting 1s...\n",
      "Current status: running. Waiting 1s...\n",
      "Current status: running. Waiting 1s...\n",
      "Current status: running. Waiting 1s...\n",
      "Current status: running. Waiting 1s...\n",
      "Current status: running. Waiting 1s...\n",
      "Current status: running. Waiting 1s...\n",
      "Current status: running. Waiting 1s...\n",
      "Current status: running. Waiting 1s...\n",
      "Current status: running. Waiting 1s...\n",
      "Current status: running. Waiting 1s...\n",
      "Current status: running. Waiting 1s...\n",
      "Current status: running. Waiting 1s...\n",
      "Current status: running. Waiting 1s...\n",
      "Current status: running. Waiting 1s...\n",
      "Current status: running. Waiting 1s...\n",
      "Current status: running. Waiting 1s...\n",
      "Current status: running. Waiting 1s...\n",
      "Current status: running. Waiting 1s...\n",
      "Current status: running. Waiting 1s...\n",
      "Current status: running. Waiting 1s...\n",
      "Current status: running. Waiting 1s...\n",
      "Current status: running. Waiting 1s...\n",
      "Current status: running. Waiting 1s...\n",
      "Current status: running. Waiting 1s...\n",
      "Current status: running. Waiting 1s...\n",
      "Current status: running. Waiting 1s...\n",
      "Current status: running. Waiting 1s...\n",
      "Current status: running. Waiting 1s...\n",
      "Current status: running. Waiting 1s...\n",
      "Current status: running. Waiting 1s...\n",
      "Current status: running. Waiting 1s...\n",
      "Current status: running. Waiting 1s...\n",
      "Current status: running. Waiting 1s...\n",
      "Current status: running. Waiting 1s...\n",
      "Current status: running. Waiting 1s...\n",
      "Current status: running. Waiting 1s...\n",
      "Current status: running. Waiting 1s...\n",
      "Current status: running. Waiting 1s...\n",
      "Current status: running. Waiting 1s...\n",
      "Current status: running. Waiting 1s...\n",
      "Current status: running. Waiting 1s...\n",
      "Current status: running. Waiting 1s...\n",
      "Current status: running. Waiting 1s...\n",
      "Current status: running. Waiting 1s...\n",
      "Current status: running. Waiting 1s...\n",
      "Current status: running. Waiting 1s...\n",
      "Current status: running. Waiting 1s...\n",
      "Current status: running. Waiting 1s...\n",
      "Current status: running. Waiting 1s...\n",
      "Current status: running. Waiting 1s...\n",
      "Current status: running. Waiting 1s...\n",
      "Current status: running. Waiting 1s...\n",
      "Current status: running. Waiting 1s...\n",
      "Current status: running. Waiting 1s...\n",
      "Current status: running. Waiting 1s...\n",
      "Current status: running. Waiting 1s...\n",
      "Current status: running. Waiting 1s...\n",
      "Current status: running. Waiting 1s...\n",
      "Current status: running. Waiting 1s...\n",
      "Current status: running. Waiting 1s...\n",
      "Current status: running. Waiting 1s...\n",
      "Current status: running. Waiting 1s...\n",
      "Current status: running. Waiting 1s...\n",
      "Current status: running. Waiting 1s...\n",
      "Current status: running. Waiting 1s...\n",
      "Current status: running. Waiting 1s...\n",
      "Current status: running. Waiting 1s...\n",
      "Current status: running. Waiting 1s...\n",
      "Current status: running. Waiting 1s...\n",
      "Current status: running. Waiting 1s...\n",
      "Current status: running. Waiting 1s...\n",
      "Current status: running. Waiting 1s...\n",
      "Current status: running. Waiting 1s...\n",
      "Current status: running. Waiting 1s...\n",
      "Current status: running. Waiting 1s...\n",
      "Current status: running. Waiting 1s...\n",
      "Current status: running. Waiting 1s...\n",
      "Current status: running. Waiting 1s...\n",
      "Current status: running. Waiting 1s...\n",
      "Current status: running. Waiting 1s...\n",
      "Current status: running. Waiting 1s...\n",
      "Current status: running. Waiting 1s...\n",
      "Current status: running. Waiting 1s...\n",
      "Current status: running. Waiting 1s...\n",
      "Current status: running. Waiting 1s...\n",
      "Current status: running. Waiting 1s...\n",
      "Current status: running. Waiting 1s...\n",
      "Current status: running. Waiting 1s...\n",
      "Current status: running. Waiting 1s...\n",
      "Current status: running. Waiting 1s...\n",
      "Current status: running. Waiting 1s...\n",
      "Current status: running. Waiting 1s...\n",
      "Current status: running. Waiting 1s...\n",
      "Current status: running. Waiting 1s...\n",
      "Current status: running. Waiting 1s...\n",
      "Current status: running. Waiting 1s...\n",
      "Current status: running. Waiting 1s...\n",
      "Current status: running. Waiting 1s...\n",
      "Current status: running. Waiting 1s...\n",
      "Current status: running. Waiting 1s...\n",
      "Current status: running. Waiting 1s...\n",
      "Current status: running. Waiting 1s...\n",
      "Current status: running. Waiting 1s...\n",
      "Current status: running. Waiting 1s...\n",
      "Current status: running. Waiting 1s...\n",
      "Current status: running. Waiting 1s...\n",
      "Current status: running. Waiting 1s...\n",
      "Current status: running. Waiting 1s...\n",
      "Current status: running. Waiting 1s...\n",
      "Current status: running. Waiting 1s...\n",
      "Current status: running. Waiting 1s...\n",
      "Current status: running. Waiting 1s...\n",
      "Current status: running. Waiting 1s...\n",
      "Current status: running. Waiting 1s...\n",
      "Current status: running. Waiting 1s...\n",
      "Current status: running. Waiting 1s...\n",
      "Current status: running. Waiting 1s...\n",
      "Current status: running. Waiting 1s...\n",
      "Current status: running. Waiting 1s...\n",
      "Current status: running. Waiting 1s...\n",
      "Current status: running. Waiting 1s...\n",
      "Current status: running. Waiting 1s...\n",
      "Current status: running. Waiting 1s...\n",
      "Current status: running. Waiting 1s...\n",
      "Current status: running. Waiting 1s...\n",
      "Current status: running. Waiting 1s...\n",
      "Current status: running. Waiting 1s...\n",
      "Current status: running. Waiting 1s...\n",
      "Current status: running. Waiting 1s...\n",
      "Current status: running. Waiting 1s...\n",
      "Current status: running. Waiting 1s...\n",
      "Current status: running. Waiting 1s...\n",
      "Current status: running. Waiting 1s...\n",
      "Current status: running. Waiting 1s...\n",
      "Current status: running. Waiting 1s...\n",
      "Current status: running. Waiting 1s...\n",
      "Current status: running. Waiting 1s...\n",
      "Current status: running. Waiting 1s...\n",
      "Current status: running. Waiting 1s...\n",
      "Current status: running. Waiting 1s...\n",
      "Current status: running. Waiting 1s...\n",
      "Current status: running. Waiting 1s...\n",
      "Current status: running. Waiting 1s...\n",
      "Current status: running. Waiting 1s...\n",
      "Current status: running. Waiting 1s...\n",
      "Current status: running. Waiting 1s...\n",
      "Current status: running. Waiting 1s...\n",
      "Current status: running. Waiting 1s...\n",
      "Current status: running. Waiting 1s...\n",
      "Current status: running. Waiting 1s...\n",
      "Current status: running. Waiting 1s...\n",
      "Current status: running. Waiting 1s...\n",
      "Current status: running. Waiting 1s...\n",
      "Current status: running. Waiting 1s...\n",
      "Current status: running. Waiting 1s...\n",
      "Current status: running. Waiting 1s...\n",
      "Current status: running. Waiting 1s...\n",
      "Current status: running. Waiting 1s...\n",
      "Current status: running. Waiting 1s...\n",
      "Current status: running. Waiting 1s...\n",
      "Current status: running. Waiting 1s...\n",
      "Current status: running. Waiting 1s...\n",
      "Current status: running. Waiting 1s...\n",
      "Current status: running. Waiting 1s...\n",
      "Current status: running. Waiting 1s...\n",
      "Current status: running. Waiting 1s...\n",
      "Current status: running. Waiting 1s...\n",
      "Current status: running. Waiting 1s...\n",
      "Current status: running. Waiting 1s...\n",
      "Current status: running. Waiting 1s...\n",
      "Current status: running. Waiting 1s...\n",
      "Current status: running. Waiting 1s...\n",
      "Current status: running. Waiting 1s...\n",
      "Current status: running. Waiting 1s...\n",
      "Current status: running. Waiting 1s...\n",
      "Current status: running. Waiting 1s...\n",
      "Current status: running. Waiting 1s...\n",
      "Current status: running. Waiting 1s...\n",
      "Current status: running. Waiting 1s...\n",
      "Current status: running. Waiting 1s...\n",
      "Current status: running. Waiting 1s...\n",
      "Current status: running. Waiting 1s...\n",
      "Current status: running. Waiting 1s...\n",
      "Current status: running. Waiting 1s...\n",
      "Current status: running. Waiting 1s...\n",
      "Current status: running. Waiting 1s...\n",
      "Current status: running. Waiting 1s...\n",
      "Current status: running. Waiting 1s...\n",
      "Current status: running. Waiting 1s...\n",
      "Current status: running. Waiting 1s...\n",
      "Current status: running. Waiting 1s...\n",
      "Current status: running. Waiting 1s...\n",
      "Current status: running. Waiting 1s...\n",
      "Current status: running. Waiting 1s...\n",
      "Current status: running. Waiting 1s...\n",
      "Current status: running. Waiting 1s...\n",
      "Current status: running. Waiting 1s...\n",
      "Current status: running. Waiting 1s...\n",
      "Current status: running. Waiting 1s...\n",
      "Current status: running. Waiting 1s...\n",
      "Current status: running. Waiting 1s...\n",
      "Current status: running. Waiting 1s...\n",
      "Current status: running. Waiting 1s...\n"
     ]
    },
    {
     "ename": "ConnectionError",
     "evalue": "('Connection aborted.', ConnectionResetError(54, 'Connection reset by peer'))",
     "output_type": "error",
     "traceback": [
      "\u001B[0;31m---------------------------------------------------------------------------\u001B[0m",
      "\u001B[0;31mConnectionResetError\u001B[0m                      Traceback (most recent call last)",
      "File \u001B[0;32m~/anaconda3/lib/python3.9/site-packages/urllib3/connectionpool.py:703\u001B[0m, in \u001B[0;36mHTTPConnectionPool.urlopen\u001B[0;34m(self, method, url, body, headers, retries, redirect, assert_same_host, timeout, pool_timeout, release_conn, chunked, body_pos, **response_kw)\u001B[0m\n\u001B[1;32m    702\u001B[0m \u001B[38;5;66;03m# Make the request on the httplib connection object.\u001B[39;00m\n\u001B[0;32m--> 703\u001B[0m httplib_response \u001B[38;5;241m=\u001B[39m \u001B[38;5;28;43mself\u001B[39;49m\u001B[38;5;241;43m.\u001B[39;49m\u001B[43m_make_request\u001B[49m\u001B[43m(\u001B[49m\n\u001B[1;32m    704\u001B[0m \u001B[43m    \u001B[49m\u001B[43mconn\u001B[49m\u001B[43m,\u001B[49m\n\u001B[1;32m    705\u001B[0m \u001B[43m    \u001B[49m\u001B[43mmethod\u001B[49m\u001B[43m,\u001B[49m\n\u001B[1;32m    706\u001B[0m \u001B[43m    \u001B[49m\u001B[43murl\u001B[49m\u001B[43m,\u001B[49m\n\u001B[1;32m    707\u001B[0m \u001B[43m    \u001B[49m\u001B[43mtimeout\u001B[49m\u001B[38;5;241;43m=\u001B[39;49m\u001B[43mtimeout_obj\u001B[49m\u001B[43m,\u001B[49m\n\u001B[1;32m    708\u001B[0m \u001B[43m    \u001B[49m\u001B[43mbody\u001B[49m\u001B[38;5;241;43m=\u001B[39;49m\u001B[43mbody\u001B[49m\u001B[43m,\u001B[49m\n\u001B[1;32m    709\u001B[0m \u001B[43m    \u001B[49m\u001B[43mheaders\u001B[49m\u001B[38;5;241;43m=\u001B[39;49m\u001B[43mheaders\u001B[49m\u001B[43m,\u001B[49m\n\u001B[1;32m    710\u001B[0m \u001B[43m    \u001B[49m\u001B[43mchunked\u001B[49m\u001B[38;5;241;43m=\u001B[39;49m\u001B[43mchunked\u001B[49m\u001B[43m,\u001B[49m\n\u001B[1;32m    711\u001B[0m \u001B[43m\u001B[49m\u001B[43m)\u001B[49m\n\u001B[1;32m    713\u001B[0m \u001B[38;5;66;03m# If we're going to release the connection in ``finally:``, then\u001B[39;00m\n\u001B[1;32m    714\u001B[0m \u001B[38;5;66;03m# the response doesn't need to know about the connection. Otherwise\u001B[39;00m\n\u001B[1;32m    715\u001B[0m \u001B[38;5;66;03m# it will also try to release it and we'll have a double-release\u001B[39;00m\n\u001B[1;32m    716\u001B[0m \u001B[38;5;66;03m# mess.\u001B[39;00m\n",
      "File \u001B[0;32m~/anaconda3/lib/python3.9/site-packages/urllib3/connectionpool.py:386\u001B[0m, in \u001B[0;36mHTTPConnectionPool._make_request\u001B[0;34m(self, conn, method, url, timeout, chunked, **httplib_request_kw)\u001B[0m\n\u001B[1;32m    385\u001B[0m \u001B[38;5;28;01mtry\u001B[39;00m:\n\u001B[0;32m--> 386\u001B[0m     \u001B[38;5;28;43mself\u001B[39;49m\u001B[38;5;241;43m.\u001B[39;49m\u001B[43m_validate_conn\u001B[49m\u001B[43m(\u001B[49m\u001B[43mconn\u001B[49m\u001B[43m)\u001B[49m\n\u001B[1;32m    387\u001B[0m \u001B[38;5;28;01mexcept\u001B[39;00m (SocketTimeout, BaseSSLError) \u001B[38;5;28;01mas\u001B[39;00m e:\n\u001B[1;32m    388\u001B[0m     \u001B[38;5;66;03m# Py2 raises this as a BaseSSLError, Py3 raises it as socket timeout.\u001B[39;00m\n",
      "File \u001B[0;32m~/anaconda3/lib/python3.9/site-packages/urllib3/connectionpool.py:1042\u001B[0m, in \u001B[0;36mHTTPSConnectionPool._validate_conn\u001B[0;34m(self, conn)\u001B[0m\n\u001B[1;32m   1041\u001B[0m \u001B[38;5;28;01mif\u001B[39;00m \u001B[38;5;129;01mnot\u001B[39;00m \u001B[38;5;28mgetattr\u001B[39m(conn, \u001B[38;5;124m\"\u001B[39m\u001B[38;5;124msock\u001B[39m\u001B[38;5;124m\"\u001B[39m, \u001B[38;5;28;01mNone\u001B[39;00m):  \u001B[38;5;66;03m# AppEngine might not have  `.sock`\u001B[39;00m\n\u001B[0;32m-> 1042\u001B[0m     \u001B[43mconn\u001B[49m\u001B[38;5;241;43m.\u001B[39;49m\u001B[43mconnect\u001B[49m\u001B[43m(\u001B[49m\u001B[43m)\u001B[49m\n\u001B[1;32m   1044\u001B[0m \u001B[38;5;28;01mif\u001B[39;00m \u001B[38;5;129;01mnot\u001B[39;00m conn\u001B[38;5;241m.\u001B[39mis_verified:\n",
      "File \u001B[0;32m~/anaconda3/lib/python3.9/site-packages/urllib3/connection.py:414\u001B[0m, in \u001B[0;36mHTTPSConnection.connect\u001B[0;34m(self)\u001B[0m\n\u001B[1;32m    412\u001B[0m     context\u001B[38;5;241m.\u001B[39mload_default_certs()\n\u001B[0;32m--> 414\u001B[0m \u001B[38;5;28mself\u001B[39m\u001B[38;5;241m.\u001B[39msock \u001B[38;5;241m=\u001B[39m \u001B[43mssl_wrap_socket\u001B[49m\u001B[43m(\u001B[49m\n\u001B[1;32m    415\u001B[0m \u001B[43m    \u001B[49m\u001B[43msock\u001B[49m\u001B[38;5;241;43m=\u001B[39;49m\u001B[43mconn\u001B[49m\u001B[43m,\u001B[49m\n\u001B[1;32m    416\u001B[0m \u001B[43m    \u001B[49m\u001B[43mkeyfile\u001B[49m\u001B[38;5;241;43m=\u001B[39;49m\u001B[38;5;28;43mself\u001B[39;49m\u001B[38;5;241;43m.\u001B[39;49m\u001B[43mkey_file\u001B[49m\u001B[43m,\u001B[49m\n\u001B[1;32m    417\u001B[0m \u001B[43m    \u001B[49m\u001B[43mcertfile\u001B[49m\u001B[38;5;241;43m=\u001B[39;49m\u001B[38;5;28;43mself\u001B[39;49m\u001B[38;5;241;43m.\u001B[39;49m\u001B[43mcert_file\u001B[49m\u001B[43m,\u001B[49m\n\u001B[1;32m    418\u001B[0m \u001B[43m    \u001B[49m\u001B[43mkey_password\u001B[49m\u001B[38;5;241;43m=\u001B[39;49m\u001B[38;5;28;43mself\u001B[39;49m\u001B[38;5;241;43m.\u001B[39;49m\u001B[43mkey_password\u001B[49m\u001B[43m,\u001B[49m\n\u001B[1;32m    419\u001B[0m \u001B[43m    \u001B[49m\u001B[43mca_certs\u001B[49m\u001B[38;5;241;43m=\u001B[39;49m\u001B[38;5;28;43mself\u001B[39;49m\u001B[38;5;241;43m.\u001B[39;49m\u001B[43mca_certs\u001B[49m\u001B[43m,\u001B[49m\n\u001B[1;32m    420\u001B[0m \u001B[43m    \u001B[49m\u001B[43mca_cert_dir\u001B[49m\u001B[38;5;241;43m=\u001B[39;49m\u001B[38;5;28;43mself\u001B[39;49m\u001B[38;5;241;43m.\u001B[39;49m\u001B[43mca_cert_dir\u001B[49m\u001B[43m,\u001B[49m\n\u001B[1;32m    421\u001B[0m \u001B[43m    \u001B[49m\u001B[43mca_cert_data\u001B[49m\u001B[38;5;241;43m=\u001B[39;49m\u001B[38;5;28;43mself\u001B[39;49m\u001B[38;5;241;43m.\u001B[39;49m\u001B[43mca_cert_data\u001B[49m\u001B[43m,\u001B[49m\n\u001B[1;32m    422\u001B[0m \u001B[43m    \u001B[49m\u001B[43mserver_hostname\u001B[49m\u001B[38;5;241;43m=\u001B[39;49m\u001B[43mserver_hostname\u001B[49m\u001B[43m,\u001B[49m\n\u001B[1;32m    423\u001B[0m \u001B[43m    \u001B[49m\u001B[43mssl_context\u001B[49m\u001B[38;5;241;43m=\u001B[39;49m\u001B[43mcontext\u001B[49m\u001B[43m,\u001B[49m\n\u001B[1;32m    424\u001B[0m \u001B[43m    \u001B[49m\u001B[43mtls_in_tls\u001B[49m\u001B[38;5;241;43m=\u001B[39;49m\u001B[43mtls_in_tls\u001B[49m\u001B[43m,\u001B[49m\n\u001B[1;32m    425\u001B[0m \u001B[43m\u001B[49m\u001B[43m)\u001B[49m\n\u001B[1;32m    427\u001B[0m \u001B[38;5;66;03m# If we're using all defaults and the connection\u001B[39;00m\n\u001B[1;32m    428\u001B[0m \u001B[38;5;66;03m# is TLSv1 or TLSv1.1 we throw a DeprecationWarning\u001B[39;00m\n\u001B[1;32m    429\u001B[0m \u001B[38;5;66;03m# for the host.\u001B[39;00m\n",
      "File \u001B[0;32m~/anaconda3/lib/python3.9/site-packages/urllib3/util/ssl_.py:449\u001B[0m, in \u001B[0;36mssl_wrap_socket\u001B[0;34m(sock, keyfile, certfile, cert_reqs, ca_certs, server_hostname, ssl_version, ciphers, ssl_context, ca_cert_dir, key_password, ca_cert_data, tls_in_tls)\u001B[0m\n\u001B[1;32m    448\u001B[0m \u001B[38;5;28;01mif\u001B[39;00m send_sni:\n\u001B[0;32m--> 449\u001B[0m     ssl_sock \u001B[38;5;241m=\u001B[39m \u001B[43m_ssl_wrap_socket_impl\u001B[49m\u001B[43m(\u001B[49m\n\u001B[1;32m    450\u001B[0m \u001B[43m        \u001B[49m\u001B[43msock\u001B[49m\u001B[43m,\u001B[49m\u001B[43m \u001B[49m\u001B[43mcontext\u001B[49m\u001B[43m,\u001B[49m\u001B[43m \u001B[49m\u001B[43mtls_in_tls\u001B[49m\u001B[43m,\u001B[49m\u001B[43m \u001B[49m\u001B[43mserver_hostname\u001B[49m\u001B[38;5;241;43m=\u001B[39;49m\u001B[43mserver_hostname\u001B[49m\n\u001B[1;32m    451\u001B[0m \u001B[43m    \u001B[49m\u001B[43m)\u001B[49m\n\u001B[1;32m    452\u001B[0m \u001B[38;5;28;01melse\u001B[39;00m:\n",
      "File \u001B[0;32m~/anaconda3/lib/python3.9/site-packages/urllib3/util/ssl_.py:493\u001B[0m, in \u001B[0;36m_ssl_wrap_socket_impl\u001B[0;34m(sock, ssl_context, tls_in_tls, server_hostname)\u001B[0m\n\u001B[1;32m    492\u001B[0m \u001B[38;5;28;01mif\u001B[39;00m server_hostname:\n\u001B[0;32m--> 493\u001B[0m     \u001B[38;5;28;01mreturn\u001B[39;00m \u001B[43mssl_context\u001B[49m\u001B[38;5;241;43m.\u001B[39;49m\u001B[43mwrap_socket\u001B[49m\u001B[43m(\u001B[49m\u001B[43msock\u001B[49m\u001B[43m,\u001B[49m\u001B[43m \u001B[49m\u001B[43mserver_hostname\u001B[49m\u001B[38;5;241;43m=\u001B[39;49m\u001B[43mserver_hostname\u001B[49m\u001B[43m)\u001B[49m\n\u001B[1;32m    494\u001B[0m \u001B[38;5;28;01melse\u001B[39;00m:\n",
      "File \u001B[0;32m~/anaconda3/lib/python3.9/ssl.py:501\u001B[0m, in \u001B[0;36mSSLContext.wrap_socket\u001B[0;34m(self, sock, server_side, do_handshake_on_connect, suppress_ragged_eofs, server_hostname, session)\u001B[0m\n\u001B[1;32m    495\u001B[0m \u001B[38;5;28;01mdef\u001B[39;00m \u001B[38;5;21mwrap_socket\u001B[39m(\u001B[38;5;28mself\u001B[39m, sock, server_side\u001B[38;5;241m=\u001B[39m\u001B[38;5;28;01mFalse\u001B[39;00m,\n\u001B[1;32m    496\u001B[0m                 do_handshake_on_connect\u001B[38;5;241m=\u001B[39m\u001B[38;5;28;01mTrue\u001B[39;00m,\n\u001B[1;32m    497\u001B[0m                 suppress_ragged_eofs\u001B[38;5;241m=\u001B[39m\u001B[38;5;28;01mTrue\u001B[39;00m,\n\u001B[1;32m    498\u001B[0m                 server_hostname\u001B[38;5;241m=\u001B[39m\u001B[38;5;28;01mNone\u001B[39;00m, session\u001B[38;5;241m=\u001B[39m\u001B[38;5;28;01mNone\u001B[39;00m):\n\u001B[1;32m    499\u001B[0m     \u001B[38;5;66;03m# SSLSocket class handles server_hostname encoding before it calls\u001B[39;00m\n\u001B[1;32m    500\u001B[0m     \u001B[38;5;66;03m# ctx._wrap_socket()\u001B[39;00m\n\u001B[0;32m--> 501\u001B[0m     \u001B[38;5;28;01mreturn\u001B[39;00m \u001B[38;5;28;43mself\u001B[39;49m\u001B[38;5;241;43m.\u001B[39;49m\u001B[43msslsocket_class\u001B[49m\u001B[38;5;241;43m.\u001B[39;49m\u001B[43m_create\u001B[49m\u001B[43m(\u001B[49m\n\u001B[1;32m    502\u001B[0m \u001B[43m        \u001B[49m\u001B[43msock\u001B[49m\u001B[38;5;241;43m=\u001B[39;49m\u001B[43msock\u001B[49m\u001B[43m,\u001B[49m\n\u001B[1;32m    503\u001B[0m \u001B[43m        \u001B[49m\u001B[43mserver_side\u001B[49m\u001B[38;5;241;43m=\u001B[39;49m\u001B[43mserver_side\u001B[49m\u001B[43m,\u001B[49m\n\u001B[1;32m    504\u001B[0m \u001B[43m        \u001B[49m\u001B[43mdo_handshake_on_connect\u001B[49m\u001B[38;5;241;43m=\u001B[39;49m\u001B[43mdo_handshake_on_connect\u001B[49m\u001B[43m,\u001B[49m\n\u001B[1;32m    505\u001B[0m \u001B[43m        \u001B[49m\u001B[43msuppress_ragged_eofs\u001B[49m\u001B[38;5;241;43m=\u001B[39;49m\u001B[43msuppress_ragged_eofs\u001B[49m\u001B[43m,\u001B[49m\n\u001B[1;32m    506\u001B[0m \u001B[43m        \u001B[49m\u001B[43mserver_hostname\u001B[49m\u001B[38;5;241;43m=\u001B[39;49m\u001B[43mserver_hostname\u001B[49m\u001B[43m,\u001B[49m\n\u001B[1;32m    507\u001B[0m \u001B[43m        \u001B[49m\u001B[43mcontext\u001B[49m\u001B[38;5;241;43m=\u001B[39;49m\u001B[38;5;28;43mself\u001B[39;49m\u001B[43m,\u001B[49m\n\u001B[1;32m    508\u001B[0m \u001B[43m        \u001B[49m\u001B[43msession\u001B[49m\u001B[38;5;241;43m=\u001B[39;49m\u001B[43msession\u001B[49m\n\u001B[1;32m    509\u001B[0m \u001B[43m    \u001B[49m\u001B[43m)\u001B[49m\n",
      "File \u001B[0;32m~/anaconda3/lib/python3.9/ssl.py:1041\u001B[0m, in \u001B[0;36mSSLSocket._create\u001B[0;34m(cls, sock, server_side, do_handshake_on_connect, suppress_ragged_eofs, server_hostname, context, session)\u001B[0m\n\u001B[1;32m   1040\u001B[0m             \u001B[38;5;28;01mraise\u001B[39;00m \u001B[38;5;167;01mValueError\u001B[39;00m(\u001B[38;5;124m\"\u001B[39m\u001B[38;5;124mdo_handshake_on_connect should not be specified for non-blocking sockets\u001B[39m\u001B[38;5;124m\"\u001B[39m)\n\u001B[0;32m-> 1041\u001B[0m         \u001B[38;5;28;43mself\u001B[39;49m\u001B[38;5;241;43m.\u001B[39;49m\u001B[43mdo_handshake\u001B[49m\u001B[43m(\u001B[49m\u001B[43m)\u001B[49m\n\u001B[1;32m   1042\u001B[0m \u001B[38;5;28;01mexcept\u001B[39;00m (\u001B[38;5;167;01mOSError\u001B[39;00m, \u001B[38;5;167;01mValueError\u001B[39;00m):\n",
      "File \u001B[0;32m~/anaconda3/lib/python3.9/ssl.py:1310\u001B[0m, in \u001B[0;36mSSLSocket.do_handshake\u001B[0;34m(self, block)\u001B[0m\n\u001B[1;32m   1309\u001B[0m         \u001B[38;5;28mself\u001B[39m\u001B[38;5;241m.\u001B[39msettimeout(\u001B[38;5;28;01mNone\u001B[39;00m)\n\u001B[0;32m-> 1310\u001B[0m     \u001B[38;5;28;43mself\u001B[39;49m\u001B[38;5;241;43m.\u001B[39;49m\u001B[43m_sslobj\u001B[49m\u001B[38;5;241;43m.\u001B[39;49m\u001B[43mdo_handshake\u001B[49m\u001B[43m(\u001B[49m\u001B[43m)\u001B[49m\n\u001B[1;32m   1311\u001B[0m \u001B[38;5;28;01mfinally\u001B[39;00m:\n",
      "\u001B[0;31mConnectionResetError\u001B[0m: [Errno 54] Connection reset by peer",
      "\nDuring handling of the above exception, another exception occurred:\n",
      "\u001B[0;31mProtocolError\u001B[0m                             Traceback (most recent call last)",
      "File \u001B[0;32m~/anaconda3/lib/python3.9/site-packages/requests/adapters.py:489\u001B[0m, in \u001B[0;36mHTTPAdapter.send\u001B[0;34m(self, request, stream, timeout, verify, cert, proxies)\u001B[0m\n\u001B[1;32m    488\u001B[0m \u001B[38;5;28;01mif\u001B[39;00m \u001B[38;5;129;01mnot\u001B[39;00m chunked:\n\u001B[0;32m--> 489\u001B[0m     resp \u001B[38;5;241m=\u001B[39m \u001B[43mconn\u001B[49m\u001B[38;5;241;43m.\u001B[39;49m\u001B[43murlopen\u001B[49m\u001B[43m(\u001B[49m\n\u001B[1;32m    490\u001B[0m \u001B[43m        \u001B[49m\u001B[43mmethod\u001B[49m\u001B[38;5;241;43m=\u001B[39;49m\u001B[43mrequest\u001B[49m\u001B[38;5;241;43m.\u001B[39;49m\u001B[43mmethod\u001B[49m\u001B[43m,\u001B[49m\n\u001B[1;32m    491\u001B[0m \u001B[43m        \u001B[49m\u001B[43murl\u001B[49m\u001B[38;5;241;43m=\u001B[39;49m\u001B[43murl\u001B[49m\u001B[43m,\u001B[49m\n\u001B[1;32m    492\u001B[0m \u001B[43m        \u001B[49m\u001B[43mbody\u001B[49m\u001B[38;5;241;43m=\u001B[39;49m\u001B[43mrequest\u001B[49m\u001B[38;5;241;43m.\u001B[39;49m\u001B[43mbody\u001B[49m\u001B[43m,\u001B[49m\n\u001B[1;32m    493\u001B[0m \u001B[43m        \u001B[49m\u001B[43mheaders\u001B[49m\u001B[38;5;241;43m=\u001B[39;49m\u001B[43mrequest\u001B[49m\u001B[38;5;241;43m.\u001B[39;49m\u001B[43mheaders\u001B[49m\u001B[43m,\u001B[49m\n\u001B[1;32m    494\u001B[0m \u001B[43m        \u001B[49m\u001B[43mredirect\u001B[49m\u001B[38;5;241;43m=\u001B[39;49m\u001B[38;5;28;43;01mFalse\u001B[39;49;00m\u001B[43m,\u001B[49m\n\u001B[1;32m    495\u001B[0m \u001B[43m        \u001B[49m\u001B[43massert_same_host\u001B[49m\u001B[38;5;241;43m=\u001B[39;49m\u001B[38;5;28;43;01mFalse\u001B[39;49;00m\u001B[43m,\u001B[49m\n\u001B[1;32m    496\u001B[0m \u001B[43m        \u001B[49m\u001B[43mpreload_content\u001B[49m\u001B[38;5;241;43m=\u001B[39;49m\u001B[38;5;28;43;01mFalse\u001B[39;49;00m\u001B[43m,\u001B[49m\n\u001B[1;32m    497\u001B[0m \u001B[43m        \u001B[49m\u001B[43mdecode_content\u001B[49m\u001B[38;5;241;43m=\u001B[39;49m\u001B[38;5;28;43;01mFalse\u001B[39;49;00m\u001B[43m,\u001B[49m\n\u001B[1;32m    498\u001B[0m \u001B[43m        \u001B[49m\u001B[43mretries\u001B[49m\u001B[38;5;241;43m=\u001B[39;49m\u001B[38;5;28;43mself\u001B[39;49m\u001B[38;5;241;43m.\u001B[39;49m\u001B[43mmax_retries\u001B[49m\u001B[43m,\u001B[49m\n\u001B[1;32m    499\u001B[0m \u001B[43m        \u001B[49m\u001B[43mtimeout\u001B[49m\u001B[38;5;241;43m=\u001B[39;49m\u001B[43mtimeout\u001B[49m\u001B[43m,\u001B[49m\n\u001B[1;32m    500\u001B[0m \u001B[43m    \u001B[49m\u001B[43m)\u001B[49m\n\u001B[1;32m    502\u001B[0m \u001B[38;5;66;03m# Send the request.\u001B[39;00m\n\u001B[1;32m    503\u001B[0m \u001B[38;5;28;01melse\u001B[39;00m:\n",
      "File \u001B[0;32m~/anaconda3/lib/python3.9/site-packages/urllib3/connectionpool.py:787\u001B[0m, in \u001B[0;36mHTTPConnectionPool.urlopen\u001B[0;34m(self, method, url, body, headers, retries, redirect, assert_same_host, timeout, pool_timeout, release_conn, chunked, body_pos, **response_kw)\u001B[0m\n\u001B[1;32m    785\u001B[0m     e \u001B[38;5;241m=\u001B[39m ProtocolError(\u001B[38;5;124m\"\u001B[39m\u001B[38;5;124mConnection aborted.\u001B[39m\u001B[38;5;124m\"\u001B[39m, e)\n\u001B[0;32m--> 787\u001B[0m retries \u001B[38;5;241m=\u001B[39m \u001B[43mretries\u001B[49m\u001B[38;5;241;43m.\u001B[39;49m\u001B[43mincrement\u001B[49m\u001B[43m(\u001B[49m\n\u001B[1;32m    788\u001B[0m \u001B[43m    \u001B[49m\u001B[43mmethod\u001B[49m\u001B[43m,\u001B[49m\u001B[43m \u001B[49m\u001B[43murl\u001B[49m\u001B[43m,\u001B[49m\u001B[43m \u001B[49m\u001B[43merror\u001B[49m\u001B[38;5;241;43m=\u001B[39;49m\u001B[43me\u001B[49m\u001B[43m,\u001B[49m\u001B[43m \u001B[49m\u001B[43m_pool\u001B[49m\u001B[38;5;241;43m=\u001B[39;49m\u001B[38;5;28;43mself\u001B[39;49m\u001B[43m,\u001B[49m\u001B[43m \u001B[49m\u001B[43m_stacktrace\u001B[49m\u001B[38;5;241;43m=\u001B[39;49m\u001B[43msys\u001B[49m\u001B[38;5;241;43m.\u001B[39;49m\u001B[43mexc_info\u001B[49m\u001B[43m(\u001B[49m\u001B[43m)\u001B[49m\u001B[43m[\u001B[49m\u001B[38;5;241;43m2\u001B[39;49m\u001B[43m]\u001B[49m\n\u001B[1;32m    789\u001B[0m \u001B[43m\u001B[49m\u001B[43m)\u001B[49m\n\u001B[1;32m    790\u001B[0m retries\u001B[38;5;241m.\u001B[39msleep()\n",
      "File \u001B[0;32m~/anaconda3/lib/python3.9/site-packages/urllib3/util/retry.py:550\u001B[0m, in \u001B[0;36mRetry.increment\u001B[0;34m(self, method, url, response, error, _pool, _stacktrace)\u001B[0m\n\u001B[1;32m    549\u001B[0m \u001B[38;5;28;01mif\u001B[39;00m read \u001B[38;5;129;01mis\u001B[39;00m \u001B[38;5;28;01mFalse\u001B[39;00m \u001B[38;5;129;01mor\u001B[39;00m \u001B[38;5;129;01mnot\u001B[39;00m \u001B[38;5;28mself\u001B[39m\u001B[38;5;241m.\u001B[39m_is_method_retryable(method):\n\u001B[0;32m--> 550\u001B[0m     \u001B[38;5;28;01mraise\u001B[39;00m \u001B[43msix\u001B[49m\u001B[38;5;241;43m.\u001B[39;49m\u001B[43mreraise\u001B[49m\u001B[43m(\u001B[49m\u001B[38;5;28;43mtype\u001B[39;49m\u001B[43m(\u001B[49m\u001B[43merror\u001B[49m\u001B[43m)\u001B[49m\u001B[43m,\u001B[49m\u001B[43m \u001B[49m\u001B[43merror\u001B[49m\u001B[43m,\u001B[49m\u001B[43m \u001B[49m\u001B[43m_stacktrace\u001B[49m\u001B[43m)\u001B[49m\n\u001B[1;32m    551\u001B[0m \u001B[38;5;28;01melif\u001B[39;00m read \u001B[38;5;129;01mis\u001B[39;00m \u001B[38;5;129;01mnot\u001B[39;00m \u001B[38;5;28;01mNone\u001B[39;00m:\n",
      "File \u001B[0;32m~/anaconda3/lib/python3.9/site-packages/urllib3/packages/six.py:769\u001B[0m, in \u001B[0;36mreraise\u001B[0;34m(tp, value, tb)\u001B[0m\n\u001B[1;32m    768\u001B[0m \u001B[38;5;28;01mif\u001B[39;00m value\u001B[38;5;241m.\u001B[39m__traceback__ \u001B[38;5;129;01mis\u001B[39;00m \u001B[38;5;129;01mnot\u001B[39;00m tb:\n\u001B[0;32m--> 769\u001B[0m     \u001B[38;5;28;01mraise\u001B[39;00m value\u001B[38;5;241m.\u001B[39mwith_traceback(tb)\n\u001B[1;32m    770\u001B[0m \u001B[38;5;28;01mraise\u001B[39;00m value\n",
      "File \u001B[0;32m~/anaconda3/lib/python3.9/site-packages/urllib3/connectionpool.py:703\u001B[0m, in \u001B[0;36mHTTPConnectionPool.urlopen\u001B[0;34m(self, method, url, body, headers, retries, redirect, assert_same_host, timeout, pool_timeout, release_conn, chunked, body_pos, **response_kw)\u001B[0m\n\u001B[1;32m    702\u001B[0m \u001B[38;5;66;03m# Make the request on the httplib connection object.\u001B[39;00m\n\u001B[0;32m--> 703\u001B[0m httplib_response \u001B[38;5;241m=\u001B[39m \u001B[38;5;28;43mself\u001B[39;49m\u001B[38;5;241;43m.\u001B[39;49m\u001B[43m_make_request\u001B[49m\u001B[43m(\u001B[49m\n\u001B[1;32m    704\u001B[0m \u001B[43m    \u001B[49m\u001B[43mconn\u001B[49m\u001B[43m,\u001B[49m\n\u001B[1;32m    705\u001B[0m \u001B[43m    \u001B[49m\u001B[43mmethod\u001B[49m\u001B[43m,\u001B[49m\n\u001B[1;32m    706\u001B[0m \u001B[43m    \u001B[49m\u001B[43murl\u001B[49m\u001B[43m,\u001B[49m\n\u001B[1;32m    707\u001B[0m \u001B[43m    \u001B[49m\u001B[43mtimeout\u001B[49m\u001B[38;5;241;43m=\u001B[39;49m\u001B[43mtimeout_obj\u001B[49m\u001B[43m,\u001B[49m\n\u001B[1;32m    708\u001B[0m \u001B[43m    \u001B[49m\u001B[43mbody\u001B[49m\u001B[38;5;241;43m=\u001B[39;49m\u001B[43mbody\u001B[49m\u001B[43m,\u001B[49m\n\u001B[1;32m    709\u001B[0m \u001B[43m    \u001B[49m\u001B[43mheaders\u001B[49m\u001B[38;5;241;43m=\u001B[39;49m\u001B[43mheaders\u001B[49m\u001B[43m,\u001B[49m\n\u001B[1;32m    710\u001B[0m \u001B[43m    \u001B[49m\u001B[43mchunked\u001B[49m\u001B[38;5;241;43m=\u001B[39;49m\u001B[43mchunked\u001B[49m\u001B[43m,\u001B[49m\n\u001B[1;32m    711\u001B[0m \u001B[43m\u001B[49m\u001B[43m)\u001B[49m\n\u001B[1;32m    713\u001B[0m \u001B[38;5;66;03m# If we're going to release the connection in ``finally:``, then\u001B[39;00m\n\u001B[1;32m    714\u001B[0m \u001B[38;5;66;03m# the response doesn't need to know about the connection. Otherwise\u001B[39;00m\n\u001B[1;32m    715\u001B[0m \u001B[38;5;66;03m# it will also try to release it and we'll have a double-release\u001B[39;00m\n\u001B[1;32m    716\u001B[0m \u001B[38;5;66;03m# mess.\u001B[39;00m\n",
      "File \u001B[0;32m~/anaconda3/lib/python3.9/site-packages/urllib3/connectionpool.py:386\u001B[0m, in \u001B[0;36mHTTPConnectionPool._make_request\u001B[0;34m(self, conn, method, url, timeout, chunked, **httplib_request_kw)\u001B[0m\n\u001B[1;32m    385\u001B[0m \u001B[38;5;28;01mtry\u001B[39;00m:\n\u001B[0;32m--> 386\u001B[0m     \u001B[38;5;28;43mself\u001B[39;49m\u001B[38;5;241;43m.\u001B[39;49m\u001B[43m_validate_conn\u001B[49m\u001B[43m(\u001B[49m\u001B[43mconn\u001B[49m\u001B[43m)\u001B[49m\n\u001B[1;32m    387\u001B[0m \u001B[38;5;28;01mexcept\u001B[39;00m (SocketTimeout, BaseSSLError) \u001B[38;5;28;01mas\u001B[39;00m e:\n\u001B[1;32m    388\u001B[0m     \u001B[38;5;66;03m# Py2 raises this as a BaseSSLError, Py3 raises it as socket timeout.\u001B[39;00m\n",
      "File \u001B[0;32m~/anaconda3/lib/python3.9/site-packages/urllib3/connectionpool.py:1042\u001B[0m, in \u001B[0;36mHTTPSConnectionPool._validate_conn\u001B[0;34m(self, conn)\u001B[0m\n\u001B[1;32m   1041\u001B[0m \u001B[38;5;28;01mif\u001B[39;00m \u001B[38;5;129;01mnot\u001B[39;00m \u001B[38;5;28mgetattr\u001B[39m(conn, \u001B[38;5;124m\"\u001B[39m\u001B[38;5;124msock\u001B[39m\u001B[38;5;124m\"\u001B[39m, \u001B[38;5;28;01mNone\u001B[39;00m):  \u001B[38;5;66;03m# AppEngine might not have  `.sock`\u001B[39;00m\n\u001B[0;32m-> 1042\u001B[0m     \u001B[43mconn\u001B[49m\u001B[38;5;241;43m.\u001B[39;49m\u001B[43mconnect\u001B[49m\u001B[43m(\u001B[49m\u001B[43m)\u001B[49m\n\u001B[1;32m   1044\u001B[0m \u001B[38;5;28;01mif\u001B[39;00m \u001B[38;5;129;01mnot\u001B[39;00m conn\u001B[38;5;241m.\u001B[39mis_verified:\n",
      "File \u001B[0;32m~/anaconda3/lib/python3.9/site-packages/urllib3/connection.py:414\u001B[0m, in \u001B[0;36mHTTPSConnection.connect\u001B[0;34m(self)\u001B[0m\n\u001B[1;32m    412\u001B[0m     context\u001B[38;5;241m.\u001B[39mload_default_certs()\n\u001B[0;32m--> 414\u001B[0m \u001B[38;5;28mself\u001B[39m\u001B[38;5;241m.\u001B[39msock \u001B[38;5;241m=\u001B[39m \u001B[43mssl_wrap_socket\u001B[49m\u001B[43m(\u001B[49m\n\u001B[1;32m    415\u001B[0m \u001B[43m    \u001B[49m\u001B[43msock\u001B[49m\u001B[38;5;241;43m=\u001B[39;49m\u001B[43mconn\u001B[49m\u001B[43m,\u001B[49m\n\u001B[1;32m    416\u001B[0m \u001B[43m    \u001B[49m\u001B[43mkeyfile\u001B[49m\u001B[38;5;241;43m=\u001B[39;49m\u001B[38;5;28;43mself\u001B[39;49m\u001B[38;5;241;43m.\u001B[39;49m\u001B[43mkey_file\u001B[49m\u001B[43m,\u001B[49m\n\u001B[1;32m    417\u001B[0m \u001B[43m    \u001B[49m\u001B[43mcertfile\u001B[49m\u001B[38;5;241;43m=\u001B[39;49m\u001B[38;5;28;43mself\u001B[39;49m\u001B[38;5;241;43m.\u001B[39;49m\u001B[43mcert_file\u001B[49m\u001B[43m,\u001B[49m\n\u001B[1;32m    418\u001B[0m \u001B[43m    \u001B[49m\u001B[43mkey_password\u001B[49m\u001B[38;5;241;43m=\u001B[39;49m\u001B[38;5;28;43mself\u001B[39;49m\u001B[38;5;241;43m.\u001B[39;49m\u001B[43mkey_password\u001B[49m\u001B[43m,\u001B[49m\n\u001B[1;32m    419\u001B[0m \u001B[43m    \u001B[49m\u001B[43mca_certs\u001B[49m\u001B[38;5;241;43m=\u001B[39;49m\u001B[38;5;28;43mself\u001B[39;49m\u001B[38;5;241;43m.\u001B[39;49m\u001B[43mca_certs\u001B[49m\u001B[43m,\u001B[49m\n\u001B[1;32m    420\u001B[0m \u001B[43m    \u001B[49m\u001B[43mca_cert_dir\u001B[49m\u001B[38;5;241;43m=\u001B[39;49m\u001B[38;5;28;43mself\u001B[39;49m\u001B[38;5;241;43m.\u001B[39;49m\u001B[43mca_cert_dir\u001B[49m\u001B[43m,\u001B[49m\n\u001B[1;32m    421\u001B[0m \u001B[43m    \u001B[49m\u001B[43mca_cert_data\u001B[49m\u001B[38;5;241;43m=\u001B[39;49m\u001B[38;5;28;43mself\u001B[39;49m\u001B[38;5;241;43m.\u001B[39;49m\u001B[43mca_cert_data\u001B[49m\u001B[43m,\u001B[49m\n\u001B[1;32m    422\u001B[0m \u001B[43m    \u001B[49m\u001B[43mserver_hostname\u001B[49m\u001B[38;5;241;43m=\u001B[39;49m\u001B[43mserver_hostname\u001B[49m\u001B[43m,\u001B[49m\n\u001B[1;32m    423\u001B[0m \u001B[43m    \u001B[49m\u001B[43mssl_context\u001B[49m\u001B[38;5;241;43m=\u001B[39;49m\u001B[43mcontext\u001B[49m\u001B[43m,\u001B[49m\n\u001B[1;32m    424\u001B[0m \u001B[43m    \u001B[49m\u001B[43mtls_in_tls\u001B[49m\u001B[38;5;241;43m=\u001B[39;49m\u001B[43mtls_in_tls\u001B[49m\u001B[43m,\u001B[49m\n\u001B[1;32m    425\u001B[0m \u001B[43m\u001B[49m\u001B[43m)\u001B[49m\n\u001B[1;32m    427\u001B[0m \u001B[38;5;66;03m# If we're using all defaults and the connection\u001B[39;00m\n\u001B[1;32m    428\u001B[0m \u001B[38;5;66;03m# is TLSv1 or TLSv1.1 we throw a DeprecationWarning\u001B[39;00m\n\u001B[1;32m    429\u001B[0m \u001B[38;5;66;03m# for the host.\u001B[39;00m\n",
      "File \u001B[0;32m~/anaconda3/lib/python3.9/site-packages/urllib3/util/ssl_.py:449\u001B[0m, in \u001B[0;36mssl_wrap_socket\u001B[0;34m(sock, keyfile, certfile, cert_reqs, ca_certs, server_hostname, ssl_version, ciphers, ssl_context, ca_cert_dir, key_password, ca_cert_data, tls_in_tls)\u001B[0m\n\u001B[1;32m    448\u001B[0m \u001B[38;5;28;01mif\u001B[39;00m send_sni:\n\u001B[0;32m--> 449\u001B[0m     ssl_sock \u001B[38;5;241m=\u001B[39m \u001B[43m_ssl_wrap_socket_impl\u001B[49m\u001B[43m(\u001B[49m\n\u001B[1;32m    450\u001B[0m \u001B[43m        \u001B[49m\u001B[43msock\u001B[49m\u001B[43m,\u001B[49m\u001B[43m \u001B[49m\u001B[43mcontext\u001B[49m\u001B[43m,\u001B[49m\u001B[43m \u001B[49m\u001B[43mtls_in_tls\u001B[49m\u001B[43m,\u001B[49m\u001B[43m \u001B[49m\u001B[43mserver_hostname\u001B[49m\u001B[38;5;241;43m=\u001B[39;49m\u001B[43mserver_hostname\u001B[49m\n\u001B[1;32m    451\u001B[0m \u001B[43m    \u001B[49m\u001B[43m)\u001B[49m\n\u001B[1;32m    452\u001B[0m \u001B[38;5;28;01melse\u001B[39;00m:\n",
      "File \u001B[0;32m~/anaconda3/lib/python3.9/site-packages/urllib3/util/ssl_.py:493\u001B[0m, in \u001B[0;36m_ssl_wrap_socket_impl\u001B[0;34m(sock, ssl_context, tls_in_tls, server_hostname)\u001B[0m\n\u001B[1;32m    492\u001B[0m \u001B[38;5;28;01mif\u001B[39;00m server_hostname:\n\u001B[0;32m--> 493\u001B[0m     \u001B[38;5;28;01mreturn\u001B[39;00m \u001B[43mssl_context\u001B[49m\u001B[38;5;241;43m.\u001B[39;49m\u001B[43mwrap_socket\u001B[49m\u001B[43m(\u001B[49m\u001B[43msock\u001B[49m\u001B[43m,\u001B[49m\u001B[43m \u001B[49m\u001B[43mserver_hostname\u001B[49m\u001B[38;5;241;43m=\u001B[39;49m\u001B[43mserver_hostname\u001B[49m\u001B[43m)\u001B[49m\n\u001B[1;32m    494\u001B[0m \u001B[38;5;28;01melse\u001B[39;00m:\n",
      "File \u001B[0;32m~/anaconda3/lib/python3.9/ssl.py:501\u001B[0m, in \u001B[0;36mSSLContext.wrap_socket\u001B[0;34m(self, sock, server_side, do_handshake_on_connect, suppress_ragged_eofs, server_hostname, session)\u001B[0m\n\u001B[1;32m    495\u001B[0m \u001B[38;5;28;01mdef\u001B[39;00m \u001B[38;5;21mwrap_socket\u001B[39m(\u001B[38;5;28mself\u001B[39m, sock, server_side\u001B[38;5;241m=\u001B[39m\u001B[38;5;28;01mFalse\u001B[39;00m,\n\u001B[1;32m    496\u001B[0m                 do_handshake_on_connect\u001B[38;5;241m=\u001B[39m\u001B[38;5;28;01mTrue\u001B[39;00m,\n\u001B[1;32m    497\u001B[0m                 suppress_ragged_eofs\u001B[38;5;241m=\u001B[39m\u001B[38;5;28;01mTrue\u001B[39;00m,\n\u001B[1;32m    498\u001B[0m                 server_hostname\u001B[38;5;241m=\u001B[39m\u001B[38;5;28;01mNone\u001B[39;00m, session\u001B[38;5;241m=\u001B[39m\u001B[38;5;28;01mNone\u001B[39;00m):\n\u001B[1;32m    499\u001B[0m     \u001B[38;5;66;03m# SSLSocket class handles server_hostname encoding before it calls\u001B[39;00m\n\u001B[1;32m    500\u001B[0m     \u001B[38;5;66;03m# ctx._wrap_socket()\u001B[39;00m\n\u001B[0;32m--> 501\u001B[0m     \u001B[38;5;28;01mreturn\u001B[39;00m \u001B[38;5;28;43mself\u001B[39;49m\u001B[38;5;241;43m.\u001B[39;49m\u001B[43msslsocket_class\u001B[49m\u001B[38;5;241;43m.\u001B[39;49m\u001B[43m_create\u001B[49m\u001B[43m(\u001B[49m\n\u001B[1;32m    502\u001B[0m \u001B[43m        \u001B[49m\u001B[43msock\u001B[49m\u001B[38;5;241;43m=\u001B[39;49m\u001B[43msock\u001B[49m\u001B[43m,\u001B[49m\n\u001B[1;32m    503\u001B[0m \u001B[43m        \u001B[49m\u001B[43mserver_side\u001B[49m\u001B[38;5;241;43m=\u001B[39;49m\u001B[43mserver_side\u001B[49m\u001B[43m,\u001B[49m\n\u001B[1;32m    504\u001B[0m \u001B[43m        \u001B[49m\u001B[43mdo_handshake_on_connect\u001B[49m\u001B[38;5;241;43m=\u001B[39;49m\u001B[43mdo_handshake_on_connect\u001B[49m\u001B[43m,\u001B[49m\n\u001B[1;32m    505\u001B[0m \u001B[43m        \u001B[49m\u001B[43msuppress_ragged_eofs\u001B[49m\u001B[38;5;241;43m=\u001B[39;49m\u001B[43msuppress_ragged_eofs\u001B[49m\u001B[43m,\u001B[49m\n\u001B[1;32m    506\u001B[0m \u001B[43m        \u001B[49m\u001B[43mserver_hostname\u001B[49m\u001B[38;5;241;43m=\u001B[39;49m\u001B[43mserver_hostname\u001B[49m\u001B[43m,\u001B[49m\n\u001B[1;32m    507\u001B[0m \u001B[43m        \u001B[49m\u001B[43mcontext\u001B[49m\u001B[38;5;241;43m=\u001B[39;49m\u001B[38;5;28;43mself\u001B[39;49m\u001B[43m,\u001B[49m\n\u001B[1;32m    508\u001B[0m \u001B[43m        \u001B[49m\u001B[43msession\u001B[49m\u001B[38;5;241;43m=\u001B[39;49m\u001B[43msession\u001B[49m\n\u001B[1;32m    509\u001B[0m \u001B[43m    \u001B[49m\u001B[43m)\u001B[49m\n",
      "File \u001B[0;32m~/anaconda3/lib/python3.9/ssl.py:1041\u001B[0m, in \u001B[0;36mSSLSocket._create\u001B[0;34m(cls, sock, server_side, do_handshake_on_connect, suppress_ragged_eofs, server_hostname, context, session)\u001B[0m\n\u001B[1;32m   1040\u001B[0m             \u001B[38;5;28;01mraise\u001B[39;00m \u001B[38;5;167;01mValueError\u001B[39;00m(\u001B[38;5;124m\"\u001B[39m\u001B[38;5;124mdo_handshake_on_connect should not be specified for non-blocking sockets\u001B[39m\u001B[38;5;124m\"\u001B[39m)\n\u001B[0;32m-> 1041\u001B[0m         \u001B[38;5;28;43mself\u001B[39;49m\u001B[38;5;241;43m.\u001B[39;49m\u001B[43mdo_handshake\u001B[49m\u001B[43m(\u001B[49m\u001B[43m)\u001B[49m\n\u001B[1;32m   1042\u001B[0m \u001B[38;5;28;01mexcept\u001B[39;00m (\u001B[38;5;167;01mOSError\u001B[39;00m, \u001B[38;5;167;01mValueError\u001B[39;00m):\n",
      "File \u001B[0;32m~/anaconda3/lib/python3.9/ssl.py:1310\u001B[0m, in \u001B[0;36mSSLSocket.do_handshake\u001B[0;34m(self, block)\u001B[0m\n\u001B[1;32m   1309\u001B[0m         \u001B[38;5;28mself\u001B[39m\u001B[38;5;241m.\u001B[39msettimeout(\u001B[38;5;28;01mNone\u001B[39;00m)\n\u001B[0;32m-> 1310\u001B[0m     \u001B[38;5;28;43mself\u001B[39;49m\u001B[38;5;241;43m.\u001B[39;49m\u001B[43m_sslobj\u001B[49m\u001B[38;5;241;43m.\u001B[39;49m\u001B[43mdo_handshake\u001B[49m\u001B[43m(\u001B[49m\u001B[43m)\u001B[49m\n\u001B[1;32m   1311\u001B[0m \u001B[38;5;28;01mfinally\u001B[39;00m:\n",
      "\u001B[0;31mProtocolError\u001B[0m: ('Connection aborted.', ConnectionResetError(54, 'Connection reset by peer'))",
      "\nDuring handling of the above exception, another exception occurred:\n",
      "\u001B[0;31mConnectionError\u001B[0m                           Traceback (most recent call last)",
      "Cell \u001B[0;32mIn[59], line 33\u001B[0m\n\u001B[1;32m     31\u001B[0m \u001B[38;5;28;01mwhile\u001B[39;00m time\u001B[38;5;241m.\u001B[39mtime() \u001B[38;5;241m<\u001B[39m start \u001B[38;5;241m+\u001B[39m timeout:\n\u001B[1;32m     32\u001B[0m     run_status \u001B[38;5;241m=\u001B[39m \u001B[38;5;124m'\u001B[39m\u001B[38;5;124m'\u001B[39m\n\u001B[0;32m---> 33\u001B[0m     response \u001B[38;5;241m=\u001B[39m \u001B[43mrequests\u001B[49m\u001B[38;5;241;43m.\u001B[39;49m\u001B[43mget\u001B[49m\u001B[43m(\u001B[49m\n\u001B[1;32m     34\u001B[0m \u001B[43m        \u001B[49m\u001B[38;5;124;43mf\u001B[39;49m\u001B[38;5;124;43m\"\u001B[39;49m\u001B[38;5;124;43mhttps://api.allium.so/api/v1/explorer/query-runs/\u001B[39;49m\u001B[38;5;132;43;01m{\u001B[39;49;00m\u001B[43mrun_id\u001B[49m\u001B[38;5;132;43;01m}\u001B[39;49;00m\u001B[38;5;124;43m/status\u001B[39;49m\u001B[38;5;124;43m\"\u001B[39;49m\u001B[43m,\u001B[49m\n\u001B[1;32m     35\u001B[0m \u001B[43m        \u001B[49m\u001B[43mheaders\u001B[49m\u001B[38;5;241;43m=\u001B[39;49m\u001B[43m{\u001B[49m\u001B[38;5;124;43m\"\u001B[39;49m\u001B[38;5;124;43mX-API-Key\u001B[39;49m\u001B[38;5;124;43m\"\u001B[39;49m\u001B[43m:\u001B[49m\u001B[43m \u001B[49m\u001B[43mAPI_KEY\u001B[49m\u001B[43m}\u001B[49m\u001B[43m,\u001B[49m\n\u001B[1;32m     36\u001B[0m \u001B[43m        \u001B[49m\u001B[43mtimeout\u001B[49m\u001B[38;5;241;43m=\u001B[39;49m\u001B[38;5;241;43m10\u001B[39;49m\u001B[43m,\u001B[49m\n\u001B[1;32m     37\u001B[0m \u001B[43m    \u001B[49m\u001B[43m)\u001B[49m\n\u001B[1;32m     38\u001B[0m     \u001B[38;5;28;01mtry\u001B[39;00m:\n\u001B[1;32m     39\u001B[0m         run_status \u001B[38;5;241m=\u001B[39m response\u001B[38;5;241m.\u001B[39mjson()\n",
      "File \u001B[0;32m~/anaconda3/lib/python3.9/site-packages/requests/api.py:73\u001B[0m, in \u001B[0;36mget\u001B[0;34m(url, params, **kwargs)\u001B[0m\n\u001B[1;32m     62\u001B[0m \u001B[38;5;28;01mdef\u001B[39;00m \u001B[38;5;21mget\u001B[39m(url, params\u001B[38;5;241m=\u001B[39m\u001B[38;5;28;01mNone\u001B[39;00m, \u001B[38;5;241m*\u001B[39m\u001B[38;5;241m*\u001B[39mkwargs):\n\u001B[1;32m     63\u001B[0m     \u001B[38;5;124mr\u001B[39m\u001B[38;5;124;03m\"\"\"Sends a GET request.\u001B[39;00m\n\u001B[1;32m     64\u001B[0m \n\u001B[1;32m     65\u001B[0m \u001B[38;5;124;03m    :param url: URL for the new :class:`Request` object.\u001B[39;00m\n\u001B[0;32m   (...)\u001B[0m\n\u001B[1;32m     70\u001B[0m \u001B[38;5;124;03m    :rtype: requests.Response\u001B[39;00m\n\u001B[1;32m     71\u001B[0m \u001B[38;5;124;03m    \"\"\"\u001B[39;00m\n\u001B[0;32m---> 73\u001B[0m     \u001B[38;5;28;01mreturn\u001B[39;00m \u001B[43mrequest\u001B[49m\u001B[43m(\u001B[49m\u001B[38;5;124;43m\"\u001B[39;49m\u001B[38;5;124;43mget\u001B[39;49m\u001B[38;5;124;43m\"\u001B[39;49m\u001B[43m,\u001B[49m\u001B[43m \u001B[49m\u001B[43murl\u001B[49m\u001B[43m,\u001B[49m\u001B[43m \u001B[49m\u001B[43mparams\u001B[49m\u001B[38;5;241;43m=\u001B[39;49m\u001B[43mparams\u001B[49m\u001B[43m,\u001B[49m\u001B[43m \u001B[49m\u001B[38;5;241;43m*\u001B[39;49m\u001B[38;5;241;43m*\u001B[39;49m\u001B[43mkwargs\u001B[49m\u001B[43m)\u001B[49m\n",
      "File \u001B[0;32m~/anaconda3/lib/python3.9/site-packages/requests/api.py:59\u001B[0m, in \u001B[0;36mrequest\u001B[0;34m(method, url, **kwargs)\u001B[0m\n\u001B[1;32m     55\u001B[0m \u001B[38;5;66;03m# By using the 'with' statement we are sure the session is closed, thus we\u001B[39;00m\n\u001B[1;32m     56\u001B[0m \u001B[38;5;66;03m# avoid leaving sockets open which can trigger a ResourceWarning in some\u001B[39;00m\n\u001B[1;32m     57\u001B[0m \u001B[38;5;66;03m# cases, and look like a memory leak in others.\u001B[39;00m\n\u001B[1;32m     58\u001B[0m \u001B[38;5;28;01mwith\u001B[39;00m sessions\u001B[38;5;241m.\u001B[39mSession() \u001B[38;5;28;01mas\u001B[39;00m session:\n\u001B[0;32m---> 59\u001B[0m     \u001B[38;5;28;01mreturn\u001B[39;00m \u001B[43msession\u001B[49m\u001B[38;5;241;43m.\u001B[39;49m\u001B[43mrequest\u001B[49m\u001B[43m(\u001B[49m\u001B[43mmethod\u001B[49m\u001B[38;5;241;43m=\u001B[39;49m\u001B[43mmethod\u001B[49m\u001B[43m,\u001B[49m\u001B[43m \u001B[49m\u001B[43murl\u001B[49m\u001B[38;5;241;43m=\u001B[39;49m\u001B[43murl\u001B[49m\u001B[43m,\u001B[49m\u001B[43m \u001B[49m\u001B[38;5;241;43m*\u001B[39;49m\u001B[38;5;241;43m*\u001B[39;49m\u001B[43mkwargs\u001B[49m\u001B[43m)\u001B[49m\n",
      "File \u001B[0;32m~/anaconda3/lib/python3.9/site-packages/requests/sessions.py:587\u001B[0m, in \u001B[0;36mSession.request\u001B[0;34m(self, method, url, params, data, headers, cookies, files, auth, timeout, allow_redirects, proxies, hooks, stream, verify, cert, json)\u001B[0m\n\u001B[1;32m    582\u001B[0m send_kwargs \u001B[38;5;241m=\u001B[39m {\n\u001B[1;32m    583\u001B[0m     \u001B[38;5;124m\"\u001B[39m\u001B[38;5;124mtimeout\u001B[39m\u001B[38;5;124m\"\u001B[39m: timeout,\n\u001B[1;32m    584\u001B[0m     \u001B[38;5;124m\"\u001B[39m\u001B[38;5;124mallow_redirects\u001B[39m\u001B[38;5;124m\"\u001B[39m: allow_redirects,\n\u001B[1;32m    585\u001B[0m }\n\u001B[1;32m    586\u001B[0m send_kwargs\u001B[38;5;241m.\u001B[39mupdate(settings)\n\u001B[0;32m--> 587\u001B[0m resp \u001B[38;5;241m=\u001B[39m \u001B[38;5;28;43mself\u001B[39;49m\u001B[38;5;241;43m.\u001B[39;49m\u001B[43msend\u001B[49m\u001B[43m(\u001B[49m\u001B[43mprep\u001B[49m\u001B[43m,\u001B[49m\u001B[43m \u001B[49m\u001B[38;5;241;43m*\u001B[39;49m\u001B[38;5;241;43m*\u001B[39;49m\u001B[43msend_kwargs\u001B[49m\u001B[43m)\u001B[49m\n\u001B[1;32m    589\u001B[0m \u001B[38;5;28;01mreturn\u001B[39;00m resp\n",
      "File \u001B[0;32m~/anaconda3/lib/python3.9/site-packages/requests/sessions.py:701\u001B[0m, in \u001B[0;36mSession.send\u001B[0;34m(self, request, **kwargs)\u001B[0m\n\u001B[1;32m    698\u001B[0m start \u001B[38;5;241m=\u001B[39m preferred_clock()\n\u001B[1;32m    700\u001B[0m \u001B[38;5;66;03m# Send the request\u001B[39;00m\n\u001B[0;32m--> 701\u001B[0m r \u001B[38;5;241m=\u001B[39m \u001B[43madapter\u001B[49m\u001B[38;5;241;43m.\u001B[39;49m\u001B[43msend\u001B[49m\u001B[43m(\u001B[49m\u001B[43mrequest\u001B[49m\u001B[43m,\u001B[49m\u001B[43m \u001B[49m\u001B[38;5;241;43m*\u001B[39;49m\u001B[38;5;241;43m*\u001B[39;49m\u001B[43mkwargs\u001B[49m\u001B[43m)\u001B[49m\n\u001B[1;32m    703\u001B[0m \u001B[38;5;66;03m# Total elapsed time of the request (approximately)\u001B[39;00m\n\u001B[1;32m    704\u001B[0m elapsed \u001B[38;5;241m=\u001B[39m preferred_clock() \u001B[38;5;241m-\u001B[39m start\n",
      "File \u001B[0;32m~/anaconda3/lib/python3.9/site-packages/requests/adapters.py:547\u001B[0m, in \u001B[0;36mHTTPAdapter.send\u001B[0;34m(self, request, stream, timeout, verify, cert, proxies)\u001B[0m\n\u001B[1;32m    544\u001B[0m             \u001B[38;5;28;01mraise\u001B[39;00m\n\u001B[1;32m    546\u001B[0m \u001B[38;5;28;01mexcept\u001B[39;00m (ProtocolError, \u001B[38;5;167;01mOSError\u001B[39;00m) \u001B[38;5;28;01mas\u001B[39;00m err:\n\u001B[0;32m--> 547\u001B[0m     \u001B[38;5;28;01mraise\u001B[39;00m \u001B[38;5;167;01mConnectionError\u001B[39;00m(err, request\u001B[38;5;241m=\u001B[39mrequest)\n\u001B[1;32m    549\u001B[0m \u001B[38;5;28;01mexcept\u001B[39;00m MaxRetryError \u001B[38;5;28;01mas\u001B[39;00m e:\n\u001B[1;32m    550\u001B[0m     \u001B[38;5;28;01mif\u001B[39;00m \u001B[38;5;28misinstance\u001B[39m(e\u001B[38;5;241m.\u001B[39mreason, ConnectTimeoutError):\n\u001B[1;32m    551\u001B[0m         \u001B[38;5;66;03m# TODO: Remove this in 3.0.0: see #2811\u001B[39;00m\n",
      "\u001B[0;31mConnectionError\u001B[0m: ('Connection aborted.', ConnectionResetError(54, 'Connection reset by peer'))"
     ]
    }
   ],
   "source": [
    "\n",
    "QUERY_ID = \"ieuP4ZH63m1hKjOZyvuW\"\n",
    "run_ids = []\n",
    "all_results = []\n",
    "successful_runs = []\n",
    "failed_runs = []\n",
    "no_results = []\n",
    "# Get the total number of batches\n",
    "#total_batches = (len(df.from_address) + batch_size - 1) // batch_size\n",
    "# Loop through each batch\n",
    "for batch in retryBatches:\n",
    "    response = requests.post(\n",
    "        f\"https://api.allium.so/api/v1/explorer/queries/{QUERY_ID}/run-async\",\n",
    "        json={\"parameters\":\n",
    "                  {\"sampleAddresses\": batch\n",
    "                  },\n",
    "                \"run_config\": {\"limit\": 250000}},\n",
    "        headers={\"X-API-Key\": API_KEY},\n",
    "        timeout=10,\n",
    "    )\n",
    "    try:\n",
    "        print(response.status_code, response.text)\n",
    "        run_id = response.json()[\"run_id\"]\n",
    "        print(f\"Query run created with ID: {run_id}\")\n",
    "        run_ids.append(run_id)\n",
    "    except json.JSONDecodeError as e:\n",
    "        print(e)\n",
    "        failed_runs.append(run_id)\n",
    "\n",
    "for run_id in run_ids:\n",
    "    polling_interval, start, timeout = 1, time.time(), 20 * 60  # 20min timeout\n",
    "    while time.time() < start + timeout:\n",
    "        run_status = ''\n",
    "        response = requests.get(\n",
    "            f\"https://api.allium.so/api/v1/explorer/query-runs/{run_id}/status\",\n",
    "            headers={\"X-API-Key\": API_KEY},\n",
    "            timeout=10,\n",
    "        )\n",
    "        try:\n",
    "            run_status = response.json()\n",
    "        except json.JSONDecodeError as e:\n",
    "            failed_runs.append(run_id)\n",
    "            break\n",
    "        if run_status not in [\"created\", \"queued\", \"running\"]:\n",
    "            break\n",
    "        print(f\"Current status: {run_status}. Waiting {polling_interval}s...\")\n",
    "        time.sleep(polling_interval)\n",
    "\n",
    "    if run_status == \"success\":\n",
    "        successful_runs.append(run_id)\n",
    "        response = requests.get(\n",
    "            f\"https://api.allium.so/api/v1/explorer/query-runs/{run_id}/results?f=json\",\n",
    "            headers={\"X-API-Key\": API_KEY},\n",
    "        )\n",
    "        results = response.json()\n",
    "        # Convert the API response data to a DataFrame\n",
    "        new_data = pd.DataFrame(results['data'])\n",
    "\n",
    "        # Concatenate the empty DataFrame with the new data, creating new columns as needed\n",
    "        transaction_data = pd.concat([transaction_data, new_data], axis=0, ignore_index=True)\n",
    "        all_results.append(results)\n",
    "        print(\n",
    "            f\"Query returned {len(results['data'])} rows, with \"\n",
    "            f\"fields: {', '.join(column.get('name') for column in results['meta']['columns'])}\"\n",
    "        )\n",
    "\n",
    "    elif run_status == \"failed\":\n",
    "        failed_runs.append(run_id)\n",
    "        response = requests.get(\n",
    "            f\"https://api.allium.so/api/v1/explorer/query-runs/{run_id}/error\",\n",
    "            headers={\"X-API-Key\": API_KEY},\n",
    "        )\n",
    "        error_message = response.json()\n",
    "        print(\n",
    "            f\"Query failed with error: {error_message}\"\n",
    "        )\n",
    "    else:\n",
    "        no_results.append(run_id)\n",
    "        print(f\"Query run finished with status: {run_status}. No results.\")\n",
    "print(transaction_data.shape)\n",
    "transaction_data.head()"
   ]
  },
  {
   "cell_type": "code",
   "execution_count": 26,
   "outputs": [
    {
     "name": "stdout",
     "output_type": "stream",
     "text": [
      "reading file ./transactionData/Get Transaction Data - XJwunSI9ASKapRKveZA2.json\n",
      "number of rows = 20575\n",
      "reading file ./transactionData/Get Transaction Data - ErQOGActbZmq1CJAu1G4.json\n",
      "number of rows = 9118\n",
      "reading file ./transactionData/Get Transaction Data - 17Z6OwchngPd0BW44hod.json\n",
      "number of rows = 11198\n",
      "reading file ./transactionData/Get Transaction Data - 6HQBrLxYDOyqRGeJYVY3.json\n",
      "number of rows = 15038\n",
      "reading file ./transactionData/Get Transaction Data - 8ZQH7MeqM4Zg3mfnf6AL.json\n",
      "number of rows = 11729\n",
      "reading file ./transactionData/Get Transaction Data - kKZHqNuAwAuZ28LByGP2.json\n",
      "number of rows = 13171\n",
      "reading file ./transactionData/Get Transaction Data - sgIZq0IBCEwE9QRYSB1e.json\n",
      "number of rows = 14629\n",
      "reading file ./transactionData/Get Transaction Data - 09Mug8619sEotCMMATZj.json\n",
      "number of rows = 12350\n",
      "reading file ./transactionData/Get Transaction Data - 4OgaVNyFRwlJzCiY5mhN.json\n",
      "number of rows = 24222\n"
     ]
    },
    {
     "data": {
      "text/plain": "                                                hash   nonce  \\\n0  0x04c7ad20d35b76145dbd5ba701f55fb793007bc9bad6...  109990   \n1  0x0a418e5f6b2246f7f1ba4ad74b8f50863ac24ca9eaac...       0   \n2  0x86a8f415bbf3eb6f8621daea85b96918efabb9a4cd65...     177   \n3  0xbdd7c7c1b8bc7b6c7ed4ec56074ebae3e10e513e1203...     157   \n4  0x1908da7917c43e7523501042054922d2472708283a6e...     154   \n\n   transaction_index                                from_address  \\\n0                 74  0x8f22f2063d253846b53609231ed80fa571bc0c8f   \n1                  9  0xadee4b0890053fc15aed0990d867f5062184ebf7   \n2                150  0x040c18296688ce56aaed9fbf5e765c7d452f8434   \n3                 57  0x040c18296688ce56aaed9fbf5e765c7d452f8434   \n4                 48  0x040c18296688ce56aaed9fbf5e765c7d452f8434   \n\n                                   to_address                value     gas  \\\n0  0x6321495b415c873d4f04b84ece0519754788edad  1494111550000000000  207128   \n1  0x3f5ce5fbfe3e9af3971dd833d26ba9b5c936f0be  1434171200000000000   42000   \n2  0x7a250d5630b4cf539739df2c5dacb4c659f2488d                    0  212765   \n3  0x7a250d5630b4cf539739df2c5dacb4c659f2488d                    0  204264   \n4  0xb1f871ae9462f1b2c6826e88a7827e76f86751d4                    0   48726   \n\n      gas_price                                              input  \\\n0  135000000000                                                 0x   \n1   64000000000                                                 0x   \n2   23000000000  0x38ed1739000000000000000000000000000000000000...   \n3  101000001459  0x38ed1739000000000000000000000000000000000000...   \n4  101000000000  0x095ea7b30000000000000000000000007a250d5630b4...   \n\n   receipt_cumulative_gas_used  ...  receipt_contract_address receipt_root  \\\n0                      3674628  ...                      None         None   \n1                       706756  ...                      None         None   \n2                     13697132  ...                      None         None   \n3                      5340632  ...                      None         None   \n4                      2371573  ...                      None         None   \n\n  receipt_status      block_timestamp block_number  \\\n0            1.0  2021-03-20T09:42:21     12074960   \n1            1.0  2021-05-02T18:10:52     12356270   \n2            1.0  2021-05-02T10:36:21     12354235   \n3            1.0  2021-03-21T08:53:20     12081144   \n4            1.0  2021-03-21T08:24:53     12081028   \n\n                                          block_hash max_fee_per_gas  \\\n0  0x48a2fc67cdc435b09117297d049eba5e04909be8872a...             NaN   \n1  0x92e261d44236134c821492df1cca4d04fe61ba76cbc6...             NaN   \n2  0x202226ebc999ab15d52b3627d0b55989904c8414850f...             NaN   \n3  0xff7d5076b0e7b611ea5bf04704fb0d209313c5380959...             NaN   \n4  0xee9ee72d6fbfc2fbe36afd4c935870a699e2137482ef...             NaN   \n\n   max_priority_fee_per_gas  transaction_type  receipt_effective_gas_price  \n0                       NaN               NaN                 1.350000e+11  \n1                       NaN               NaN                 6.400000e+10  \n2                       NaN               NaN                 2.300000e+10  \n3                       NaN               NaN                 1.010000e+11  \n4                       NaN               NaN                 1.010000e+11  \n\n[5 rows x 21 columns]",
      "text/html": "<div>\n<style scoped>\n    .dataframe tbody tr th:only-of-type {\n        vertical-align: middle;\n    }\n\n    .dataframe tbody tr th {\n        vertical-align: top;\n    }\n\n    .dataframe thead th {\n        text-align: right;\n    }\n</style>\n<table border=\"1\" class=\"dataframe\">\n  <thead>\n    <tr style=\"text-align: right;\">\n      <th></th>\n      <th>hash</th>\n      <th>nonce</th>\n      <th>transaction_index</th>\n      <th>from_address</th>\n      <th>to_address</th>\n      <th>value</th>\n      <th>gas</th>\n      <th>gas_price</th>\n      <th>input</th>\n      <th>receipt_cumulative_gas_used</th>\n      <th>...</th>\n      <th>receipt_contract_address</th>\n      <th>receipt_root</th>\n      <th>receipt_status</th>\n      <th>block_timestamp</th>\n      <th>block_number</th>\n      <th>block_hash</th>\n      <th>max_fee_per_gas</th>\n      <th>max_priority_fee_per_gas</th>\n      <th>transaction_type</th>\n      <th>receipt_effective_gas_price</th>\n    </tr>\n  </thead>\n  <tbody>\n    <tr>\n      <th>0</th>\n      <td>0x04c7ad20d35b76145dbd5ba701f55fb793007bc9bad6...</td>\n      <td>109990</td>\n      <td>74</td>\n      <td>0x8f22f2063d253846b53609231ed80fa571bc0c8f</td>\n      <td>0x6321495b415c873d4f04b84ece0519754788edad</td>\n      <td>1494111550000000000</td>\n      <td>207128</td>\n      <td>135000000000</td>\n      <td>0x</td>\n      <td>3674628</td>\n      <td>...</td>\n      <td>None</td>\n      <td>None</td>\n      <td>1.0</td>\n      <td>2021-03-20T09:42:21</td>\n      <td>12074960</td>\n      <td>0x48a2fc67cdc435b09117297d049eba5e04909be8872a...</td>\n      <td>NaN</td>\n      <td>NaN</td>\n      <td>NaN</td>\n      <td>1.350000e+11</td>\n    </tr>\n    <tr>\n      <th>1</th>\n      <td>0x0a418e5f6b2246f7f1ba4ad74b8f50863ac24ca9eaac...</td>\n      <td>0</td>\n      <td>9</td>\n      <td>0xadee4b0890053fc15aed0990d867f5062184ebf7</td>\n      <td>0x3f5ce5fbfe3e9af3971dd833d26ba9b5c936f0be</td>\n      <td>1434171200000000000</td>\n      <td>42000</td>\n      <td>64000000000</td>\n      <td>0x</td>\n      <td>706756</td>\n      <td>...</td>\n      <td>None</td>\n      <td>None</td>\n      <td>1.0</td>\n      <td>2021-05-02T18:10:52</td>\n      <td>12356270</td>\n      <td>0x92e261d44236134c821492df1cca4d04fe61ba76cbc6...</td>\n      <td>NaN</td>\n      <td>NaN</td>\n      <td>NaN</td>\n      <td>6.400000e+10</td>\n    </tr>\n    <tr>\n      <th>2</th>\n      <td>0x86a8f415bbf3eb6f8621daea85b96918efabb9a4cd65...</td>\n      <td>177</td>\n      <td>150</td>\n      <td>0x040c18296688ce56aaed9fbf5e765c7d452f8434</td>\n      <td>0x7a250d5630b4cf539739df2c5dacb4c659f2488d</td>\n      <td>0</td>\n      <td>212765</td>\n      <td>23000000000</td>\n      <td>0x38ed1739000000000000000000000000000000000000...</td>\n      <td>13697132</td>\n      <td>...</td>\n      <td>None</td>\n      <td>None</td>\n      <td>1.0</td>\n      <td>2021-05-02T10:36:21</td>\n      <td>12354235</td>\n      <td>0x202226ebc999ab15d52b3627d0b55989904c8414850f...</td>\n      <td>NaN</td>\n      <td>NaN</td>\n      <td>NaN</td>\n      <td>2.300000e+10</td>\n    </tr>\n    <tr>\n      <th>3</th>\n      <td>0xbdd7c7c1b8bc7b6c7ed4ec56074ebae3e10e513e1203...</td>\n      <td>157</td>\n      <td>57</td>\n      <td>0x040c18296688ce56aaed9fbf5e765c7d452f8434</td>\n      <td>0x7a250d5630b4cf539739df2c5dacb4c659f2488d</td>\n      <td>0</td>\n      <td>204264</td>\n      <td>101000001459</td>\n      <td>0x38ed1739000000000000000000000000000000000000...</td>\n      <td>5340632</td>\n      <td>...</td>\n      <td>None</td>\n      <td>None</td>\n      <td>1.0</td>\n      <td>2021-03-21T08:53:20</td>\n      <td>12081144</td>\n      <td>0xff7d5076b0e7b611ea5bf04704fb0d209313c5380959...</td>\n      <td>NaN</td>\n      <td>NaN</td>\n      <td>NaN</td>\n      <td>1.010000e+11</td>\n    </tr>\n    <tr>\n      <th>4</th>\n      <td>0x1908da7917c43e7523501042054922d2472708283a6e...</td>\n      <td>154</td>\n      <td>48</td>\n      <td>0x040c18296688ce56aaed9fbf5e765c7d452f8434</td>\n      <td>0xb1f871ae9462f1b2c6826e88a7827e76f86751d4</td>\n      <td>0</td>\n      <td>48726</td>\n      <td>101000000000</td>\n      <td>0x095ea7b30000000000000000000000007a250d5630b4...</td>\n      <td>2371573</td>\n      <td>...</td>\n      <td>None</td>\n      <td>None</td>\n      <td>1.0</td>\n      <td>2021-03-21T08:24:53</td>\n      <td>12081028</td>\n      <td>0xee9ee72d6fbfc2fbe36afd4c935870a699e2137482ef...</td>\n      <td>NaN</td>\n      <td>NaN</td>\n      <td>NaN</td>\n      <td>1.010000e+11</td>\n    </tr>\n  </tbody>\n</table>\n<p>5 rows × 21 columns</p>\n</div>"
     },
     "execution_count": 26,
     "metadata": {},
     "output_type": "execute_result"
    }
   ],
   "source": [
    "# Specify the directory path\n",
    "dir_path = './transactionData'\n",
    "\n",
    "# List all files in the directory\n",
    "file_names = os.listdir(dir_path)\n",
    "\n",
    "# Loop through the files\n",
    "for file_name in file_names:\n",
    "    # Create the full file path by joining the directory path and the file name\n",
    "    file_path = os.path.join(dir_path, file_name)\n",
    "    if file_name.startswith('.'):\n",
    "        continue\n",
    "    # Check if it's a file (and not a directory)\n",
    "    if os.path.isfile(file_path):\n",
    "        # Open and read the file\n",
    "        with open(file_path, 'r') as file:\n",
    "            print(f'reading file {file_path}')\n",
    "            try:\n",
    "                file_content = file.read()\n",
    "            except Exception as e:\n",
    "                print(file_path, e)\n",
    "            json_data = json.loads(file_content)\n",
    "            print(f\"number of rows = {len(json_data['data'])}\")\n",
    "            new_data = pd.DataFrame(json_data['data'])\n",
    "            transaction_data = pd.concat([transaction_data, new_data], axis=0, ignore_index=True)\n",
    "            # Pr\n",
    "transaction_data.head()"
   ],
   "metadata": {
    "collapsed": false,
    "ExecuteTime": {
     "start_time": "2023-04-19T15:36:33.594817Z",
     "end_time": "2023-04-19T15:36:34.953822Z"
    }
   }
  },
  {
   "cell_type": "code",
   "execution_count": 66,
   "outputs": [
    {
     "data": {
      "text/plain": "(156536, 22)"
     },
     "execution_count": 66,
     "metadata": {},
     "output_type": "execute_result"
    }
   ],
   "source": [
    "transaction_data.to_csv('transactions.csv')\n",
    "td = pd.read_csv('transactions.csv')\n",
    "td.shape"
   ],
   "metadata": {
    "collapsed": false,
    "ExecuteTime": {
     "start_time": "2023-04-19T17:17:00.031219Z",
     "end_time": "2023-04-19T17:17:05.744729Z"
    }
   }
  },
  {
   "cell_type": "markdown",
   "id": "36b6818f",
   "metadata": {},
   "source": [
    "Population Stratification:\n",
    "We are interested in determining the stratification of population"
   ]
  },
  {
   "cell_type": "code",
   "execution_count": null,
   "id": "0b280003",
   "metadata": {},
   "outputs": [],
   "source": [
    "import requests\n",
    "import pandas as pd\n",
    "\n",
    "API_KEY = \"5uxdqImRdstj7NoqW8c0kuQWtlYkouWLzMHADiwvrCDxogFy6gB2LEtQLboq5qOrnwxym8C1pBZmRO1FIr4I8Q\"\n",
    "\n",
    "response = requests.post(\n",
    "\n",
    "    \"https://api.allium.so/api/v1/explorer/queries/pDveVdd1X7jzrl07r2wH/run\",\n",
    "\n",
    "    json={},\n",
    "\n",
    "    headers={\"X-API-Key\": \"5uxdqImRdstj7NoqW8c0kuQWtlYkouWLzMHADiwvrCDxogFy6gB2LEtQLboq5qOrnwxym8C1pBZmRO1FIr4I8Q\"},\n",
    "\n",
    ")\n",
    "\n",
    "\n",
    "run_id = response.json()[\"run_id\"]\n",
    "\n",
    "while True:\n",
    "    response = requests.get(\n",
    "        f\"https://api.allium.so/api/v1/explorer/query-runs/{run_id}/status\",\n",
    "        headers={\"X-API-Key\": API_KEY},\n",
    "    )\n",
    "    run_status = response.json()\n",
    "    if run_status == \"success\":\n",
    "        break\n",
    "    elif run_status == \"failed\" or run_status == \"canceled\":\n",
    "        raise f\"Failed with run status: {run_status}\"\n",
    "\n",
    "response = requests.get(\n",
    "    f\"https://api.allium.so/api/v1/explorer/query-runs/{run_id}/results?f=json\",\n",
    "    headers={\"X-API-Key\": API_KEY},\n",
    ")\n",
    "dict_contents = response.json()\n",
    "df = pd.DataFrame.from_dict(dict_contents['data'])"
   ]
  },
  {
   "cell_type": "code",
   "execution_count": null,
   "id": "69573039",
   "metadata": {
    "ExecuteTime": {
     "end_time": "2023-04-05T14:14:38.615910Z",
     "start_time": "2023-04-05T14:14:38.611743Z"
    }
   },
   "outputs": [],
   "source": [
    "len(response.json()['data'])"
   ]
  },
  {
   "cell_type": "code",
   "execution_count": null,
   "id": "648641e2",
   "metadata": {
    "ExecuteTime": {
     "end_time": "2023-04-05T14:02:10.683414Z",
     "start_time": "2023-04-05T14:02:10.453637Z"
    }
   },
   "outputs": [],
   "source": [
    "import requests\n",
    "\n",
    "response = requests.post(\n",
    "    f\"https://api.allium.so/api/v1/explorer/queries/L3lwyn29An71VIM9TGwg/run\",\n",
    "    json={\n",
    "        \"parameters\": {},\n",
    "        \"run_config\": {\n",
    "            \"limit\": 1000,\n",
    "        }\n",
    "    },\n",
    "    headers={\"X-API-Key\": \"5uxdqImRdstj7NoqW8c0kuQWtlYkouWLzMHADiwvrCDxogFy6gB2LEtQLboq5qOrnwxym8C1pBZmRO1FIr4I8Q\"},\n",
    ")\n",
    "\n",
    "print(response.json())"
   ]
  },
  {
   "cell_type": "code",
   "execution_count": null,
   "id": "8345db7d",
   "metadata": {
    "ExecuteTime": {
     "end_time": "2023-04-05T12:44:01.005435Z",
     "start_time": "2023-04-05T12:44:01.002843Z"
    }
   },
   "outputs": [],
   "source": [
    "len(response.json()['data'])"
   ]
  },
  {
   "cell_type": "code",
   "execution_count": null,
   "id": "5f4d31e5",
   "metadata": {},
   "outputs": [],
   "source": []
  }
 ],
 "metadata": {
  "kernelspec": {
   "display_name": "Python 3 (ipykernel)",
   "language": "python",
   "name": "python3"
  },
  "language_info": {
   "codemirror_mode": {
    "name": "ipython",
    "version": 3
   },
   "file_extension": ".py",
   "mimetype": "text/x-python",
   "name": "python",
   "nbconvert_exporter": "python",
   "pygments_lexer": "ipython3",
   "version": "3.9.15"
  }
 },
 "nbformat": 4,
 "nbformat_minor": 5
}
