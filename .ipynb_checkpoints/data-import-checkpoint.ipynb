{
 "cells": [
  {
   "cell_type": "code",
   "execution_count": 27,
   "id": "02019464",
   "metadata": {},
   "outputs": [],
   "source": [
    "import os\n",
    "import pandas\n",
    "import numpy\n",
    "import requests\n",
    "import time\n",
    "API_KEY = ''\n",
    "with open('KEYS.txt', 'r') as file:\n",
    "    API_KEY = file.read().strip()"
   ]
  },
  {
   "cell_type": "markdown",
   "id": "1dd46edb",
   "metadata": {},
   "source": [
    "## Multivariate Data Analysis Problem:\n",
    "\n",
    "Last year was the best year ever for hackers, phishers, and scammers on public blockchain networks. An estimated $3.8 Billion was stolen, primarily from Decentralized Finance protocols and by North Korea-linked attackers. Developing an identity-based positive reputation score is one key tool needed to combat and prevent these attacks, and allowing the technology to flourish and grow.\n",
    "\n",
    "Public blockchain networks are pseudonymous, meaning that while the real-world identity of a blockchain 'user' may not be known, all of their activities and every transaction that they publish to the blockchain network is publicly available. Similar to how although the exact identity of a pseudonymous author is not known, every piece of writing they publish under the pseudonymous identity can be aggregated and analyzed. \n",
    "\n",
    "Blockchains are state machines, meaning the system is described by the chain of its initial, intermediary, and final states. Each state is entirely described by the previous state of the system, and the sum of all 'transactions' in each block. A transaction in this context is a valid operation within the system that mutates the blockchain data structure in some way.\n",
    "\n",
    "A blockchain 'identity' is thus an individuals public blockchain identifier (known as a public address), and all of the transactions that affect that public address (likely as the sender or recipient). A positive reputation score associated with a blockchain identity would be a metric that accurately identifies addresses that are likely to be non-malicious.\n",
    "\n",
    "In this analysis, I seek to identify an initial heuristic for positive reputation that can be further refined and expanded into a more comprehensive model for postive reputation. The goal is to eventlually classify, with high precision, whether a submitted transaction is \"honest\" or \"reputation inconclusive\"\n"
   ]
  },
  {
   "cell_type": "markdown",
   "id": "311d1574",
   "metadata": {},
   "source": [
    "## Project Description:\n",
    "\n",
    "What we are trying to identify with this project is a set of heuristics that, with extremely high confidence, will predict that a transaction  is \"honest\". In this context, honest means, that the transaction is not a malicious transaction. Examples of malicious transactions include the movement of funds in the procession of fraud, money laundering, hacks, scams, etc.\n",
    "\n",
    "To identify whether or not an ethereum transaction is honest, we must examine the transaction metadata that is publicly available (and published in real time) on the blockchain network, as well as the additional metadata related to the transaction. For our purposes, transaction metadata includes the details on the sender, the recipient, the amount, the timestamp, and over. Related transaction metadata would include additional data related to the sender, recipient, and timestamp, such as the balance of the sending address, the balance of the receiving address, and other information.\n",
    "\n",
    "Given that transaction data is in the form of a time series, it is important to clearly define the population and objective. The population of data that we are interested in is all transaction activity from the period 2021-04-01 to 2023-04-01. We choose this upper and lower bound on the period in consideration, because the transaction volume on the ethereum network is not normally distributed across the entire lifetime of the network. We want our period to capture activity reflective of the modern network usage, and to not overweight early transaction data that may not be relevant to modern network usage. Thus, we select a period of the two current years.\n",
    "\n",
    "## Data Source:\n",
    "The data we are using is provided by Allium, which is an enterprise grade blockchain data provider. Allium provides infrastructure to enterprises that needed institutional scale access to querying live blockchain datasets. Allium's data comes directly from the nodes that it runs on the networks, so we have confidence that the data is accurate. By the nature of blockchain networks, we can have confidence that there is no missing or non-standardized data. In order to import the data from Allium, I will first have to write the SQL within their query builder, on their website, and then either export the data via CSV download, or import directly via API call into this jupyter notebook.\n"
   ]
  },
  {
   "cell_type": "markdown",
   "id": "a25661f6",
   "metadata": {},
   "source": []
  },
  {
   "cell_type": "code",
   "execution_count": 1,
   "id": "01fcc1ce",
   "metadata": {
    "ExecuteTime": {
     "end_time": "2023-04-05T22:54:29.961247Z",
     "start_time": "2023-04-05T22:54:29.903049Z"
    }
   },
   "outputs": [
    {
     "name": "stderr",
     "output_type": "stream",
     "text": [
      "/Users/alexcullen/anaconda3/lib/python3.9/site-packages/IPython/core/display.py:431: UserWarning: Consider using IPython.display.IFrame instead\n",
      "  warnings.warn(\"Consider using IPython.display.IFrame instead\")\n"
     ]
    },
    {
     "data": {
      "text/html": [
       "<iframe src=\"https://embed.theblockcrypto.com/data/on-chain-metrics/ethereum/ethereums-adjusted-on-chain-volume-daily/embed\" width=\"100%\" height=\"420\" frameborder=\"0\" allowfullscreen></iframe>"
      ],
      "text/plain": [
       "<IPython.core.display.HTML object>"
      ]
     },
     "execution_count": 1,
     "metadata": {},
     "output_type": "execute_result"
    }
   ],
   "source": [
    "from IPython.display import HTML\n",
    "\n",
    "url = \"https://embed.theblockcrypto.com/data/on-chain-metrics/ethereum/ethereums-adjusted-on-chain-volume-daily/embed\"\n",
    "\n",
    "iframe_code = f'<iframe src=\"{url}\" width=\"100%\" height=\"420\" frameborder=\"0\" allowfullscreen></iframe>'\n",
    "\n",
    "HTML(iframe_code)"
   ]
  },
  {
   "cell_type": "markdown",
   "id": "bdacbe3e",
   "metadata": {},
   "source": [
    "## Data Description:\n",
    "A blockchain can be understood as basically a single data structure. The Structure is entirely comprised of a linear sequence of blocks. Each block has a number, beginning at 1 (the genesis block), and updating each time a new block is found. As of the writing of this post, there have been more than 780,000 blocks discovered. Each block contains a batch of transcations. Each transaction contains details on the sender and recipient, value, etc. Ethereum blockchain addresses have one of two classifications, they are either autonomous (smart contracts), or they Externally Owned Accounts. We are only concerned with transactions initiated by Externally Owned Accounts, for the purposes of identifying \"honest\" transaction originators.\n",
    "\n",
    "Additionally Allium has maintains a database table called \"Ethereum Assets\", which enriches the existing metadata to provide useful intelligence on things like current account balance, or time of last activity.\n",
    "\n",
    "Together, the datasets that we are interested in are: Transactions, Blocks, Contracts, and Assets"
   ]
  },
  {
   "cell_type": "markdown",
   "id": "61171cc5",
   "metadata": {},
   "source": [
    "## APA citation for datasets:\n",
    "Allium.so. (n.d.). Ethereum Raw Transactions [Data set]. Allium.so. Retrieved from https://allium.so/\n",
    "\n",
    "Allium.so. (n.d.). Ethereum Raw Blocks [Data set]. Allium.so. Retrieved from https://allium.so/\n",
    "\n",
    "Allium.so. (n.d.). Ethereum Raw Contracts [Data set]. Allium.so. Retrieved from https://allium.so/\n",
    "\n",
    "Allium.so. (n.d.). Ethereum Assets [Data set]. Allium.so. Retrieved from https://allium.so/"
   ]
  },
  {
   "cell_type": "markdown",
   "id": "4de0e4d9",
   "metadata": {},
   "source": [
    "## Features available in a blockchain transaction\n",
    "| Column Name       | Description\t                                                                                                                                                                                         | Example                                                             |\n",
    "|:--------|:-----------------------------------------------------------------------------------------------------------------------------------------------------------------------------------------------------|:--------------------------------------------------------------------|\n",
    "| block_timestamp      | The time when the block that contains this transaction was included on the blockchain.                                                                                                               | 2022-09-16 04:59:59                                                 |\n",
    "| block_number\t                   | The length of the chain, in blocks                                                                                                                                                                   | 15543975                                                            |\n",
    "| block_hash\t| Unique identifier of the block that includes this transaction.\t                                                                                                                                      | 0xe3eb6f24b34ab179646608ca100a3cd1d2fd1144f83544d029c0352429371b6d  |\n",
    "| hash\t| Unique identifier of a transaction.                                                                                                                                                                  | \t0x9068357001dc45c59a0c0383860f25fd64daeef205f723c5cbd980f280baca38 |\n",
    "|from_address\t| The address of the sending party of this transaction.                                                                                                                                                | \t0x7e63870ac9cb1491928e3c8922c19b2595331ac9                         |\n",
    "|to_address\t| The address of the receiving party of this transaction (could be a contract address). | \t0x68b3465833fb72a70ecdf485e0e4c7bd8665fc45                         |\n",
    "|value\t| The amount of ether sent in this transaction, in wei.                                                                                                                                                | \t341813481343000822                                                 |\n",
    "|receipt_status\t| Success status of the transaction. Either 1 (success) or 0 (failure).\t                                                                                                                               | 1                                                                   |\n",
    "|gas\t| The maximum amount of gas allocated for this transaction in wei.\t                                                                                                                                    | 209392                                                              |\n",
    "|gas_price\t| Cost per unit of gas specified by the transaction in wei. The higher the gas price, the higher chance of getting included in a block.\t                                                               | 6545492045                                                          |\n",
    "|receipt_gas_used\t| Gas consumed by the transaction in wei.\t                                                                                                                                                             | 150272                                                              |\n",
    "|max_fee_per_gas\t| The maximum fee per gas that the transaction sender is willing to pay for this transaction (introduced in EIP1559)\t                                                                                  | 10293849223                                                         |\n",
    "|max_priority_fee_per_gas\t| The maximum fee per gas the transaction sender is willing to give to validators (Proof of Stake) or miners (Proof of Work) to incentivize them to include their transaction (introduced in EIP1559)\t | 2000000000                                                          |\n",
    "|transaction_index\t| The position of this transaction in the block that it belongs to. The first transaction has index 0.                                                                                                 | \t62                                                                 |\n",
    "|nonce\t| The transaction nonce, unique to the wallet                                                                                                                                                          | \t203                                                                |"
   ]
  },
  {
   "cell_type": "markdown",
   "id": "2deab510",
   "metadata": {},
   "source": [
    "## Data Cleaning and EDA:\n",
    "Our objective is to define one or more simple heuristics that can identify honest transactions with high accuracy. Total transaction count by different users is also not normally distributed. The small minority submit the vast majority of transactions. It's import for our sample to be representative of the population of unique transaction senders, and to not overweight a single individual who might send thousands or even hundreds of thousands of transactions.\n",
    "\n",
    "To do this, we will stratify our sample and randomly select within the strata. Before we do that, we must complete some exploratory data analysis to determine what appropriate stratification for the population of data might be.\n",
    "\n",
    "However, because this is time series data with hundreds of millions of records (if not more), we need to summarize the data such that it is possible for a query to execute in reasonable time. To begin, let's determine the total number of transactions and unique addresses transacting in the period. We will summarize this data in intervals, and observe the resulting histogram to determine the portion of transactions that fall within arbitrary buckets.\n",
    "\n",
    "Because the dataset is too large to directly import into the jupyter notebook, the below output is the result of an SQL query run on the Allium platform."
   ]
  },
  {
   "cell_type": "markdown",
   "id": "9afe11b6",
   "metadata": {},
   "source": [
    "## Population Sizing\n",
    "First we will get the population of all transactions, then we will filter out all transactions originated by entities other than Externally Owned Accounts. Then we will filter again by distinct originating addresses to arrive at our population of Unique Addresses and transactions in the period."
   ]
  },
  {
   "cell_type": "code",
   "execution_count": 2,
   "id": "8605d39b",
   "metadata": {
    "ExecuteTime": {
     "end_time": "2023-04-05T22:54:30.009726Z",
     "start_time": "2023-04-05T22:54:29.932754Z"
    }
   },
   "outputs": [
    {
     "data": {
      "text/html": [
       "<div>\n",
       "<style scoped>\n",
       "    .dataframe tbody tr th:only-of-type {\n",
       "        vertical-align: middle;\n",
       "    }\n",
       "\n",
       "    .dataframe tbody tr th {\n",
       "        vertical-align: top;\n",
       "    }\n",
       "\n",
       "    .dataframe thead th {\n",
       "        text-align: right;\n",
       "    }\n",
       "</style>\n",
       "<table border=\"1\" class=\"dataframe\">\n",
       "  <thead>\n",
       "    <tr style=\"text-align: right;\">\n",
       "      <th></th>\n",
       "      <th>filter</th>\n",
       "      <th>count</th>\n",
       "    </tr>\n",
       "  </thead>\n",
       "  <tbody>\n",
       "    <tr>\n",
       "      <th>0</th>\n",
       "      <td>Total Transactions</td>\n",
       "      <td>852808230</td>\n",
       "    </tr>\n",
       "    <tr>\n",
       "      <th>1</th>\n",
       "      <td>Unique Senders</td>\n",
       "      <td>77212235</td>\n",
       "    </tr>\n",
       "    <tr>\n",
       "      <th>2</th>\n",
       "      <td>Unique Human Senders</td>\n",
       "      <td>52301378</td>\n",
       "    </tr>\n",
       "  </tbody>\n",
       "</table>\n",
       "</div>"
      ],
      "text/plain": [
       "                 filter      count\n",
       "0    Total Transactions  852808230\n",
       "1        Unique Senders   77212235\n",
       "2  Unique Human Senders   52301378"
      ]
     },
     "execution_count": 2,
     "metadata": {},
     "output_type": "execute_result"
    }
   ],
   "source": [
    "import pandas as pd\n",
    "data = [{\"filter\":\"Total Transactions\",\"count\":852808230},\n",
    "        {\"filter\":\"Unique Senders\", \"count\": 77212235},\n",
    "        {\"filter\":\"Unique Human Senders\", \"count\": 52301378}]\n",
    "df = pd.DataFrame(data)\n",
    "df"
   ]
  },
  {
   "cell_type": "code",
   "execution_count": 3,
   "id": "7cf64159",
   "metadata": {
    "ExecuteTime": {
     "end_time": "2023-04-05T22:54:30.013493Z",
     "start_time": "2023-04-05T22:54:29.938258Z"
    }
   },
   "outputs": [
    {
     "data": {
      "image/png": "[encoded data removed]",
      "text/plain": [
       "<Figure size 640x480 with 1 Axes>"
      ]
     },
     "metadata": {},
     "output_type": "display_data"
    }
   ],
   "source": [
    "import matplotlib.pyplot as plt\n",
    "\n",
    "filter = [item[\"filter\"] for item in data]\n",
    "count = [item[\"count\"] for item in data]\n",
    "\n",
    "plt.bar(filter, count)\n",
    "plt.xlabel(\"Population Summary\")\n",
    "plt.ylabel(\"Count\")\n",
    "plt.title(\"Total addresses vs cleaned addresses\")\n",
    "plt.show()"
   ]
  },
  {
   "cell_type": "markdown",
   "id": "ab1314f7",
   "metadata": {},
   "source": [
    "\n",
    "## Current Balance Data Visualization"
   ]
  },
  {
   "cell_type": "code",
   "execution_count": 4,
   "id": "09bf5d9e",
   "metadata": {
    "ExecuteTime": {
     "end_time": "2023-04-05T22:54:30.013599Z",
     "start_time": "2023-04-05T22:54:29.997276Z"
    }
   },
   "outputs": [],
   "source": [
    "\n",
    "data = [{\"eth_holdings\":\"0-0.1 ETH\",\"address_count\":48062697},{\"eth_holdings\":\"0.1-1 ETH\",\"address_count\":1659033},{\"eth_holdings\":\"1-10 ETH\",\"address_count\":603474},{\"eth_holdings\":\"10-100 ETH\",\"address_count\":151623},{\"eth_holdings\":\">100 ETH\",\"address_count\":25693}]\n",
    "df = pd.DataFrame(data)"
   ]
  },
  {
   "cell_type": "code",
   "execution_count": 5,
   "id": "13986ed3",
   "metadata": {
    "ExecuteTime": {
     "end_time": "2023-04-05T22:54:30.013696Z",
     "start_time": "2023-04-05T22:54:30.001112Z"
    }
   },
   "outputs": [
    {
     "data": {
      "text/html": [
       "<div>\n",
       "<style scoped>\n",
       "    .dataframe tbody tr th:only-of-type {\n",
       "        vertical-align: middle;\n",
       "    }\n",
       "\n",
       "    .dataframe tbody tr th {\n",
       "        vertical-align: top;\n",
       "    }\n",
       "\n",
       "    .dataframe thead th {\n",
       "        text-align: right;\n",
       "    }\n",
       "</style>\n",
       "<table border=\"1\" class=\"dataframe\">\n",
       "  <thead>\n",
       "    <tr style=\"text-align: right;\">\n",
       "      <th></th>\n",
       "      <th>eth_holdings</th>\n",
       "      <th>address_count</th>\n",
       "    </tr>\n",
       "  </thead>\n",
       "  <tbody>\n",
       "    <tr>\n",
       "      <th>0</th>\n",
       "      <td>0-0.1 ETH</td>\n",
       "      <td>48062697</td>\n",
       "    </tr>\n",
       "    <tr>\n",
       "      <th>1</th>\n",
       "      <td>0.1-1 ETH</td>\n",
       "      <td>1659033</td>\n",
       "    </tr>\n",
       "    <tr>\n",
       "      <th>2</th>\n",
       "      <td>1-10 ETH</td>\n",
       "      <td>603474</td>\n",
       "    </tr>\n",
       "    <tr>\n",
       "      <th>3</th>\n",
       "      <td>10-100 ETH</td>\n",
       "      <td>151623</td>\n",
       "    </tr>\n",
       "    <tr>\n",
       "      <th>4</th>\n",
       "      <td>&gt;100 ETH</td>\n",
       "      <td>25693</td>\n",
       "    </tr>\n",
       "  </tbody>\n",
       "</table>\n",
       "</div>"
      ],
      "text/plain": [
       "  eth_holdings  address_count\n",
       "0    0-0.1 ETH       48062697\n",
       "1    0.1-1 ETH        1659033\n",
       "2     1-10 ETH         603474\n",
       "3   10-100 ETH         151623\n",
       "4     >100 ETH          25693"
      ]
     },
     "execution_count": 5,
     "metadata": {},
     "output_type": "execute_result"
    }
   ],
   "source": [
    "df"
   ]
  },
  {
   "cell_type": "code",
   "execution_count": 6,
   "id": "e2758ca3",
   "metadata": {
    "ExecuteTime": {
     "end_time": "2023-04-05T22:54:30.013774Z",
     "start_time": "2023-04-05T22:54:30.004353Z"
    }
   },
   "outputs": [
    {
     "data": {
      "text/plain": [
       "Index(['eth_holdings', 'address_count'], dtype='object')"
      ]
     },
     "execution_count": 6,
     "metadata": {},
     "output_type": "execute_result"
    }
   ],
   "source": [
    "df.columns"
   ]
  },
  {
   "cell_type": "code",
   "execution_count": 7,
   "id": "56c9dedd",
   "metadata": {
    "ExecuteTime": {
     "end_time": "2023-04-05T22:54:30.134662Z",
     "start_time": "2023-04-05T22:54:30.008858Z"
    }
   },
   "outputs": [
    {
     "data": {
      "image/png": "[encoded data removed]",
      "text/plain": [
       "<Figure size 640x480 with 1 Axes>"
      ]
     },
     "metadata": {},
     "output_type": "display_data"
    }
   ],
   "source": [
    "import matplotlib.pyplot as plt\n",
    "\n",
    "eth_holdings = [item[\"eth_holdings\"] for item in data]\n",
    "address_count = [item[\"address_count\"] for item in data]\n",
    "\n",
    "plt.bar(eth_holdings, address_count)\n",
    "plt.xlabel(\"ETH Holdings\")\n",
    "plt.ylabel(\"Address Count\")\n",
    "plt.yscale(\"log\")\n",
    "plt.title(\"Histogram of ETH Holdings\")\n",
    "plt.show()"
   ]
  },
  {
   "cell_type": "markdown",
   "id": "ebac1d64",
   "metadata": {},
   "source": [
    "The above histogram shows the distribution of current ethereum balances (in log scale) for all wallets that transacted in the period ."
   ]
  },
  {
   "cell_type": "markdown",
   "id": "9f6d7ad3",
   "metadata": {},
   "source": [
    "## Total transaction count data visualization\n"
   ]
  },
  {
   "cell_type": "code",
   "execution_count": 19,
   "id": "68dfc423",
   "metadata": {
    "ExecuteTime": {
     "end_time": "2023-04-05T22:54:30.138974Z",
     "start_time": "2023-04-05T22:54:30.137080Z"
    }
   },
   "outputs": [
    {
     "data": {
      "text/html": [
       "<div>\n",
       "<style scoped>\n",
       "    .dataframe tbody tr th:only-of-type {\n",
       "        vertical-align: middle;\n",
       "    }\n",
       "\n",
       "    .dataframe tbody tr th {\n",
       "        vertical-align: top;\n",
       "    }\n",
       "\n",
       "    .dataframe thead th {\n",
       "        text-align: right;\n",
       "    }\n",
       "</style>\n",
       "<table border=\"1\" class=\"dataframe\">\n",
       "  <thead>\n",
       "    <tr style=\"text-align: right;\">\n",
       "      <th></th>\n",
       "      <th>txn_count</th>\n",
       "      <th>address_count</th>\n",
       "    </tr>\n",
       "  </thead>\n",
       "  <tbody>\n",
       "    <tr>\n",
       "      <th>0</th>\n",
       "      <td>0. 0</td>\n",
       "      <td>74701</td>\n",
       "    </tr>\n",
       "    <tr>\n",
       "      <th>1</th>\n",
       "      <td>b. 1-10 txns</td>\n",
       "      <td>211109</td>\n",
       "    </tr>\n",
       "    <tr>\n",
       "      <th>2</th>\n",
       "      <td>c. 11-100 txns</td>\n",
       "      <td>191531</td>\n",
       "    </tr>\n",
       "    <tr>\n",
       "      <th>3</th>\n",
       "      <td>d. 101-1000 txns</td>\n",
       "      <td>114627</td>\n",
       "    </tr>\n",
       "    <tr>\n",
       "      <th>4</th>\n",
       "      <td>e. &gt;1000 txns</td>\n",
       "      <td>21348</td>\n",
       "    </tr>\n",
       "    <tr>\n",
       "      <th>5</th>\n",
       "      <td>sum</td>\n",
       "      <td>613316</td>\n",
       "    </tr>\n",
       "  </tbody>\n",
       "</table>\n",
       "</div>"
      ],
      "text/plain": [
       "          txn_count  address_count\n",
       "0              0. 0          74701\n",
       "1      b. 1-10 txns         211109\n",
       "2    c. 11-100 txns         191531\n",
       "3  d. 101-1000 txns         114627\n",
       "4     e. >1000 txns          21348\n",
       "5               sum         613316"
      ]
     },
     "execution_count": 19,
     "metadata": {},
     "output_type": "execute_result"
    }
   ],
   "source": [
    "data=[{\"txn_count\":\"0. 0\",\"address_count\":74701}\n",
    "      ,{\"txn_count\":\"b. 1-10 txns\",\"address_count\":211109}\n",
    "      ,{\"txn_count\":\"c. 11-100 txns\",\"address_count\":191531}\n",
    "      ,{\"txn_count\":\"d. 101-1000 txns\",\"address_count\":114627}\n",
    "      ,{\"txn_count\":\"e. >1000 txns\",\"address_count\":21348}\n",
    "      ,{\"txn_count\":\"sum\",\"address_count\":613316}]\n",
    "df = pd.DataFrame(data)\n",
    "df"
   ]
  },
  {
   "cell_type": "code",
   "execution_count": 20,
   "id": "0baa11bb",
   "metadata": {
    "ExecuteTime": {
     "end_time": "2023-04-05T22:54:30.230467Z",
     "start_time": "2023-04-05T22:54:30.143680Z"
    }
   },
   "outputs": [
    {
     "data": {
      "text/plain": [
       "Text(0.5, 1.0, 'Histogram of Transaction Counts')"
      ]
     },
     "execution_count": 20,
     "metadata": {},
     "output_type": "execute_result"
    },
    {
     "data": {
      "image/png": "[encoded data removed]",
      "text/plain": [
       "<Figure size 640x480 with 1 Axes>"
      ]
     },
     "metadata": {},
     "output_type": "display_data"
    }
   ],
   "source": [
    "import matplotlib.pyplot as plt\n",
    "\n",
    "tx_counts = [item[\"txn_count\"] for item in data[:-1]]\n",
    "address_count = [item[\"address_count\"] for item in data[:-1]]\n",
    "\n",
    "plt.bar(tx_counts, address_count)\n",
    "plt.xlabel(\"Lifetime Transactions\")\n",
    "plt.ylabel(\"Address Count\")\n",
    "plt.title(\"Histogram of Transaction Counts\")"
   ]
  },
  {
   "cell_type": "markdown",
   "id": "06a2715b",
   "metadata": {},
   "source": [
    "A histogram of the lifetime transaction count of all transacting addresses in the period"
   ]
  },
  {
   "cell_type": "code",
   "execution_count": null,
   "id": "22850913",
   "metadata": {
    "ExecuteTime": {
     "end_time": "2023-04-05T22:54:30.230598Z",
     "start_time": "2023-04-05T22:54:30.217314Z"
    }
   },
   "outputs": [],
   "source": [
    "from IPython.display import Image\n",
    "\n",
    "# Replace 'image_file_path' with the relative path of your image file\n",
    "image_file_path = 'path/to/your/image.png'\n",
    "\n",
    "# Display the image in the notebook\n",
    "Image(filename='img/Unique_Address_Count.png')"
   ]
  },
  {
   "cell_type": "markdown",
   "id": "3f458f1a",
   "metadata": {},
   "source": [
    "## Sample Size Selection:\n",
    "We use Cochran's formula = Z^2 * p ( 1 - p)/ MoE^2. This would give us an extremely conservative estimate\n",
    "Z = 3 (there is an extremely high cost to being wrong, so we want our metrics to be > 99% accurate\n",
    "p = .5 (We do not know the actual probability of a transaction sender being honest, so we take the most conservative estimate)\n",
    "MoE = .01 (We want our precision to, again, be very high, because the cost of error is lost revenue, and therefore should be minimized to the degree possible)\n",
    "\n",
    "A comment on error. Our concern would be that we determine a transaction to be a good transaction when, in fact, it was a malicious transaction.\n",
    "\n",
    "1.96^2 * (.5*(1-.5))/(.01^2) = 9604\n",
    "\n",
    "For our sample, we will then randomly sample a total of 7500 addresses from a stratified popualtion"
   ]
  },
  {
   "cell_type": "code",
   "execution_count": 22,
   "id": "dcd08cdb",
   "metadata": {
    "scrolled": true
   },
   "outputs": [
    {
     "data": {
      "text/html": [
       "<div>\n",
       "<style scoped>\n",
       "    .dataframe tbody tr th:only-of-type {\n",
       "        vertical-align: middle;\n",
       "    }\n",
       "\n",
       "    .dataframe tbody tr th {\n",
       "        vertical-align: top;\n",
       "    }\n",
       "\n",
       "    .dataframe thead th {\n",
       "        text-align: right;\n",
       "    }\n",
       "</style>\n",
       "<table border=\"1\" class=\"dataframe\">\n",
       "  <thead>\n",
       "    <tr style=\"text-align: right;\">\n",
       "      <th></th>\n",
       "      <th>from_address</th>\n",
       "      <th>rn</th>\n",
       "      <th>total_count</th>\n",
       "      <th>address</th>\n",
       "      <th>bytecode</th>\n",
       "      <th>block_timestamp</th>\n",
       "      <th>block_number</th>\n",
       "      <th>block_hash</th>\n",
       "      <th>transaction_hash</th>\n",
       "      <th>deployer</th>\n",
       "    </tr>\n",
       "  </thead>\n",
       "  <tbody>\n",
       "    <tr>\n",
       "      <th>0</th>\n",
       "      <td>0x0d5a4d9ef11d4b69bb1b3eb5bb72312f41e6a7e5</td>\n",
       "      <td>4370</td>\n",
       "      <td>77212235</td>\n",
       "      <td>NaN</td>\n",
       "      <td>NaN</td>\n",
       "      <td>NaN</td>\n",
       "      <td>NaN</td>\n",
       "      <td>NaN</td>\n",
       "      <td>NaN</td>\n",
       "      <td>NaN</td>\n",
       "    </tr>\n",
       "    <tr>\n",
       "      <th>1</th>\n",
       "      <td>0x631e52873b49d4ff38d7585f89177152a836294b</td>\n",
       "      <td>2487</td>\n",
       "      <td>77212235</td>\n",
       "      <td>NaN</td>\n",
       "      <td>NaN</td>\n",
       "      <td>NaN</td>\n",
       "      <td>NaN</td>\n",
       "      <td>NaN</td>\n",
       "      <td>NaN</td>\n",
       "      <td>NaN</td>\n",
       "    </tr>\n",
       "    <tr>\n",
       "      <th>2</th>\n",
       "      <td>0x5e11131bfe64dcf7d9a499a944886b01ab556853</td>\n",
       "      <td>3304</td>\n",
       "      <td>77212235</td>\n",
       "      <td>NaN</td>\n",
       "      <td>NaN</td>\n",
       "      <td>NaN</td>\n",
       "      <td>NaN</td>\n",
       "      <td>NaN</td>\n",
       "      <td>NaN</td>\n",
       "      <td>NaN</td>\n",
       "    </tr>\n",
       "    <tr>\n",
       "      <th>3</th>\n",
       "      <td>0xa4ec3b0e86bf9b831e433c67cd558adfcdf41cf5</td>\n",
       "      <td>3439</td>\n",
       "      <td>77212235</td>\n",
       "      <td>NaN</td>\n",
       "      <td>NaN</td>\n",
       "      <td>NaN</td>\n",
       "      <td>NaN</td>\n",
       "      <td>NaN</td>\n",
       "      <td>NaN</td>\n",
       "      <td>NaN</td>\n",
       "    </tr>\n",
       "    <tr>\n",
       "      <th>4</th>\n",
       "      <td>0xa45b5c7ff401f037796c4dcf2b82b92178c7605f</td>\n",
       "      <td>939</td>\n",
       "      <td>77212235</td>\n",
       "      <td>NaN</td>\n",
       "      <td>NaN</td>\n",
       "      <td>NaN</td>\n",
       "      <td>NaN</td>\n",
       "      <td>NaN</td>\n",
       "      <td>NaN</td>\n",
       "      <td>NaN</td>\n",
       "    </tr>\n",
       "    <tr>\n",
       "      <th>...</th>\n",
       "      <td>...</td>\n",
       "      <td>...</td>\n",
       "      <td>...</td>\n",
       "      <td>...</td>\n",
       "      <td>...</td>\n",
       "      <td>...</td>\n",
       "      <td>...</td>\n",
       "      <td>...</td>\n",
       "      <td>...</td>\n",
       "      <td>...</td>\n",
       "    </tr>\n",
       "    <tr>\n",
       "      <th>9599</th>\n",
       "      <td>0x7592b5a3dc865d0be27f4e6bef7a28625f2de8bd</td>\n",
       "      <td>4366</td>\n",
       "      <td>77212235</td>\n",
       "      <td>NaN</td>\n",
       "      <td>NaN</td>\n",
       "      <td>NaN</td>\n",
       "      <td>NaN</td>\n",
       "      <td>NaN</td>\n",
       "      <td>NaN</td>\n",
       "      <td>NaN</td>\n",
       "    </tr>\n",
       "    <tr>\n",
       "      <th>9600</th>\n",
       "      <td>0x6253f3eefb16a75a2f894f286132e52832066e50</td>\n",
       "      <td>5212</td>\n",
       "      <td>77212235</td>\n",
       "      <td>NaN</td>\n",
       "      <td>NaN</td>\n",
       "      <td>NaN</td>\n",
       "      <td>NaN</td>\n",
       "      <td>NaN</td>\n",
       "      <td>NaN</td>\n",
       "      <td>NaN</td>\n",
       "    </tr>\n",
       "    <tr>\n",
       "      <th>9601</th>\n",
       "      <td>0x3142594707755f7eac80bb86a1895daadddde46b</td>\n",
       "      <td>7971</td>\n",
       "      <td>77212235</td>\n",
       "      <td>NaN</td>\n",
       "      <td>NaN</td>\n",
       "      <td>NaN</td>\n",
       "      <td>NaN</td>\n",
       "      <td>NaN</td>\n",
       "      <td>NaN</td>\n",
       "      <td>NaN</td>\n",
       "    </tr>\n",
       "    <tr>\n",
       "      <th>9602</th>\n",
       "      <td>0x0ada659aa31b6f5c6c76583b5cf2733a5885f9fa</td>\n",
       "      <td>9270</td>\n",
       "      <td>77212235</td>\n",
       "      <td>NaN</td>\n",
       "      <td>NaN</td>\n",
       "      <td>NaN</td>\n",
       "      <td>NaN</td>\n",
       "      <td>NaN</td>\n",
       "      <td>NaN</td>\n",
       "      <td>NaN</td>\n",
       "    </tr>\n",
       "    <tr>\n",
       "      <th>9603</th>\n",
       "      <td>0x2471f83d7eb2702d269bca522768f5cf4cdbc092</td>\n",
       "      <td>792</td>\n",
       "      <td>77212235</td>\n",
       "      <td>NaN</td>\n",
       "      <td>NaN</td>\n",
       "      <td>NaN</td>\n",
       "      <td>NaN</td>\n",
       "      <td>NaN</td>\n",
       "      <td>NaN</td>\n",
       "      <td>NaN</td>\n",
       "    </tr>\n",
       "  </tbody>\n",
       "</table>\n",
       "<p>9604 rows × 10 columns</p>\n",
       "</div>"
      ],
      "text/plain": [
       "                                    from_address    rn  total_count  address  \\\n",
       "0     0x0d5a4d9ef11d4b69bb1b3eb5bb72312f41e6a7e5  4370     77212235      NaN   \n",
       "1     0x631e52873b49d4ff38d7585f89177152a836294b  2487     77212235      NaN   \n",
       "2     0x5e11131bfe64dcf7d9a499a944886b01ab556853  3304     77212235      NaN   \n",
       "3     0xa4ec3b0e86bf9b831e433c67cd558adfcdf41cf5  3439     77212235      NaN   \n",
       "4     0xa45b5c7ff401f037796c4dcf2b82b92178c7605f   939     77212235      NaN   \n",
       "...                                          ...   ...          ...      ...   \n",
       "9599  0x7592b5a3dc865d0be27f4e6bef7a28625f2de8bd  4366     77212235      NaN   \n",
       "9600  0x6253f3eefb16a75a2f894f286132e52832066e50  5212     77212235      NaN   \n",
       "9601  0x3142594707755f7eac80bb86a1895daadddde46b  7971     77212235      NaN   \n",
       "9602  0x0ada659aa31b6f5c6c76583b5cf2733a5885f9fa  9270     77212235      NaN   \n",
       "9603  0x2471f83d7eb2702d269bca522768f5cf4cdbc092   792     77212235      NaN   \n",
       "\n",
       "      bytecode  block_timestamp  block_number  block_hash  transaction_hash  \\\n",
       "0          NaN              NaN           NaN         NaN               NaN   \n",
       "1          NaN              NaN           NaN         NaN               NaN   \n",
       "2          NaN              NaN           NaN         NaN               NaN   \n",
       "3          NaN              NaN           NaN         NaN               NaN   \n",
       "4          NaN              NaN           NaN         NaN               NaN   \n",
       "...        ...              ...           ...         ...               ...   \n",
       "9599       NaN              NaN           NaN         NaN               NaN   \n",
       "9600       NaN              NaN           NaN         NaN               NaN   \n",
       "9601       NaN              NaN           NaN         NaN               NaN   \n",
       "9602       NaN              NaN           NaN         NaN               NaN   \n",
       "9603       NaN              NaN           NaN         NaN               NaN   \n",
       "\n",
       "      deployer  \n",
       "0          NaN  \n",
       "1          NaN  \n",
       "2          NaN  \n",
       "3          NaN  \n",
       "4          NaN  \n",
       "...        ...  \n",
       "9599       NaN  \n",
       "9600       NaN  \n",
       "9601       NaN  \n",
       "9602       NaN  \n",
       "9603       NaN  \n",
       "\n",
       "[9604 rows x 10 columns]"
      ]
     },
     "execution_count": 22,
     "metadata": {},
     "output_type": "execute_result"
    }
   ],
   "source": [
    "df = pd.read_csv('./sample_addresses.csv')"
   ]
  },
  {
   "cell_type": "code",
   "execution_count": 35,
   "id": "87a87b08",
   "metadata": {},
   "outputs": [
    {
     "name": "stdout",
     "output_type": "stream",
     "text": [
      "200 {\"run_id\":\"EpqMe3nJcqApGcytqdNA\"}\n",
      "Query run created with ID: EpqMe3nJcqApGcytqdNA\n",
      "200 {\"run_id\":\"mKu3j3PcpeOkfMFygCHT\"}\n",
      "Query run created with ID: mKu3j3PcpeOkfMFygCHT\n",
      "200 {\"run_id\":\"wrMWgh8EqZMhSDMAXSIE\"}\n",
      "Query run created with ID: wrMWgh8EqZMhSDMAXSIE\n",
      "200 {\"run_id\":\"3dNkXdapGBjzgDeDdW44\"}\n",
      "Query run created with ID: 3dNkXdapGBjzgDeDdW44\n",
      "200 {\"run_id\":\"ouxA9mWdH9ztlRGS3Bvy\"}\n",
      "Query run created with ID: ouxA9mWdH9ztlRGS3Bvy\n",
      "Query returned 2 rows, with fields: hash, nonce, transaction_index, from_address, to_address, value, gas, gas_price, input, receipt_cumulative_gas_used, receipt_gas_used, receipt_contract_address, receipt_root, receipt_status, block_timestamp, block_number, block_hash, max_fee_per_gas, max_priority_fee_per_gas, transaction_type, receipt_effective_gas_price\n",
      "Current status: running. Waiting 1s...\n"
     ]
    },
    {
     "ename": "JSONDecodeError",
     "evalue": "Expecting value: line 1 column 1 (char 0)",
     "output_type": "error",
     "traceback": [
      "\u001b[0;31m---------------------------------------------------------------------------\u001b[0m",
      "\u001b[0;31mJSONDecodeError\u001b[0m                           Traceback (most recent call last)",
      "File \u001b[0;32m~/anaconda3/lib/python3.9/site-packages/requests/models.py:971\u001b[0m, in \u001b[0;36mResponse.json\u001b[0;34m(self, **kwargs)\u001b[0m\n\u001b[1;32m    970\u001b[0m \u001b[38;5;28;01mtry\u001b[39;00m:\n\u001b[0;32m--> 971\u001b[0m     \u001b[38;5;28;01mreturn\u001b[39;00m \u001b[43mcomplexjson\u001b[49m\u001b[38;5;241;43m.\u001b[39;49m\u001b[43mloads\u001b[49m\u001b[43m(\u001b[49m\u001b[38;5;28;43mself\u001b[39;49m\u001b[38;5;241;43m.\u001b[39;49m\u001b[43mtext\u001b[49m\u001b[43m,\u001b[49m\u001b[43m \u001b[49m\u001b[38;5;241;43m*\u001b[39;49m\u001b[38;5;241;43m*\u001b[39;49m\u001b[43mkwargs\u001b[49m\u001b[43m)\u001b[49m\n\u001b[1;32m    972\u001b[0m \u001b[38;5;28;01mexcept\u001b[39;00m JSONDecodeError \u001b[38;5;28;01mas\u001b[39;00m e:\n\u001b[1;32m    973\u001b[0m     \u001b[38;5;66;03m# Catch JSON-related errors and raise as requests.JSONDecodeError\u001b[39;00m\n\u001b[1;32m    974\u001b[0m     \u001b[38;5;66;03m# This aliases json.JSONDecodeError and simplejson.JSONDecodeError\u001b[39;00m\n",
      "File \u001b[0;32m~/anaconda3/lib/python3.9/json/__init__.py:346\u001b[0m, in \u001b[0;36mloads\u001b[0;34m(s, cls, object_hook, parse_float, parse_int, parse_constant, object_pairs_hook, **kw)\u001b[0m\n\u001b[1;32m    343\u001b[0m \u001b[38;5;28;01mif\u001b[39;00m (\u001b[38;5;28mcls\u001b[39m \u001b[38;5;129;01mis\u001b[39;00m \u001b[38;5;28;01mNone\u001b[39;00m \u001b[38;5;129;01mand\u001b[39;00m object_hook \u001b[38;5;129;01mis\u001b[39;00m \u001b[38;5;28;01mNone\u001b[39;00m \u001b[38;5;129;01mand\u001b[39;00m\n\u001b[1;32m    344\u001b[0m         parse_int \u001b[38;5;129;01mis\u001b[39;00m \u001b[38;5;28;01mNone\u001b[39;00m \u001b[38;5;129;01mand\u001b[39;00m parse_float \u001b[38;5;129;01mis\u001b[39;00m \u001b[38;5;28;01mNone\u001b[39;00m \u001b[38;5;129;01mand\u001b[39;00m\n\u001b[1;32m    345\u001b[0m         parse_constant \u001b[38;5;129;01mis\u001b[39;00m \u001b[38;5;28;01mNone\u001b[39;00m \u001b[38;5;129;01mand\u001b[39;00m object_pairs_hook \u001b[38;5;129;01mis\u001b[39;00m \u001b[38;5;28;01mNone\u001b[39;00m \u001b[38;5;129;01mand\u001b[39;00m \u001b[38;5;129;01mnot\u001b[39;00m kw):\n\u001b[0;32m--> 346\u001b[0m     \u001b[38;5;28;01mreturn\u001b[39;00m \u001b[43m_default_decoder\u001b[49m\u001b[38;5;241;43m.\u001b[39;49m\u001b[43mdecode\u001b[49m\u001b[43m(\u001b[49m\u001b[43ms\u001b[49m\u001b[43m)\u001b[49m\n\u001b[1;32m    347\u001b[0m \u001b[38;5;28;01mif\u001b[39;00m \u001b[38;5;28mcls\u001b[39m \u001b[38;5;129;01mis\u001b[39;00m \u001b[38;5;28;01mNone\u001b[39;00m:\n",
      "File \u001b[0;32m~/anaconda3/lib/python3.9/json/decoder.py:337\u001b[0m, in \u001b[0;36mJSONDecoder.decode\u001b[0;34m(self, s, _w)\u001b[0m\n\u001b[1;32m    333\u001b[0m \u001b[38;5;124;03m\"\"\"Return the Python representation of ``s`` (a ``str`` instance\u001b[39;00m\n\u001b[1;32m    334\u001b[0m \u001b[38;5;124;03mcontaining a JSON document).\u001b[39;00m\n\u001b[1;32m    335\u001b[0m \n\u001b[1;32m    336\u001b[0m \u001b[38;5;124;03m\"\"\"\u001b[39;00m\n\u001b[0;32m--> 337\u001b[0m obj, end \u001b[38;5;241m=\u001b[39m \u001b[38;5;28;43mself\u001b[39;49m\u001b[38;5;241;43m.\u001b[39;49m\u001b[43mraw_decode\u001b[49m\u001b[43m(\u001b[49m\u001b[43ms\u001b[49m\u001b[43m,\u001b[49m\u001b[43m \u001b[49m\u001b[43midx\u001b[49m\u001b[38;5;241;43m=\u001b[39;49m\u001b[43m_w\u001b[49m\u001b[43m(\u001b[49m\u001b[43ms\u001b[49m\u001b[43m,\u001b[49m\u001b[43m \u001b[49m\u001b[38;5;241;43m0\u001b[39;49m\u001b[43m)\u001b[49m\u001b[38;5;241;43m.\u001b[39;49m\u001b[43mend\u001b[49m\u001b[43m(\u001b[49m\u001b[43m)\u001b[49m\u001b[43m)\u001b[49m\n\u001b[1;32m    338\u001b[0m end \u001b[38;5;241m=\u001b[39m _w(s, end)\u001b[38;5;241m.\u001b[39mend()\n",
      "File \u001b[0;32m~/anaconda3/lib/python3.9/json/decoder.py:355\u001b[0m, in \u001b[0;36mJSONDecoder.raw_decode\u001b[0;34m(self, s, idx)\u001b[0m\n\u001b[1;32m    354\u001b[0m \u001b[38;5;28;01mexcept\u001b[39;00m \u001b[38;5;167;01mStopIteration\u001b[39;00m \u001b[38;5;28;01mas\u001b[39;00m err:\n\u001b[0;32m--> 355\u001b[0m     \u001b[38;5;28;01mraise\u001b[39;00m JSONDecodeError(\u001b[38;5;124m\"\u001b[39m\u001b[38;5;124mExpecting value\u001b[39m\u001b[38;5;124m\"\u001b[39m, s, err\u001b[38;5;241m.\u001b[39mvalue) \u001b[38;5;28;01mfrom\u001b[39;00m \u001b[38;5;28mNone\u001b[39m\n\u001b[1;32m    356\u001b[0m \u001b[38;5;28;01mreturn\u001b[39;00m obj, end\n",
      "\u001b[0;31mJSONDecodeError\u001b[0m: Expecting value: line 1 column 1 (char 0)",
      "\nDuring handling of the above exception, another exception occurred:\n",
      "\u001b[0;31mJSONDecodeError\u001b[0m                           Traceback (most recent call last)",
      "Cell \u001b[0;32mIn[35], line 27\u001b[0m\n\u001b[1;32m     21\u001b[0m \u001b[38;5;28;01mwhile\u001b[39;00m time\u001b[38;5;241m.\u001b[39mtime() \u001b[38;5;241m<\u001b[39m start \u001b[38;5;241m+\u001b[39m timeout:\n\u001b[1;32m     22\u001b[0m     response \u001b[38;5;241m=\u001b[39m requests\u001b[38;5;241m.\u001b[39mget(\n\u001b[1;32m     23\u001b[0m         \u001b[38;5;124mf\u001b[39m\u001b[38;5;124m\"\u001b[39m\u001b[38;5;124mhttps://api.allium.so/api/v1/explorer/query-runs/\u001b[39m\u001b[38;5;132;01m{\u001b[39;00mrun_id\u001b[38;5;132;01m}\u001b[39;00m\u001b[38;5;124m/status\u001b[39m\u001b[38;5;124m\"\u001b[39m,\n\u001b[1;32m     24\u001b[0m         headers\u001b[38;5;241m=\u001b[39m{\u001b[38;5;124m\"\u001b[39m\u001b[38;5;124mX-API-Key\u001b[39m\u001b[38;5;124m\"\u001b[39m: API_KEY},\n\u001b[1;32m     25\u001b[0m         timeout\u001b[38;5;241m=\u001b[39m\u001b[38;5;241m10\u001b[39m,\n\u001b[1;32m     26\u001b[0m     )\n\u001b[0;32m---> 27\u001b[0m     run_status \u001b[38;5;241m=\u001b[39m \u001b[43mresponse\u001b[49m\u001b[38;5;241;43m.\u001b[39;49m\u001b[43mjson\u001b[49m\u001b[43m(\u001b[49m\u001b[43m)\u001b[49m\n\u001b[1;32m     28\u001b[0m     \u001b[38;5;28;01mif\u001b[39;00m run_status \u001b[38;5;129;01mnot\u001b[39;00m \u001b[38;5;129;01min\u001b[39;00m [\u001b[38;5;124m\"\u001b[39m\u001b[38;5;124mcreated\u001b[39m\u001b[38;5;124m\"\u001b[39m, \u001b[38;5;124m\"\u001b[39m\u001b[38;5;124mqueued\u001b[39m\u001b[38;5;124m\"\u001b[39m, \u001b[38;5;124m\"\u001b[39m\u001b[38;5;124mrunning\u001b[39m\u001b[38;5;124m\"\u001b[39m]:\n\u001b[1;32m     29\u001b[0m         \u001b[38;5;28;01mbreak\u001b[39;00m\n",
      "File \u001b[0;32m~/anaconda3/lib/python3.9/site-packages/requests/models.py:975\u001b[0m, in \u001b[0;36mResponse.json\u001b[0;34m(self, **kwargs)\u001b[0m\n\u001b[1;32m    971\u001b[0m     \u001b[38;5;28;01mreturn\u001b[39;00m complexjson\u001b[38;5;241m.\u001b[39mloads(\u001b[38;5;28mself\u001b[39m\u001b[38;5;241m.\u001b[39mtext, \u001b[38;5;241m*\u001b[39m\u001b[38;5;241m*\u001b[39mkwargs)\n\u001b[1;32m    972\u001b[0m \u001b[38;5;28;01mexcept\u001b[39;00m JSONDecodeError \u001b[38;5;28;01mas\u001b[39;00m e:\n\u001b[1;32m    973\u001b[0m     \u001b[38;5;66;03m# Catch JSON-related errors and raise as requests.JSONDecodeError\u001b[39;00m\n\u001b[1;32m    974\u001b[0m     \u001b[38;5;66;03m# This aliases json.JSONDecodeError and simplejson.JSONDecodeError\u001b[39;00m\n\u001b[0;32m--> 975\u001b[0m     \u001b[38;5;28;01mraise\u001b[39;00m RequestsJSONDecodeError(e\u001b[38;5;241m.\u001b[39mmsg, e\u001b[38;5;241m.\u001b[39mdoc, e\u001b[38;5;241m.\u001b[39mpos)\n",
      "\u001b[0;31mJSONDecodeError\u001b[0m: Expecting value: line 1 column 1 (char 0)"
     ]
    }
   ],
   "source": [
    "import time\n",
    "import requests\n",
    "\n",
    "QUERY_ID = \"ieuP4ZH63m1hKjOZyvuW\"\n",
    "all_results = []\n",
    "\n",
    "for address in df.from_address[:5]:\n",
    "    response = requests.post(\n",
    "        f\"https://api.allium.so/api/v1/explorer/queries/{QUERY_ID}/run-async\",\n",
    "        json={\"parameters\": {\"sampleAddress\": f\"{address}\"}, \"run_config\": {\"limit\": 250000}},\n",
    "        headers={\"X-API-Key\": API_KEY},\n",
    "        timeout=10,\n",
    "    )\n",
    "    print(response.status_code, response.text)\n",
    "    run_id = response.json()[\"run_id\"]\n",
    "    print(f\"Query run created with ID: {run_id}\")\n",
    "    all_results.append(run_id)\n",
    "\n",
    "for run_id in all_results:\n",
    "    polling_interval, start, timeout = 1, time.time(), 20 * 60  # 20min timeout\n",
    "    while time.time() < start + timeout:\n",
    "        response = requests.get(\n",
    "            f\"https://api.allium.so/api/v1/explorer/query-runs/{run_id}/status\",\n",
    "            headers={\"X-API-Key\": API_KEY},\n",
    "            timeout=10,\n",
    "        )\n",
    "        run_status = response.json()\n",
    "        if run_status not in [\"created\", \"queued\", \"running\"]:\n",
    "            break\n",
    "        print(f\"Current status: {run_status}. Waiting {polling_interval}s...\")\n",
    "        time.sleep(polling_interval)\n",
    "\n",
    "    if run_status == \"success\":\n",
    "        response = requests.get(\n",
    "            f\"https://api.allium.so/api/v1/explorer/query-runs/{run_id}/results?f=json\",\n",
    "            headers={\"X-API-Key\": API_KEY},\n",
    "        )\n",
    "        results = response.json()\n",
    "        all_results.append(results)\n",
    "        print(\n",
    "            f\"Query returned {len(results['data'])} rows, with \"\n",
    "            f\"fields: {', '.join(column.get('name') for column in results['meta']['columns'])}\"\n",
    "        )\n",
    "    elif run_status == \"failed\":\n",
    "        response = requests.get(\n",
    "            f\"https://api.allium.so/api/v1/explorer/query-runs/{run_id}/error\",\n",
    "            headers={\"X-API-Key\": API_KEY},\n",
    "        )\n",
    "        error_message = response.json()\n",
    "        print(\n",
    "            f\"Query failed with error: {error_message}\"\n",
    "        )\n",
    "    else:\n",
    "        print(f\"Query run finished with status: {run_status}. No results.\")\n"
   ]
  },
  {
   "cell_type": "markdown",
   "id": "36b6818f",
   "metadata": {},
   "source": [
    "Population Stratification:\n",
    "We are interested in determining the stratification of population"
   ]
  },
  {
   "cell_type": "code",
   "execution_count": null,
   "id": "0b280003",
   "metadata": {},
   "outputs": [],
   "source": [
    "import requests\n",
    "import pandas as pd\n",
    "\n",
    "API_KEY = \"5uxdqImRdstj7NoqW8c0kuQWtlYkouWLzMHADiwvrCDxogFy6gB2LEtQLboq5qOrnwxym8C1pBZmRO1FIr4I8Q\"\n",
    "\n",
    "response = requests.post(\n",
    "\n",
    "    \"https://api.allium.so/api/v1/explorer/queries/pDveVdd1X7jzrl07r2wH/run\",\n",
    "\n",
    "    json={},\n",
    "\n",
    "    headers={\"X-API-Key\": \"5uxdqImRdstj7NoqW8c0kuQWtlYkouWLzMHADiwvrCDxogFy6gB2LEtQLboq5qOrnwxym8C1pBZmRO1FIr4I8Q\"},\n",
    "\n",
    ")\n",
    "\n",
    "\n",
    "run_id = response.json()[\"run_id\"]\n",
    "\n",
    "while True:\n",
    "    response = requests.get(\n",
    "        f\"https://api.allium.so/api/v1/explorer/query-runs/{run_id}/status\",\n",
    "        headers={\"X-API-Key\": API_KEY},\n",
    "    )\n",
    "    run_status = response.json()\n",
    "    if run_status == \"success\":\n",
    "        break\n",
    "    elif run_status == \"failed\" or run_status == \"canceled\":\n",
    "        raise f\"Failed with run status: {run_status}\"\n",
    "\n",
    "response = requests.get(\n",
    "    f\"https://api.allium.so/api/v1/explorer/query-runs/{run_id}/results?f=json\",\n",
    "    headers={\"X-API-Key\": API_KEY},\n",
    ")\n",
    "dict_contents = response.json()\n",
    "df = pd.DataFrame.from_dict(dict_contents['data'])"
   ]
  },
  {
   "cell_type": "code",
   "execution_count": null,
   "id": "69573039",
   "metadata": {
    "ExecuteTime": {
     "end_time": "2023-04-05T14:14:38.615910Z",
     "start_time": "2023-04-05T14:14:38.611743Z"
    }
   },
   "outputs": [],
   "source": [
    "len(response.json()['data'])"
   ]
  },
  {
   "cell_type": "code",
   "execution_count": null,
   "id": "648641e2",
   "metadata": {
    "ExecuteTime": {
     "end_time": "2023-04-05T14:02:10.683414Z",
     "start_time": "2023-04-05T14:02:10.453637Z"
    }
   },
   "outputs": [],
   "source": [
    "import requests\n",
    "\n",
    "response = requests.post(\n",
    "    f\"https://api.allium.so/api/v1/explorer/queries/L3lwyn29An71VIM9TGwg/run\",\n",
    "    json={\n",
    "        \"parameters\": {},\n",
    "        \"run_config\": {\n",
    "            \"limit\": 1000,\n",
    "        }\n",
    "    },\n",
    "    headers={\"X-API-Key\": \"5uxdqImRdstj7NoqW8c0kuQWtlYkouWLzMHADiwvrCDxogFy6gB2LEtQLboq5qOrnwxym8C1pBZmRO1FIr4I8Q\"},\n",
    ")\n",
    "\n",
    "print(response.json())"
   ]
  },
  {
   "cell_type": "code",
   "execution_count": null,
   "id": "8345db7d",
   "metadata": {
    "ExecuteTime": {
     "end_time": "2023-04-05T12:44:01.005435Z",
     "start_time": "2023-04-05T12:44:01.002843Z"
    }
   },
   "outputs": [],
   "source": [
    "len(response.json()['data'])"
   ]
  },
  {
   "cell_type": "code",
   "execution_count": null,
   "id": "5f4d31e5",
   "metadata": {},
   "outputs": [],
   "source": []
  }
 ],
 "metadata": {
  "kernelspec": {
   "display_name": "Python 3 (ipykernel)",
   "language": "python",
   "name": "python3"
  },
  "language_info": {
   "codemirror_mode": {
    "name": "ipython",
    "version": 3
   },
   "file_extension": ".py",
   "mimetype": "text/x-python",
   "name": "python",
   "nbconvert_exporter": "python",
   "pygments_lexer": "ipython3",
   "version": "3.9.15"
  }
 },
 "nbformat": 4,
 "nbformat_minor": 5
}
